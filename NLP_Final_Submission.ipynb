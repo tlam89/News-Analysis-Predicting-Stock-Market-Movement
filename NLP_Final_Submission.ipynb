{
 "cells": [
  {
   "cell_type": "markdown",
   "id": "sharing-belgium",
   "metadata": {
    "id": "sharing-belgium"
   },
   "source": [
    "# <center>Stock Market Prediction using Daily News</center>\n",
    "## <center>CS 6120: Final Project</center>\n"
   ]
  },
  {
   "cell_type": "markdown",
   "id": "alike-internship",
   "metadata": {
    "id": "alike-internship"
   },
   "source": [
    "### Data Extraction and Preprocessing"
   ]
  },
  {
   "cell_type": "code",
   "execution_count": 107,
   "id": "VgmcfFT4gT15",
   "metadata": {
    "colab": {
     "base_uri": "https://localhost:8080/"
    },
    "id": "VgmcfFT4gT15",
    "outputId": "fe356a31-1d03-40f8-d31e-fcd189ae76ed"
   },
   "outputs": [
    {
     "name": "stderr",
     "output_type": "stream",
     "text": [
      "[nltk_data] Downloading package stopwords to\n",
      "[nltk_data]     /Users/thaihuynh/nltk_data...\n",
      "[nltk_data]   Package stopwords is already up-to-date!\n",
      "[nltk_data] Downloading package vader_lexicon to\n",
      "[nltk_data]     /Users/thaihuynh/nltk_data...\n",
      "[nltk_data]   Package vader_lexicon is already up-to-date!\n",
      "[nltk_data] Downloading package wordnet to\n",
      "[nltk_data]     /Users/thaihuynh/nltk_data...\n",
      "[nltk_data]   Package wordnet is already up-to-date!\n"
     ]
    }
   ],
   "source": [
    "import random\n",
    "import pandas as pd\n",
    "import numpy as np\n",
    "import seaborn as sns\n",
    "import matplotlib.pyplot as plt\n",
    "%matplotlib inline\n",
    "\n",
    "\n",
    "import sklearn\n",
    "import sklearn.ensemble\n",
    "import sklearn.metrics\n",
    "from sklearn.model_selection import train_test_split\n",
    "from sklearn.feature_extraction.text import CountVectorizer\n",
    "from sklearn.decomposition import LatentDirichletAllocation\n",
    "from sklearn.feature_extraction.text import TfidfVectorizer\n",
    "from sklearn.decomposition import NMF\n",
    "from sklearn.pipeline import make_pipeline\n",
    "from sklearn.pipeline import Pipeline\n",
    "from sklearn.linear_model import LogisticRegression\n",
    "from sklearn.svm import SVC\n",
    "from sklearn.naive_bayes import MultinomialNB\n",
    "from sklearn.naive_bayes import BernoulliNB\n",
    "from sklearn.model_selection import GridSearchCV\n",
    "from sklearn import metrics\n",
    "\n",
    "\n",
    "import re \n",
    "import nltk\n",
    "nltk.download('stopwords')  \n",
    "nltk.download('vader_lexicon')\n",
    "nltk.download('wordnet')\n",
    "from nltk.sentiment import SentimentIntensityAnalyzer\n",
    "from nltk.corpus import stopwords\n",
    "from nltk.stem.porter import PorterStemmer\n",
    "from nltk.stem import WordNetLemmatizer\n",
    "\n",
    "\n",
    "#!pip install lime\n",
    "import lime\n",
    "from __future__ import print_function\n",
    "\n",
    "from gensim.utils import simple_preprocess\n",
    "from gensim.models import Word2Vec\n",
    "\n",
    "import tensorflow as tf\n",
    "from tensorflow import keras\n",
    "\n",
    "#!pip install keras-tuner\n",
    "import kerastuner\n",
    "from kerastuner import RandomSearch\n",
    "from keras import layers\n",
    "from keras.preprocessing.text import Tokenizer\n",
    "from keras.preprocessing.sequence import pad_sequences\n",
    "from keras.models import Sequential\n",
    "from keras.layers import Dense\n",
    "from keras.layers import Flatten\n",
    "from keras.layers import Embedding\n",
    "from keras.layers.convolutional import Conv1D\n",
    "from keras.layers.convolutional import MaxPooling1D"
   ]
  },
  {
   "cell_type": "code",
   "execution_count": null,
   "id": "lc-QbcQEgaFI",
   "metadata": {
    "colab": {
     "base_uri": "https://localhost:8080/",
     "height": 72,
     "resources": {
      "http://localhost:8080/nbextensions/google.colab/files.js": {
       "data": "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",
       "headers": [
        [
         "content-type",
         "application/javascript"
        ]
       ],
       "ok": true,
       "status": 200,
       "status_text": ""
      }
     }
    },
    "id": "lc-QbcQEgaFI",
    "outputId": "6f2c7be6-773a-4bb6-acbe-f30fc2c1d051"
   },
   "outputs": [],
   "source": [
    "# from google.colab import files\n",
    "# uploaded = files.upload()"
   ]
  },
  {
   "cell_type": "code",
   "execution_count": 2,
   "id": "hv4vpqeTf--B",
   "metadata": {
    "id": "hv4vpqeTf--B"
   },
   "outputs": [],
   "source": [
    "# import io\n",
    "# df = pd.read_csv(io.BytesIO(uploaded['Combined_News_DJIA.csv']))\n",
    "df = pd.read_csv('Combined_News_DJIA.csv')"
   ]
  },
  {
   "cell_type": "markdown",
   "id": "S7L9AofwZCEO",
   "metadata": {
    "id": "S7L9AofwZCEO"
   },
   "source": []
  },
  {
   "cell_type": "code",
   "execution_count": 3,
   "id": "smoking-source",
   "metadata": {
    "colab": {
     "base_uri": "https://localhost:8080/",
     "height": 683
    },
    "id": "smoking-source",
    "outputId": "cc3f9f01-9315-42e2-8c7f-a01e7b4f5324"
   },
   "outputs": [
    {
     "data": {
      "text/html": [
       "<div>\n",
       "<style scoped>\n",
       "    .dataframe tbody tr th:only-of-type {\n",
       "        vertical-align: middle;\n",
       "    }\n",
       "\n",
       "    .dataframe tbody tr th {\n",
       "        vertical-align: top;\n",
       "    }\n",
       "\n",
       "    .dataframe thead th {\n",
       "        text-align: right;\n",
       "    }\n",
       "</style>\n",
       "<table border=\"1\" class=\"dataframe\">\n",
       "  <thead>\n",
       "    <tr style=\"text-align: right;\">\n",
       "      <th></th>\n",
       "      <th>Date</th>\n",
       "      <th>Label</th>\n",
       "      <th>Top1</th>\n",
       "      <th>Top2</th>\n",
       "      <th>Top3</th>\n",
       "      <th>Top4</th>\n",
       "      <th>Top5</th>\n",
       "      <th>Top6</th>\n",
       "      <th>Top7</th>\n",
       "      <th>Top8</th>\n",
       "      <th>...</th>\n",
       "      <th>Top16</th>\n",
       "      <th>Top17</th>\n",
       "      <th>Top18</th>\n",
       "      <th>Top19</th>\n",
       "      <th>Top20</th>\n",
       "      <th>Top21</th>\n",
       "      <th>Top22</th>\n",
       "      <th>Top23</th>\n",
       "      <th>Top24</th>\n",
       "      <th>Top25</th>\n",
       "    </tr>\n",
       "  </thead>\n",
       "  <tbody>\n",
       "    <tr>\n",
       "      <th>0</th>\n",
       "      <td>2008-08-08</td>\n",
       "      <td>0</td>\n",
       "      <td>b\"Georgia 'downs two Russian warplanes' as cou...</td>\n",
       "      <td>b'BREAKING: Musharraf to be impeached.'</td>\n",
       "      <td>b'Russia Today: Columns of troops roll into So...</td>\n",
       "      <td>b'Russian tanks are moving towards the capital...</td>\n",
       "      <td>b\"Afghan children raped with 'impunity,' U.N. ...</td>\n",
       "      <td>b'150 Russian tanks have entered South Ossetia...</td>\n",
       "      <td>b\"Breaking: Georgia invades South Ossetia, Rus...</td>\n",
       "      <td>b\"The 'enemy combatent' trials are nothing but...</td>\n",
       "      <td>...</td>\n",
       "      <td>b'Georgia Invades South Ossetia - if Russia ge...</td>\n",
       "      <td>b'Al-Qaeda Faces Islamist Backlash'</td>\n",
       "      <td>b'Condoleezza Rice: \"The US would not act to p...</td>\n",
       "      <td>b'This is a busy day:  The European Union has ...</td>\n",
       "      <td>b\"Georgia will withdraw 1,000 soldiers from Ir...</td>\n",
       "      <td>b'Why the Pentagon Thinks Attacking Iran is a ...</td>\n",
       "      <td>b'Caucasus in crisis: Georgia invades South Os...</td>\n",
       "      <td>b'Indian shoe manufactory  - And again in a se...</td>\n",
       "      <td>b'Visitors Suffering from Mental Illnesses Ban...</td>\n",
       "      <td>b\"No Help for Mexico's Kidnapping Surge\"</td>\n",
       "    </tr>\n",
       "    <tr>\n",
       "      <th>1</th>\n",
       "      <td>2008-08-11</td>\n",
       "      <td>1</td>\n",
       "      <td>b'Why wont America and Nato help us? If they w...</td>\n",
       "      <td>b'Bush puts foot down on Georgian conflict'</td>\n",
       "      <td>b\"Jewish Georgian minister: Thanks to Israeli ...</td>\n",
       "      <td>b'Georgian army flees in disarray as Russians ...</td>\n",
       "      <td>b\"Olympic opening ceremony fireworks 'faked'\"</td>\n",
       "      <td>b'What were the Mossad with fraudulent New Zea...</td>\n",
       "      <td>b'Russia angered by Israeli military sale to G...</td>\n",
       "      <td>b'An American citizen living in S.Ossetia blam...</td>\n",
       "      <td>...</td>\n",
       "      <td>b'Israel and the US behind the Georgian aggres...</td>\n",
       "      <td>b'\"Do not believe TV, neither Russian nor Geor...</td>\n",
       "      <td>b'Riots are still going on in Montreal (Canada...</td>\n",
       "      <td>b'China to overtake US as largest manufacturer'</td>\n",
       "      <td>b'War in South Ossetia [PICS]'</td>\n",
       "      <td>b'Israeli Physicians Group Condemns State Tort...</td>\n",
       "      <td>b' Russia has just beaten the United States ov...</td>\n",
       "      <td>b'Perhaps *the* question about the Georgia - R...</td>\n",
       "      <td>b'Russia is so much better at war'</td>\n",
       "      <td>b\"So this is what it's come to: trading sex fo...</td>\n",
       "    </tr>\n",
       "    <tr>\n",
       "      <th>2</th>\n",
       "      <td>2008-08-12</td>\n",
       "      <td>0</td>\n",
       "      <td>b'Remember that adorable 9-year-old who sang a...</td>\n",
       "      <td>b\"Russia 'ends Georgia operation'\"</td>\n",
       "      <td>b'\"If we had no sexual harassment we would hav...</td>\n",
       "      <td>b\"Al-Qa'eda is losing support in Iraq because ...</td>\n",
       "      <td>b'Ceasefire in Georgia: Putin Outmaneuvers the...</td>\n",
       "      <td>b'Why Microsoft and Intel tried to kill the XO...</td>\n",
       "      <td>b'Stratfor: The Russo-Georgian War and the Bal...</td>\n",
       "      <td>b\"I'm Trying to Get a Sense of This Whole Geor...</td>\n",
       "      <td>...</td>\n",
       "      <td>b'U.S. troops still in Georgia (did you know t...</td>\n",
       "      <td>b'Why Russias response to Georgia was right'</td>\n",
       "      <td>b'Gorbachev accuses U.S. of making a \"serious ...</td>\n",
       "      <td>b'Russia, Georgia, and NATO: Cold War Two'</td>\n",
       "      <td>b'Remember that adorable 62-year-old who led y...</td>\n",
       "      <td>b'War in Georgia: The Israeli connection'</td>\n",
       "      <td>b'All signs point to the US encouraging Georgi...</td>\n",
       "      <td>b'Christopher King argues that the US and NATO...</td>\n",
       "      <td>b'America: The New Mexico?'</td>\n",
       "      <td>b\"BBC NEWS | Asia-Pacific | Extinction 'by man...</td>\n",
       "    </tr>\n",
       "    <tr>\n",
       "      <th>3</th>\n",
       "      <td>2008-08-13</td>\n",
       "      <td>0</td>\n",
       "      <td>b' U.S. refuses Israel weapons to attack Iran:...</td>\n",
       "      <td>b\"When the president ordered to attack Tskhinv...</td>\n",
       "      <td>b' Israel clears troops who killed Reuters cam...</td>\n",
       "      <td>b'Britain\\'s policy of being tough on drugs is...</td>\n",
       "      <td>b'Body of 14 year old found in trunk; Latest (...</td>\n",
       "      <td>b'China has moved 10 *million* quake survivors...</td>\n",
       "      <td>b\"Bush announces Operation Get All Up In Russi...</td>\n",
       "      <td>b'Russian forces sink Georgian ships '</td>\n",
       "      <td>...</td>\n",
       "      <td>b'Elephants extinct by 2020?'</td>\n",
       "      <td>b'US humanitarian missions soon in Georgia - i...</td>\n",
       "      <td>b\"Georgia's DDOS came from US sources\"</td>\n",
       "      <td>b'Russian convoy heads into Georgia, violating...</td>\n",
       "      <td>b'Israeli defence minister: US against strike ...</td>\n",
       "      <td>b'Gorbachev: We Had No Choice'</td>\n",
       "      <td>b'Witness: Russian forces head towards Tbilisi...</td>\n",
       "      <td>b' Quarter of Russians blame U.S. for conflict...</td>\n",
       "      <td>b'Georgian president  says US military will ta...</td>\n",
       "      <td>b'2006: Nobel laureate Aleksander Solzhenitsyn...</td>\n",
       "    </tr>\n",
       "    <tr>\n",
       "      <th>4</th>\n",
       "      <td>2008-08-14</td>\n",
       "      <td>1</td>\n",
       "      <td>b'All the experts admit that we should legalis...</td>\n",
       "      <td>b'War in South Osetia - 89 pictures made by a ...</td>\n",
       "      <td>b'Swedish wrestler Ara Abrahamian throws away ...</td>\n",
       "      <td>b'Russia exaggerated the death toll in South O...</td>\n",
       "      <td>b'Missile That Killed 9 Inside Pakistan May Ha...</td>\n",
       "      <td>b\"Rushdie Condemns Random House's Refusal to P...</td>\n",
       "      <td>b'Poland and US agree to missle defense deal. ...</td>\n",
       "      <td>b'Will the Russians conquer Tblisi? Bet on it,...</td>\n",
       "      <td>...</td>\n",
       "      <td>b'Bank analyst forecast Georgian crisis 2 days...</td>\n",
       "      <td>b\"Georgia confict could set back Russia's US r...</td>\n",
       "      <td>b'War in the Caucasus is as much the product o...</td>\n",
       "      <td>b'\"Non-media\" photos of South Ossetia/Georgia ...</td>\n",
       "      <td>b'Georgian TV reporter shot by Russian sniper ...</td>\n",
       "      <td>b'Saudi Arabia: Mother moves to block child ma...</td>\n",
       "      <td>b'Taliban wages war on humanitarian aid workers'</td>\n",
       "      <td>b'Russia: World  \"can forget about\" Georgia\\'s...</td>\n",
       "      <td>b'Darfur rebels accuse Sudan of mounting major...</td>\n",
       "      <td>b'Philippines : Peace Advocate say Muslims nee...</td>\n",
       "    </tr>\n",
       "  </tbody>\n",
       "</table>\n",
       "<p>5 rows × 27 columns</p>\n",
       "</div>"
      ],
      "text/plain": [
       "         Date  Label                                               Top1  \\\n",
       "0  2008-08-08      0  b\"Georgia 'downs two Russian warplanes' as cou...   \n",
       "1  2008-08-11      1  b'Why wont America and Nato help us? If they w...   \n",
       "2  2008-08-12      0  b'Remember that adorable 9-year-old who sang a...   \n",
       "3  2008-08-13      0  b' U.S. refuses Israel weapons to attack Iran:...   \n",
       "4  2008-08-14      1  b'All the experts admit that we should legalis...   \n",
       "\n",
       "                                                Top2  \\\n",
       "0            b'BREAKING: Musharraf to be impeached.'   \n",
       "1        b'Bush puts foot down on Georgian conflict'   \n",
       "2                 b\"Russia 'ends Georgia operation'\"   \n",
       "3  b\"When the president ordered to attack Tskhinv...   \n",
       "4  b'War in South Osetia - 89 pictures made by a ...   \n",
       "\n",
       "                                                Top3  \\\n",
       "0  b'Russia Today: Columns of troops roll into So...   \n",
       "1  b\"Jewish Georgian minister: Thanks to Israeli ...   \n",
       "2  b'\"If we had no sexual harassment we would hav...   \n",
       "3  b' Israel clears troops who killed Reuters cam...   \n",
       "4  b'Swedish wrestler Ara Abrahamian throws away ...   \n",
       "\n",
       "                                                Top4  \\\n",
       "0  b'Russian tanks are moving towards the capital...   \n",
       "1  b'Georgian army flees in disarray as Russians ...   \n",
       "2  b\"Al-Qa'eda is losing support in Iraq because ...   \n",
       "3  b'Britain\\'s policy of being tough on drugs is...   \n",
       "4  b'Russia exaggerated the death toll in South O...   \n",
       "\n",
       "                                                Top5  \\\n",
       "0  b\"Afghan children raped with 'impunity,' U.N. ...   \n",
       "1      b\"Olympic opening ceremony fireworks 'faked'\"   \n",
       "2  b'Ceasefire in Georgia: Putin Outmaneuvers the...   \n",
       "3  b'Body of 14 year old found in trunk; Latest (...   \n",
       "4  b'Missile That Killed 9 Inside Pakistan May Ha...   \n",
       "\n",
       "                                                Top6  \\\n",
       "0  b'150 Russian tanks have entered South Ossetia...   \n",
       "1  b'What were the Mossad with fraudulent New Zea...   \n",
       "2  b'Why Microsoft and Intel tried to kill the XO...   \n",
       "3  b'China has moved 10 *million* quake survivors...   \n",
       "4  b\"Rushdie Condemns Random House's Refusal to P...   \n",
       "\n",
       "                                                Top7  \\\n",
       "0  b\"Breaking: Georgia invades South Ossetia, Rus...   \n",
       "1  b'Russia angered by Israeli military sale to G...   \n",
       "2  b'Stratfor: The Russo-Georgian War and the Bal...   \n",
       "3  b\"Bush announces Operation Get All Up In Russi...   \n",
       "4  b'Poland and US agree to missle defense deal. ...   \n",
       "\n",
       "                                                Top8  ...  \\\n",
       "0  b\"The 'enemy combatent' trials are nothing but...  ...   \n",
       "1  b'An American citizen living in S.Ossetia blam...  ...   \n",
       "2  b\"I'm Trying to Get a Sense of This Whole Geor...  ...   \n",
       "3             b'Russian forces sink Georgian ships '  ...   \n",
       "4  b'Will the Russians conquer Tblisi? Bet on it,...  ...   \n",
       "\n",
       "                                               Top16  \\\n",
       "0  b'Georgia Invades South Ossetia - if Russia ge...   \n",
       "1  b'Israel and the US behind the Georgian aggres...   \n",
       "2  b'U.S. troops still in Georgia (did you know t...   \n",
       "3                      b'Elephants extinct by 2020?'   \n",
       "4  b'Bank analyst forecast Georgian crisis 2 days...   \n",
       "\n",
       "                                               Top17  \\\n",
       "0                b'Al-Qaeda Faces Islamist Backlash'   \n",
       "1  b'\"Do not believe TV, neither Russian nor Geor...   \n",
       "2       b'Why Russias response to Georgia was right'   \n",
       "3  b'US humanitarian missions soon in Georgia - i...   \n",
       "4  b\"Georgia confict could set back Russia's US r...   \n",
       "\n",
       "                                               Top18  \\\n",
       "0  b'Condoleezza Rice: \"The US would not act to p...   \n",
       "1  b'Riots are still going on in Montreal (Canada...   \n",
       "2  b'Gorbachev accuses U.S. of making a \"serious ...   \n",
       "3             b\"Georgia's DDOS came from US sources\"   \n",
       "4  b'War in the Caucasus is as much the product o...   \n",
       "\n",
       "                                               Top19  \\\n",
       "0  b'This is a busy day:  The European Union has ...   \n",
       "1    b'China to overtake US as largest manufacturer'   \n",
       "2         b'Russia, Georgia, and NATO: Cold War Two'   \n",
       "3  b'Russian convoy heads into Georgia, violating...   \n",
       "4  b'\"Non-media\" photos of South Ossetia/Georgia ...   \n",
       "\n",
       "                                               Top20  \\\n",
       "0  b\"Georgia will withdraw 1,000 soldiers from Ir...   \n",
       "1                     b'War in South Ossetia [PICS]'   \n",
       "2  b'Remember that adorable 62-year-old who led y...   \n",
       "3  b'Israeli defence minister: US against strike ...   \n",
       "4  b'Georgian TV reporter shot by Russian sniper ...   \n",
       "\n",
       "                                               Top21  \\\n",
       "0  b'Why the Pentagon Thinks Attacking Iran is a ...   \n",
       "1  b'Israeli Physicians Group Condemns State Tort...   \n",
       "2          b'War in Georgia: The Israeli connection'   \n",
       "3                     b'Gorbachev: We Had No Choice'   \n",
       "4  b'Saudi Arabia: Mother moves to block child ma...   \n",
       "\n",
       "                                               Top22  \\\n",
       "0  b'Caucasus in crisis: Georgia invades South Os...   \n",
       "1  b' Russia has just beaten the United States ov...   \n",
       "2  b'All signs point to the US encouraging Georgi...   \n",
       "3  b'Witness: Russian forces head towards Tbilisi...   \n",
       "4   b'Taliban wages war on humanitarian aid workers'   \n",
       "\n",
       "                                               Top23  \\\n",
       "0  b'Indian shoe manufactory  - And again in a se...   \n",
       "1  b'Perhaps *the* question about the Georgia - R...   \n",
       "2  b'Christopher King argues that the US and NATO...   \n",
       "3  b' Quarter of Russians blame U.S. for conflict...   \n",
       "4  b'Russia: World  \"can forget about\" Georgia\\'s...   \n",
       "\n",
       "                                               Top24  \\\n",
       "0  b'Visitors Suffering from Mental Illnesses Ban...   \n",
       "1                 b'Russia is so much better at war'   \n",
       "2                        b'America: The New Mexico?'   \n",
       "3  b'Georgian president  says US military will ta...   \n",
       "4  b'Darfur rebels accuse Sudan of mounting major...   \n",
       "\n",
       "                                               Top25  \n",
       "0           b\"No Help for Mexico's Kidnapping Surge\"  \n",
       "1  b\"So this is what it's come to: trading sex fo...  \n",
       "2  b\"BBC NEWS | Asia-Pacific | Extinction 'by man...  \n",
       "3  b'2006: Nobel laureate Aleksander Solzhenitsyn...  \n",
       "4  b'Philippines : Peace Advocate say Muslims nee...  \n",
       "\n",
       "[5 rows x 27 columns]"
      ]
     },
     "execution_count": 3,
     "metadata": {},
     "output_type": "execute_result"
    }
   ],
   "source": [
    "df.head()"
   ]
  },
  {
   "cell_type": "code",
   "execution_count": 5,
   "id": "suyOMSNxhtfn",
   "metadata": {
    "colab": {
     "base_uri": "https://localhost:8080/"
    },
    "id": "suyOMSNxhtfn",
    "outputId": "b5e22e2a-7407-4785-b1f9-16b0a7765302"
   },
   "outputs": [
    {
     "name": "stdout",
     "output_type": "stream",
     "text": [
      "rows: 1989, columns: 27\n"
     ]
    }
   ],
   "source": [
    "print(\"rows: {}, columns: {}\".format(df.shape[0], df.shape[1]))"
   ]
  },
  {
   "cell_type": "code",
   "execution_count": 6,
   "id": "hollow-medicine",
   "metadata": {
    "id": "hollow-medicine"
   },
   "outputs": [],
   "source": [
    "df.drop(columns=['Date'], inplace = True)"
   ]
  },
  {
   "cell_type": "code",
   "execution_count": 7,
   "id": "vulnerable-fever",
   "metadata": {
    "id": "vulnerable-fever"
   },
   "outputs": [],
   "source": [
    "Y = df['Label']"
   ]
  },
  {
   "cell_type": "code",
   "execution_count": 8,
   "id": "certain-reconstruction",
   "metadata": {
    "id": "certain-reconstruction"
   },
   "outputs": [],
   "source": [
    "X_preprocessed = df.drop(['Label'],axis = 1)"
   ]
  },
  {
   "cell_type": "code",
   "execution_count": 9,
   "id": "blind-tension",
   "metadata": {
    "id": "blind-tension"
   },
   "outputs": [],
   "source": [
    "lem = WordNetLemmatizer()\n",
    "def processText(inputText):\n",
    "    processedText = re.sub('b\\'', '', inputText)\n",
    "    processedText = re.sub('b\\\"', '', processedText)\n",
    "    processedText = re.sub('[^a-zA-Z0-9]', ' ', processedText)\n",
    "    processedText = processedText.lower()\n",
    "    processedText = processedText.split()\n",
    "    processedText = [lem.lemmatize(word) for word in processedText if word not in set(stopwords.words('english'))]\n",
    "    processedText = \" \".join(processedText)\n",
    "    return processedText"
   ]
  },
  {
   "cell_type": "code",
   "execution_count": 10,
   "id": "unsigned-general",
   "metadata": {
    "id": "unsigned-general"
   },
   "outputs": [],
   "source": [
    "X_preprocessed = X_preprocessed.astype(str)"
   ]
  },
  {
   "cell_type": "code",
   "execution_count": 11,
   "id": "individual-relations",
   "metadata": {
    "id": "individual-relations"
   },
   "outputs": [],
   "source": [
    "X_processed = X_preprocessed.applymap(processText)"
   ]
  },
  {
   "cell_type": "code",
   "execution_count": 12,
   "id": "systematic-college",
   "metadata": {
    "colab": {
     "base_uri": "https://localhost:8080/",
     "height": 717
    },
    "id": "systematic-college",
    "outputId": "e440dbcf-0d88-47ab-e36e-ed2d8ebf617b"
   },
   "outputs": [
    {
     "data": {
      "text/html": [
       "<div>\n",
       "<style scoped>\n",
       "    .dataframe tbody tr th:only-of-type {\n",
       "        vertical-align: middle;\n",
       "    }\n",
       "\n",
       "    .dataframe tbody tr th {\n",
       "        vertical-align: top;\n",
       "    }\n",
       "\n",
       "    .dataframe thead th {\n",
       "        text-align: right;\n",
       "    }\n",
       "</style>\n",
       "<table border=\"1\" class=\"dataframe\">\n",
       "  <thead>\n",
       "    <tr style=\"text-align: right;\">\n",
       "      <th></th>\n",
       "      <th>Top1</th>\n",
       "      <th>Top2</th>\n",
       "      <th>Top3</th>\n",
       "      <th>Top4</th>\n",
       "      <th>Top5</th>\n",
       "      <th>Top6</th>\n",
       "      <th>Top7</th>\n",
       "      <th>Top8</th>\n",
       "      <th>Top9</th>\n",
       "      <th>Top10</th>\n",
       "      <th>...</th>\n",
       "      <th>Top16</th>\n",
       "      <th>Top17</th>\n",
       "      <th>Top18</th>\n",
       "      <th>Top19</th>\n",
       "      <th>Top20</th>\n",
       "      <th>Top21</th>\n",
       "      <th>Top22</th>\n",
       "      <th>Top23</th>\n",
       "      <th>Top24</th>\n",
       "      <th>Top25</th>\n",
       "    </tr>\n",
       "  </thead>\n",
       "  <tbody>\n",
       "    <tr>\n",
       "      <th>0</th>\n",
       "      <td>georgia down two russian warplane country move...</td>\n",
       "      <td>breaking musharraf impeached</td>\n",
       "      <td>russia today column troop roll south ossetia f...</td>\n",
       "      <td>russian tank moving towards capital south osse...</td>\n",
       "      <td>afghan child raped impunity u n official say s...</td>\n",
       "      <td>150 russian tank entered south ossetia whilst ...</td>\n",
       "      <td>breaking georgia invades south ossetia russia ...</td>\n",
       "      <td>enemy combatent trial nothing sham salim haman...</td>\n",
       "      <td>georgian troop retreat osettain capital presum...</td>\n",
       "      <td>u prep georgia war russia</td>\n",
       "      <td>...</td>\n",
       "      <td>georgia invades south ossetia russia get invol...</td>\n",
       "      <td>al qaeda face islamist backlash</td>\n",
       "      <td>condoleezza rice u would act prevent israeli s...</td>\n",
       "      <td>busy day european union approved new sanction ...</td>\n",
       "      <td>georgia withdraw 1 000 soldier iraq help fight...</td>\n",
       "      <td>pentagon think attacking iran bad idea u news ...</td>\n",
       "      <td>caucasus crisis georgia invades south ossetia</td>\n",
       "      <td>indian shoe manufactory series like work</td>\n",
       "      <td>visitor suffering mental illness banned olympics</td>\n",
       "      <td>help mexico kidnapping surge</td>\n",
       "    </tr>\n",
       "    <tr>\n",
       "      <th>1</th>\n",
       "      <td>wont america nato help u wont help u help iraq</td>\n",
       "      <td>bush put foot georgian conflict</td>\n",
       "      <td>jewish georgian minister thanks israeli traini...</td>\n",
       "      <td>georgian army flees disarray russian advance g...</td>\n",
       "      <td>olympic opening ceremony firework faked</td>\n",
       "      <td>mossad fraudulent new zealand passport iraq</td>\n",
       "      <td>russia angered israeli military sale georgia</td>\n",
       "      <td>american citizen living ossetia blame u georgi...</td>\n",
       "      <td>welcome world war iv high definition</td>\n",
       "      <td>georgia move mistake monumental proportion</td>\n",
       "      <td>...</td>\n",
       "      <td>israel u behind georgian aggression</td>\n",
       "      <td>believe tv neither russian georgian much victim</td>\n",
       "      <td>riot still going montreal canada police murder...</td>\n",
       "      <td>china overtake u largest manufacturer</td>\n",
       "      <td>war south ossetia pic</td>\n",
       "      <td>israeli physician group condemns state torture</td>\n",
       "      <td>russia beaten united state head peak oil</td>\n",
       "      <td>perhaps question georgia russia conflict</td>\n",
       "      <td>russia much better war</td>\n",
       "      <td>come trading sex food</td>\n",
       "    </tr>\n",
       "    <tr>\n",
       "      <th>2</th>\n",
       "      <td>remember adorable 9 year old sang opening cere...</td>\n",
       "      <td>russia end georgia operation</td>\n",
       "      <td>sexual harassment would child</td>\n",
       "      <td>al qa eda losing support iraq brutal crackdown...</td>\n",
       "      <td>ceasefire georgia putin outmaneuvers west</td>\n",
       "      <td>microsoft intel tried kill xo 100 laptop</td>\n",
       "      <td>stratfor russo georgian war balance power</td>\n",
       "      <td>trying get sense whole georgia russia war vote...</td>\n",
       "      <td>u military surprised timing swiftness russian ...</td>\n",
       "      <td>u beat war drum iran dump dollar</td>\n",
       "      <td>...</td>\n",
       "      <td>u troop still georgia know georgia first place</td>\n",
       "      <td>russia response georgia right</td>\n",
       "      <td>gorbachev accuses u making serious blunder pur...</td>\n",
       "      <td>russia georgia nato cold war two</td>\n",
       "      <td>remember adorable 62 year old led country war ...</td>\n",
       "      <td>war georgia israeli connection</td>\n",
       "      <td>sign point u encouraging georgia invade south ...</td>\n",
       "      <td>christopher king argues u nato behind georgian...</td>\n",
       "      <td>america new mexico</td>\n",
       "      <td>bbc news asia pacific extinction man climate</td>\n",
       "    </tr>\n",
       "    <tr>\n",
       "      <th>3</th>\n",
       "      <td>u refuse israel weapon attack iran report</td>\n",
       "      <td>president ordered attack tskhinvali capital so...</td>\n",
       "      <td>israel clear troop killed reuters cameraman</td>\n",
       "      <td>britain policy tough drug pointless say former...</td>\n",
       "      <td>body 14 year old found trunk latest ransom pai...</td>\n",
       "      <td>china moved 10 million quake survivor prefab home</td>\n",
       "      <td>bush announces operation get russia grill yeah...</td>\n",
       "      <td>russian force sink georgian ship</td>\n",
       "      <td>commander navy air reconnaissance squadron pro...</td>\n",
       "      <td>92 cnn reader russia action georgia justified</td>\n",
       "      <td>...</td>\n",
       "      <td>elephant extinct 2020</td>\n",
       "      <td>u humanitarian mission soon georgia russia hit...</td>\n",
       "      <td>georgia ddos came u source</td>\n",
       "      <td>russian convoy head georgia violating truce</td>\n",
       "      <td>israeli defence minister u strike iran</td>\n",
       "      <td>gorbachev choice</td>\n",
       "      <td>witness russian force head towards tbilisi bre...</td>\n",
       "      <td>quarter russian blame u conflict poll</td>\n",
       "      <td>georgian president say u military take control...</td>\n",
       "      <td>2006 nobel laureate aleksander solzhenitsyn ac...</td>\n",
       "    </tr>\n",
       "    <tr>\n",
       "      <th>4</th>\n",
       "      <td>expert admit legalise drug</td>\n",
       "      <td>war south osetia 89 picture made russian soldier</td>\n",
       "      <td>swedish wrestler ara abrahamian throw away med...</td>\n",
       "      <td>russia exaggerated death toll south ossetia 44...</td>\n",
       "      <td>missile killed 9 inside pakistan may launched cia</td>\n",
       "      <td>rushdie condemns random house refusal publish ...</td>\n",
       "      <td>poland u agree missle defense deal interesting...</td>\n",
       "      <td>russian conquer tblisi bet seriously bet</td>\n",
       "      <td>russia exaggerating south ossetian death toll ...</td>\n",
       "      <td>musharraf expected resign rather face impeachment</td>\n",
       "      <td>...</td>\n",
       "      <td>bank analyst forecast georgian crisis 2 day early</td>\n",
       "      <td>georgia confict could set back russia u relati...</td>\n",
       "      <td>war caucasus much product american imperial dr...</td>\n",
       "      <td>non medium photo south ossetia georgia conflict</td>\n",
       "      <td>georgian tv reporter shot russian sniper live ...</td>\n",
       "      <td>saudi arabia mother move block child marriage</td>\n",
       "      <td>taliban wage war humanitarian aid worker</td>\n",
       "      <td>russia world forget georgia territorial integrity</td>\n",
       "      <td>darfur rebel accuse sudan mounting major attack</td>\n",
       "      <td>philippine peace advocate say muslim need assu...</td>\n",
       "    </tr>\n",
       "  </tbody>\n",
       "</table>\n",
       "<p>5 rows × 25 columns</p>\n",
       "</div>"
      ],
      "text/plain": [
       "                                                Top1  \\\n",
       "0  georgia down two russian warplane country move...   \n",
       "1     wont america nato help u wont help u help iraq   \n",
       "2  remember adorable 9 year old sang opening cere...   \n",
       "3          u refuse israel weapon attack iran report   \n",
       "4                         expert admit legalise drug   \n",
       "\n",
       "                                                Top2  \\\n",
       "0                       breaking musharraf impeached   \n",
       "1                    bush put foot georgian conflict   \n",
       "2                       russia end georgia operation   \n",
       "3  president ordered attack tskhinvali capital so...   \n",
       "4   war south osetia 89 picture made russian soldier   \n",
       "\n",
       "                                                Top3  \\\n",
       "0  russia today column troop roll south ossetia f...   \n",
       "1  jewish georgian minister thanks israeli traini...   \n",
       "2                      sexual harassment would child   \n",
       "3        israel clear troop killed reuters cameraman   \n",
       "4  swedish wrestler ara abrahamian throw away med...   \n",
       "\n",
       "                                                Top4  \\\n",
       "0  russian tank moving towards capital south osse...   \n",
       "1  georgian army flees disarray russian advance g...   \n",
       "2  al qa eda losing support iraq brutal crackdown...   \n",
       "3  britain policy tough drug pointless say former...   \n",
       "4  russia exaggerated death toll south ossetia 44...   \n",
       "\n",
       "                                                Top5  \\\n",
       "0  afghan child raped impunity u n official say s...   \n",
       "1            olympic opening ceremony firework faked   \n",
       "2          ceasefire georgia putin outmaneuvers west   \n",
       "3  body 14 year old found trunk latest ransom pai...   \n",
       "4  missile killed 9 inside pakistan may launched cia   \n",
       "\n",
       "                                                Top6  \\\n",
       "0  150 russian tank entered south ossetia whilst ...   \n",
       "1        mossad fraudulent new zealand passport iraq   \n",
       "2           microsoft intel tried kill xo 100 laptop   \n",
       "3  china moved 10 million quake survivor prefab home   \n",
       "4  rushdie condemns random house refusal publish ...   \n",
       "\n",
       "                                                Top7  \\\n",
       "0  breaking georgia invades south ossetia russia ...   \n",
       "1       russia angered israeli military sale georgia   \n",
       "2          stratfor russo georgian war balance power   \n",
       "3  bush announces operation get russia grill yeah...   \n",
       "4  poland u agree missle defense deal interesting...   \n",
       "\n",
       "                                                Top8  \\\n",
       "0  enemy combatent trial nothing sham salim haman...   \n",
       "1  american citizen living ossetia blame u georgi...   \n",
       "2  trying get sense whole georgia russia war vote...   \n",
       "3                   russian force sink georgian ship   \n",
       "4           russian conquer tblisi bet seriously bet   \n",
       "\n",
       "                                                Top9  \\\n",
       "0  georgian troop retreat osettain capital presum...   \n",
       "1               welcome world war iv high definition   \n",
       "2  u military surprised timing swiftness russian ...   \n",
       "3  commander navy air reconnaissance squadron pro...   \n",
       "4  russia exaggerating south ossetian death toll ...   \n",
       "\n",
       "                                               Top10  ...  \\\n",
       "0                          u prep georgia war russia  ...   \n",
       "1         georgia move mistake monumental proportion  ...   \n",
       "2                   u beat war drum iran dump dollar  ...   \n",
       "3      92 cnn reader russia action georgia justified  ...   \n",
       "4  musharraf expected resign rather face impeachment  ...   \n",
       "\n",
       "                                               Top16  \\\n",
       "0  georgia invades south ossetia russia get invol...   \n",
       "1                israel u behind georgian aggression   \n",
       "2     u troop still georgia know georgia first place   \n",
       "3                              elephant extinct 2020   \n",
       "4  bank analyst forecast georgian crisis 2 day early   \n",
       "\n",
       "                                               Top17  \\\n",
       "0                    al qaeda face islamist backlash   \n",
       "1    believe tv neither russian georgian much victim   \n",
       "2                      russia response georgia right   \n",
       "3  u humanitarian mission soon georgia russia hit...   \n",
       "4  georgia confict could set back russia u relati...   \n",
       "\n",
       "                                               Top18  \\\n",
       "0  condoleezza rice u would act prevent israeli s...   \n",
       "1  riot still going montreal canada police murder...   \n",
       "2  gorbachev accuses u making serious blunder pur...   \n",
       "3                         georgia ddos came u source   \n",
       "4  war caucasus much product american imperial dr...   \n",
       "\n",
       "                                               Top19  \\\n",
       "0  busy day european union approved new sanction ...   \n",
       "1              china overtake u largest manufacturer   \n",
       "2                   russia georgia nato cold war two   \n",
       "3        russian convoy head georgia violating truce   \n",
       "4    non medium photo south ossetia georgia conflict   \n",
       "\n",
       "                                               Top20  \\\n",
       "0  georgia withdraw 1 000 soldier iraq help fight...   \n",
       "1                              war south ossetia pic   \n",
       "2  remember adorable 62 year old led country war ...   \n",
       "3             israeli defence minister u strike iran   \n",
       "4  georgian tv reporter shot russian sniper live ...   \n",
       "\n",
       "                                               Top21  \\\n",
       "0  pentagon think attacking iran bad idea u news ...   \n",
       "1     israeli physician group condemns state torture   \n",
       "2                     war georgia israeli connection   \n",
       "3                                   gorbachev choice   \n",
       "4      saudi arabia mother move block child marriage   \n",
       "\n",
       "                                               Top22  \\\n",
       "0      caucasus crisis georgia invades south ossetia   \n",
       "1           russia beaten united state head peak oil   \n",
       "2  sign point u encouraging georgia invade south ...   \n",
       "3  witness russian force head towards tbilisi bre...   \n",
       "4           taliban wage war humanitarian aid worker   \n",
       "\n",
       "                                               Top23  \\\n",
       "0           indian shoe manufactory series like work   \n",
       "1           perhaps question georgia russia conflict   \n",
       "2  christopher king argues u nato behind georgian...   \n",
       "3              quarter russian blame u conflict poll   \n",
       "4  russia world forget georgia territorial integrity   \n",
       "\n",
       "                                               Top24  \\\n",
       "0   visitor suffering mental illness banned olympics   \n",
       "1                             russia much better war   \n",
       "2                                 america new mexico   \n",
       "3  georgian president say u military take control...   \n",
       "4    darfur rebel accuse sudan mounting major attack   \n",
       "\n",
       "                                               Top25  \n",
       "0                       help mexico kidnapping surge  \n",
       "1                              come trading sex food  \n",
       "2       bbc news asia pacific extinction man climate  \n",
       "3  2006 nobel laureate aleksander solzhenitsyn ac...  \n",
       "4  philippine peace advocate say muslim need assu...  \n",
       "\n",
       "[5 rows x 25 columns]"
      ]
     },
     "execution_count": 12,
     "metadata": {},
     "output_type": "execute_result"
    }
   ],
   "source": [
    "X_processed.head()"
   ]
  },
  {
   "cell_type": "code",
   "execution_count": 13,
   "id": "considerable-amateur",
   "metadata": {
    "id": "considerable-amateur"
   },
   "outputs": [],
   "source": [
    "# combining the corpus\n",
    "X_combined = pd.Series(X_processed.fillna('').values.tolist()).map(lambda x: ' '.join(map(str,x))).to_frame()\n",
    "X_combined.columns = ['RawCorpus']"
   ]
  },
  {
   "cell_type": "code",
   "execution_count": 14,
   "id": "verified-triple",
   "metadata": {
    "colab": {
     "base_uri": "https://localhost:8080/",
     "height": 204
    },
    "id": "verified-triple",
    "outputId": "e46d5c3b-20c7-41e7-8c5c-625e6f9908cb"
   },
   "outputs": [
    {
     "data": {
      "text/html": [
       "<div>\n",
       "<style scoped>\n",
       "    .dataframe tbody tr th:only-of-type {\n",
       "        vertical-align: middle;\n",
       "    }\n",
       "\n",
       "    .dataframe tbody tr th {\n",
       "        vertical-align: top;\n",
       "    }\n",
       "\n",
       "    .dataframe thead th {\n",
       "        text-align: right;\n",
       "    }\n",
       "</style>\n",
       "<table border=\"1\" class=\"dataframe\">\n",
       "  <thead>\n",
       "    <tr style=\"text-align: right;\">\n",
       "      <th></th>\n",
       "      <th>RawCorpus</th>\n",
       "    </tr>\n",
       "  </thead>\n",
       "  <tbody>\n",
       "    <tr>\n",
       "      <th>0</th>\n",
       "      <td>georgia down two russian warplane country move...</td>\n",
       "    </tr>\n",
       "    <tr>\n",
       "      <th>1</th>\n",
       "      <td>wont america nato help u wont help u help iraq...</td>\n",
       "    </tr>\n",
       "    <tr>\n",
       "      <th>2</th>\n",
       "      <td>remember adorable 9 year old sang opening cere...</td>\n",
       "    </tr>\n",
       "    <tr>\n",
       "      <th>3</th>\n",
       "      <td>u refuse israel weapon attack iran report pres...</td>\n",
       "    </tr>\n",
       "    <tr>\n",
       "      <th>4</th>\n",
       "      <td>expert admit legalise drug war south osetia 89...</td>\n",
       "    </tr>\n",
       "  </tbody>\n",
       "</table>\n",
       "</div>"
      ],
      "text/plain": [
       "                                           RawCorpus\n",
       "0  georgia down two russian warplane country move...\n",
       "1  wont america nato help u wont help u help iraq...\n",
       "2  remember adorable 9 year old sang opening cere...\n",
       "3  u refuse israel weapon attack iran report pres...\n",
       "4  expert admit legalise drug war south osetia 89..."
      ]
     },
     "execution_count": 14,
     "metadata": {},
     "output_type": "execute_result"
    }
   ],
   "source": [
    "X_combined.head()"
   ]
  },
  {
   "cell_type": "code",
   "execution_count": 15,
   "id": "immediate-annual",
   "metadata": {
    "colab": {
     "base_uri": "https://localhost:8080/",
     "height": 717
    },
    "id": "immediate-annual",
    "outputId": "fe35d8db-9681-4bca-82be-66efe8063e74"
   },
   "outputs": [
    {
     "data": {
      "text/html": [
       "<div>\n",
       "<style scoped>\n",
       "    .dataframe tbody tr th:only-of-type {\n",
       "        vertical-align: middle;\n",
       "    }\n",
       "\n",
       "    .dataframe tbody tr th {\n",
       "        vertical-align: top;\n",
       "    }\n",
       "\n",
       "    .dataframe thead th {\n",
       "        text-align: right;\n",
       "    }\n",
       "</style>\n",
       "<table border=\"1\" class=\"dataframe\">\n",
       "  <thead>\n",
       "    <tr style=\"text-align: right;\">\n",
       "      <th></th>\n",
       "      <th>Top1</th>\n",
       "      <th>Top2</th>\n",
       "      <th>Top3</th>\n",
       "      <th>Top4</th>\n",
       "      <th>Top5</th>\n",
       "      <th>Top6</th>\n",
       "      <th>Top7</th>\n",
       "      <th>Top8</th>\n",
       "      <th>Top9</th>\n",
       "      <th>Top10</th>\n",
       "      <th>...</th>\n",
       "      <th>Top17</th>\n",
       "      <th>Top18</th>\n",
       "      <th>Top19</th>\n",
       "      <th>Top20</th>\n",
       "      <th>Top21</th>\n",
       "      <th>Top22</th>\n",
       "      <th>Top23</th>\n",
       "      <th>Top24</th>\n",
       "      <th>Top25</th>\n",
       "      <th>Label</th>\n",
       "    </tr>\n",
       "  </thead>\n",
       "  <tbody>\n",
       "    <tr>\n",
       "      <th>0</th>\n",
       "      <td>georgia down two russian warplane country move...</td>\n",
       "      <td>breaking musharraf impeached</td>\n",
       "      <td>russia today column troop roll south ossetia f...</td>\n",
       "      <td>russian tank moving towards capital south osse...</td>\n",
       "      <td>afghan child raped impunity u n official say s...</td>\n",
       "      <td>150 russian tank entered south ossetia whilst ...</td>\n",
       "      <td>breaking georgia invades south ossetia russia ...</td>\n",
       "      <td>enemy combatent trial nothing sham salim haman...</td>\n",
       "      <td>georgian troop retreat osettain capital presum...</td>\n",
       "      <td>u prep georgia war russia</td>\n",
       "      <td>...</td>\n",
       "      <td>al qaeda face islamist backlash</td>\n",
       "      <td>condoleezza rice u would act prevent israeli s...</td>\n",
       "      <td>busy day european union approved new sanction ...</td>\n",
       "      <td>georgia withdraw 1 000 soldier iraq help fight...</td>\n",
       "      <td>pentagon think attacking iran bad idea u news ...</td>\n",
       "      <td>caucasus crisis georgia invades south ossetia</td>\n",
       "      <td>indian shoe manufactory series like work</td>\n",
       "      <td>visitor suffering mental illness banned olympics</td>\n",
       "      <td>help mexico kidnapping surge</td>\n",
       "      <td>0</td>\n",
       "    </tr>\n",
       "    <tr>\n",
       "      <th>1</th>\n",
       "      <td>wont america nato help u wont help u help iraq</td>\n",
       "      <td>bush put foot georgian conflict</td>\n",
       "      <td>jewish georgian minister thanks israeli traini...</td>\n",
       "      <td>georgian army flees disarray russian advance g...</td>\n",
       "      <td>olympic opening ceremony firework faked</td>\n",
       "      <td>mossad fraudulent new zealand passport iraq</td>\n",
       "      <td>russia angered israeli military sale georgia</td>\n",
       "      <td>american citizen living ossetia blame u georgi...</td>\n",
       "      <td>welcome world war iv high definition</td>\n",
       "      <td>georgia move mistake monumental proportion</td>\n",
       "      <td>...</td>\n",
       "      <td>believe tv neither russian georgian much victim</td>\n",
       "      <td>riot still going montreal canada police murder...</td>\n",
       "      <td>china overtake u largest manufacturer</td>\n",
       "      <td>war south ossetia pic</td>\n",
       "      <td>israeli physician group condemns state torture</td>\n",
       "      <td>russia beaten united state head peak oil</td>\n",
       "      <td>perhaps question georgia russia conflict</td>\n",
       "      <td>russia much better war</td>\n",
       "      <td>come trading sex food</td>\n",
       "      <td>1</td>\n",
       "    </tr>\n",
       "    <tr>\n",
       "      <th>2</th>\n",
       "      <td>remember adorable 9 year old sang opening cere...</td>\n",
       "      <td>russia end georgia operation</td>\n",
       "      <td>sexual harassment would child</td>\n",
       "      <td>al qa eda losing support iraq brutal crackdown...</td>\n",
       "      <td>ceasefire georgia putin outmaneuvers west</td>\n",
       "      <td>microsoft intel tried kill xo 100 laptop</td>\n",
       "      <td>stratfor russo georgian war balance power</td>\n",
       "      <td>trying get sense whole georgia russia war vote...</td>\n",
       "      <td>u military surprised timing swiftness russian ...</td>\n",
       "      <td>u beat war drum iran dump dollar</td>\n",
       "      <td>...</td>\n",
       "      <td>russia response georgia right</td>\n",
       "      <td>gorbachev accuses u making serious blunder pur...</td>\n",
       "      <td>russia georgia nato cold war two</td>\n",
       "      <td>remember adorable 62 year old led country war ...</td>\n",
       "      <td>war georgia israeli connection</td>\n",
       "      <td>sign point u encouraging georgia invade south ...</td>\n",
       "      <td>christopher king argues u nato behind georgian...</td>\n",
       "      <td>america new mexico</td>\n",
       "      <td>bbc news asia pacific extinction man climate</td>\n",
       "      <td>0</td>\n",
       "    </tr>\n",
       "    <tr>\n",
       "      <th>3</th>\n",
       "      <td>u refuse israel weapon attack iran report</td>\n",
       "      <td>president ordered attack tskhinvali capital so...</td>\n",
       "      <td>israel clear troop killed reuters cameraman</td>\n",
       "      <td>britain policy tough drug pointless say former...</td>\n",
       "      <td>body 14 year old found trunk latest ransom pai...</td>\n",
       "      <td>china moved 10 million quake survivor prefab home</td>\n",
       "      <td>bush announces operation get russia grill yeah...</td>\n",
       "      <td>russian force sink georgian ship</td>\n",
       "      <td>commander navy air reconnaissance squadron pro...</td>\n",
       "      <td>92 cnn reader russia action georgia justified</td>\n",
       "      <td>...</td>\n",
       "      <td>u humanitarian mission soon georgia russia hit...</td>\n",
       "      <td>georgia ddos came u source</td>\n",
       "      <td>russian convoy head georgia violating truce</td>\n",
       "      <td>israeli defence minister u strike iran</td>\n",
       "      <td>gorbachev choice</td>\n",
       "      <td>witness russian force head towards tbilisi bre...</td>\n",
       "      <td>quarter russian blame u conflict poll</td>\n",
       "      <td>georgian president say u military take control...</td>\n",
       "      <td>2006 nobel laureate aleksander solzhenitsyn ac...</td>\n",
       "      <td>0</td>\n",
       "    </tr>\n",
       "    <tr>\n",
       "      <th>4</th>\n",
       "      <td>expert admit legalise drug</td>\n",
       "      <td>war south osetia 89 picture made russian soldier</td>\n",
       "      <td>swedish wrestler ara abrahamian throw away med...</td>\n",
       "      <td>russia exaggerated death toll south ossetia 44...</td>\n",
       "      <td>missile killed 9 inside pakistan may launched cia</td>\n",
       "      <td>rushdie condemns random house refusal publish ...</td>\n",
       "      <td>poland u agree missle defense deal interesting...</td>\n",
       "      <td>russian conquer tblisi bet seriously bet</td>\n",
       "      <td>russia exaggerating south ossetian death toll ...</td>\n",
       "      <td>musharraf expected resign rather face impeachment</td>\n",
       "      <td>...</td>\n",
       "      <td>georgia confict could set back russia u relati...</td>\n",
       "      <td>war caucasus much product american imperial dr...</td>\n",
       "      <td>non medium photo south ossetia georgia conflict</td>\n",
       "      <td>georgian tv reporter shot russian sniper live ...</td>\n",
       "      <td>saudi arabia mother move block child marriage</td>\n",
       "      <td>taliban wage war humanitarian aid worker</td>\n",
       "      <td>russia world forget georgia territorial integrity</td>\n",
       "      <td>darfur rebel accuse sudan mounting major attack</td>\n",
       "      <td>philippine peace advocate say muslim need assu...</td>\n",
       "      <td>1</td>\n",
       "    </tr>\n",
       "  </tbody>\n",
       "</table>\n",
       "<p>5 rows × 26 columns</p>\n",
       "</div>"
      ],
      "text/plain": [
       "                                                Top1  \\\n",
       "0  georgia down two russian warplane country move...   \n",
       "1     wont america nato help u wont help u help iraq   \n",
       "2  remember adorable 9 year old sang opening cere...   \n",
       "3          u refuse israel weapon attack iran report   \n",
       "4                         expert admit legalise drug   \n",
       "\n",
       "                                                Top2  \\\n",
       "0                       breaking musharraf impeached   \n",
       "1                    bush put foot georgian conflict   \n",
       "2                       russia end georgia operation   \n",
       "3  president ordered attack tskhinvali capital so...   \n",
       "4   war south osetia 89 picture made russian soldier   \n",
       "\n",
       "                                                Top3  \\\n",
       "0  russia today column troop roll south ossetia f...   \n",
       "1  jewish georgian minister thanks israeli traini...   \n",
       "2                      sexual harassment would child   \n",
       "3        israel clear troop killed reuters cameraman   \n",
       "4  swedish wrestler ara abrahamian throw away med...   \n",
       "\n",
       "                                                Top4  \\\n",
       "0  russian tank moving towards capital south osse...   \n",
       "1  georgian army flees disarray russian advance g...   \n",
       "2  al qa eda losing support iraq brutal crackdown...   \n",
       "3  britain policy tough drug pointless say former...   \n",
       "4  russia exaggerated death toll south ossetia 44...   \n",
       "\n",
       "                                                Top5  \\\n",
       "0  afghan child raped impunity u n official say s...   \n",
       "1            olympic opening ceremony firework faked   \n",
       "2          ceasefire georgia putin outmaneuvers west   \n",
       "3  body 14 year old found trunk latest ransom pai...   \n",
       "4  missile killed 9 inside pakistan may launched cia   \n",
       "\n",
       "                                                Top6  \\\n",
       "0  150 russian tank entered south ossetia whilst ...   \n",
       "1        mossad fraudulent new zealand passport iraq   \n",
       "2           microsoft intel tried kill xo 100 laptop   \n",
       "3  china moved 10 million quake survivor prefab home   \n",
       "4  rushdie condemns random house refusal publish ...   \n",
       "\n",
       "                                                Top7  \\\n",
       "0  breaking georgia invades south ossetia russia ...   \n",
       "1       russia angered israeli military sale georgia   \n",
       "2          stratfor russo georgian war balance power   \n",
       "3  bush announces operation get russia grill yeah...   \n",
       "4  poland u agree missle defense deal interesting...   \n",
       "\n",
       "                                                Top8  \\\n",
       "0  enemy combatent trial nothing sham salim haman...   \n",
       "1  american citizen living ossetia blame u georgi...   \n",
       "2  trying get sense whole georgia russia war vote...   \n",
       "3                   russian force sink georgian ship   \n",
       "4           russian conquer tblisi bet seriously bet   \n",
       "\n",
       "                                                Top9  \\\n",
       "0  georgian troop retreat osettain capital presum...   \n",
       "1               welcome world war iv high definition   \n",
       "2  u military surprised timing swiftness russian ...   \n",
       "3  commander navy air reconnaissance squadron pro...   \n",
       "4  russia exaggerating south ossetian death toll ...   \n",
       "\n",
       "                                               Top10  ...  \\\n",
       "0                          u prep georgia war russia  ...   \n",
       "1         georgia move mistake monumental proportion  ...   \n",
       "2                   u beat war drum iran dump dollar  ...   \n",
       "3      92 cnn reader russia action georgia justified  ...   \n",
       "4  musharraf expected resign rather face impeachment  ...   \n",
       "\n",
       "                                               Top17  \\\n",
       "0                    al qaeda face islamist backlash   \n",
       "1    believe tv neither russian georgian much victim   \n",
       "2                      russia response georgia right   \n",
       "3  u humanitarian mission soon georgia russia hit...   \n",
       "4  georgia confict could set back russia u relati...   \n",
       "\n",
       "                                               Top18  \\\n",
       "0  condoleezza rice u would act prevent israeli s...   \n",
       "1  riot still going montreal canada police murder...   \n",
       "2  gorbachev accuses u making serious blunder pur...   \n",
       "3                         georgia ddos came u source   \n",
       "4  war caucasus much product american imperial dr...   \n",
       "\n",
       "                                               Top19  \\\n",
       "0  busy day european union approved new sanction ...   \n",
       "1              china overtake u largest manufacturer   \n",
       "2                   russia georgia nato cold war two   \n",
       "3        russian convoy head georgia violating truce   \n",
       "4    non medium photo south ossetia georgia conflict   \n",
       "\n",
       "                                               Top20  \\\n",
       "0  georgia withdraw 1 000 soldier iraq help fight...   \n",
       "1                              war south ossetia pic   \n",
       "2  remember adorable 62 year old led country war ...   \n",
       "3             israeli defence minister u strike iran   \n",
       "4  georgian tv reporter shot russian sniper live ...   \n",
       "\n",
       "                                               Top21  \\\n",
       "0  pentagon think attacking iran bad idea u news ...   \n",
       "1     israeli physician group condemns state torture   \n",
       "2                     war georgia israeli connection   \n",
       "3                                   gorbachev choice   \n",
       "4      saudi arabia mother move block child marriage   \n",
       "\n",
       "                                               Top22  \\\n",
       "0      caucasus crisis georgia invades south ossetia   \n",
       "1           russia beaten united state head peak oil   \n",
       "2  sign point u encouraging georgia invade south ...   \n",
       "3  witness russian force head towards tbilisi bre...   \n",
       "4           taliban wage war humanitarian aid worker   \n",
       "\n",
       "                                               Top23  \\\n",
       "0           indian shoe manufactory series like work   \n",
       "1           perhaps question georgia russia conflict   \n",
       "2  christopher king argues u nato behind georgian...   \n",
       "3              quarter russian blame u conflict poll   \n",
       "4  russia world forget georgia territorial integrity   \n",
       "\n",
       "                                               Top24  \\\n",
       "0   visitor suffering mental illness banned olympics   \n",
       "1                             russia much better war   \n",
       "2                                 america new mexico   \n",
       "3  georgian president say u military take control...   \n",
       "4    darfur rebel accuse sudan mounting major attack   \n",
       "\n",
       "                                               Top25 Label  \n",
       "0                       help mexico kidnapping surge     0  \n",
       "1                              come trading sex food     1  \n",
       "2       bbc news asia pacific extinction man climate     0  \n",
       "3  2006 nobel laureate aleksander solzhenitsyn ac...     0  \n",
       "4  philippine peace advocate say muslim need assu...     1  \n",
       "\n",
       "[5 rows x 26 columns]"
      ]
     },
     "execution_count": 15,
     "metadata": {},
     "output_type": "execute_result"
    }
   ],
   "source": [
    "data_processed = pd.concat([X_processed, Y], axis=1)\n",
    "data_processed.head()"
   ]
  },
  {
   "cell_type": "code",
   "execution_count": 16,
   "id": "intellectual-increase",
   "metadata": {
    "colab": {
     "base_uri": "https://localhost:8080/",
     "height": 204
    },
    "id": "intellectual-increase",
    "outputId": "318ff545-9752-4fe5-8795-1164e2dcc3ef"
   },
   "outputs": [
    {
     "data": {
      "text/html": [
       "<div>\n",
       "<style scoped>\n",
       "    .dataframe tbody tr th:only-of-type {\n",
       "        vertical-align: middle;\n",
       "    }\n",
       "\n",
       "    .dataframe tbody tr th {\n",
       "        vertical-align: top;\n",
       "    }\n",
       "\n",
       "    .dataframe thead th {\n",
       "        text-align: right;\n",
       "    }\n",
       "</style>\n",
       "<table border=\"1\" class=\"dataframe\">\n",
       "  <thead>\n",
       "    <tr style=\"text-align: right;\">\n",
       "      <th></th>\n",
       "      <th>RawCorpus</th>\n",
       "      <th>Label</th>\n",
       "    </tr>\n",
       "  </thead>\n",
       "  <tbody>\n",
       "    <tr>\n",
       "      <th>0</th>\n",
       "      <td>georgia down two russian warplane country move...</td>\n",
       "      <td>0</td>\n",
       "    </tr>\n",
       "    <tr>\n",
       "      <th>1</th>\n",
       "      <td>wont america nato help u wont help u help iraq...</td>\n",
       "      <td>1</td>\n",
       "    </tr>\n",
       "    <tr>\n",
       "      <th>2</th>\n",
       "      <td>remember adorable 9 year old sang opening cere...</td>\n",
       "      <td>0</td>\n",
       "    </tr>\n",
       "    <tr>\n",
       "      <th>3</th>\n",
       "      <td>u refuse israel weapon attack iran report pres...</td>\n",
       "      <td>0</td>\n",
       "    </tr>\n",
       "    <tr>\n",
       "      <th>4</th>\n",
       "      <td>expert admit legalise drug war south osetia 89...</td>\n",
       "      <td>1</td>\n",
       "    </tr>\n",
       "  </tbody>\n",
       "</table>\n",
       "</div>"
      ],
      "text/plain": [
       "                                           RawCorpus  Label\n",
       "0  georgia down two russian warplane country move...      0\n",
       "1  wont america nato help u wont help u help iraq...      1\n",
       "2  remember adorable 9 year old sang opening cere...      0\n",
       "3  u refuse israel weapon attack iran report pres...      0\n",
       "4  expert admit legalise drug war south osetia 89...      1"
      ]
     },
     "execution_count": 16,
     "metadata": {},
     "output_type": "execute_result"
    }
   ],
   "source": [
    "data_combined = pd.concat([X_combined, Y], axis=1)\n",
    "data_combined.head()"
   ]
  },
  {
   "cell_type": "code",
   "execution_count": 17,
   "id": "nnA2tsetiued",
   "metadata": {
    "colab": {
     "base_uri": "https://localhost:8080/"
    },
    "id": "nnA2tsetiued",
    "outputId": "1e7f8fcd-8e52-4fe2-8886-c3f9bab65d7b",
    "scrolled": true
   },
   "outputs": [
    {
     "data": {
      "text/plain": [
       "1    1065\n",
       "0     924\n",
       "Name: Label, dtype: int64"
      ]
     },
     "execution_count": 17,
     "metadata": {},
     "output_type": "execute_result"
    }
   ],
   "source": [
    "data_combined['Label'].value_counts()"
   ]
  },
  {
   "cell_type": "markdown",
   "id": "oriental-feeling",
   "metadata": {},
   "source": [
    "## Supervised Machine Learning"
   ]
  },
  {
   "cell_type": "code",
   "execution_count": 18,
   "id": "1h8gn35rix-s",
   "metadata": {
    "id": "1h8gn35rix-s"
   },
   "outputs": [],
   "source": [
    "X_train, X_test, y_train,y_test = train_test_split(data_combined.iloc[:,0], data_combined.iloc[:,1], test_size=0.2, random_state=32)"
   ]
  },
  {
   "cell_type": "code",
   "execution_count": 106,
   "id": "7LF6G6j7iyOp",
   "metadata": {
    "colab": {
     "base_uri": "https://localhost:8080/"
    },
    "id": "7LF6G6j7iyOp",
    "outputId": "194108d8-5d3c-4e9d-8a78-c68e775640db"
   },
   "outputs": [
    {
     "name": "stdout",
     "output_type": "stream",
     "text": [
      "(1591,) (1591,)\n",
      "(398,) (398,)\n"
     ]
    }
   ],
   "source": [
    "print(X_train.shape, y_train.shape)\n",
    "print(X_test.shape, y_test.shape)"
   ]
  },
  {
   "cell_type": "code",
   "execution_count": 107,
   "id": "luRTJLQpiyfY",
   "metadata": {
    "id": "luRTJLQpiyfY"
   },
   "outputs": [],
   "source": [
    "vectorizer_unigram = sklearn.feature_extraction.text.TfidfVectorizer(ngram_range= (1,1),lowercase=False)\n",
    "train_vectors_unigram = vectorizer_unigram.fit_transform(X_train)\n",
    "test_vectors_unigram = vectorizer_unigram.transform(X_test)\n",
    "\n",
    "vectorizer_bigram = sklearn.feature_extraction.text.TfidfVectorizer(ngram_range= (2,2),lowercase=False)\n",
    "train_vectors_bigram = vectorizer_bigram.fit_transform(X_train)\n",
    "test_vectors_bigram = vectorizer_bigram.transform(X_test)\n",
    "\n",
    "vectorizer_trigram = sklearn.feature_extraction.text.TfidfVectorizer(ngram_range= (3,3),lowercase=False)\n",
    "train_vectors_trigram = vectorizer_trigram.fit_transform(X_train)\n",
    "test_vectors_trigram = vectorizer_trigram.transform(X_test)\n",
    "\n",
    "vectorizer_fourgram = sklearn.feature_extraction.text.TfidfVectorizer(ngram_range= (4,4),lowercase=False)\n",
    "train_vectors_fourgram = vectorizer_fourgram.fit_transform(X_train)\n",
    "test_vectors_fourgram = vectorizer_fourgram.transform(X_test)\n",
    "\n",
    "vectorizer_fivegram = sklearn.feature_extraction.text.TfidfVectorizer(ngram_range= (5,5),lowercase=False)\n",
    "train_vectors_fivegram = vectorizer_fivegram.fit_transform(X_train)\n",
    "test_vectors_fivegram = vectorizer_fivegram.transform(X_test)"
   ]
  },
  {
   "cell_type": "code",
   "execution_count": 108,
   "id": "nULl_Cq4U-Kn",
   "metadata": {
    "id": "nULl_Cq4U-Kn"
   },
   "outputs": [],
   "source": [
    "pipe = Pipeline(steps=[('estimator', LogisticRegression())])"
   ]
  },
  {
   "cell_type": "code",
   "execution_count": 109,
   "id": "HC7IwHpzU-eG",
   "metadata": {
    "id": "HC7IwHpzU-eG"
   },
   "outputs": [],
   "source": [
    "params_grid = [{\n",
    "                'estimator':[LogisticRegression(max_iter = 1000000)],\n",
    "                'estimator__C': [1, 10, 100, 1000,10000],\n",
    "                },\n",
    "                {\n",
    "                'estimator': [SVC(kernel = 'linear',probability=True)],\n",
    "                'estimator__C': [1, 10, 100, 1000,10000],\n",
    "                },\n",
    "               {\n",
    "                'estimator':[MultinomialNB()],\n",
    "                'estimator__alpha': np.linspace(0.25,0.75,51),  \n",
    "               },\n",
    "               {\n",
    "                'estimator':[BernoulliNB()],\n",
    "                'estimator__alpha': np.linspace(0.05,0.25,21),  \n",
    "               },\n",
    "              ]\n"
   ]
  },
  {
   "cell_type": "code",
   "execution_count": 110,
   "id": "6jvnwMInU-yO",
   "metadata": {
    "id": "6jvnwMInU-yO"
   },
   "outputs": [],
   "source": [
    "grid_unigram = GridSearchCV(pipe, params_grid,scoring = 'accuracy',cv = 5, verbose = 1)\n",
    "grid_bigram = GridSearchCV(pipe, params_grid,scoring = 'accuracy',cv = 5, verbose = 1)\n",
    "grid_trigram = GridSearchCV(pipe, params_grid,scoring = 'accuracy',cv = 5, verbose = 1)\n",
    "grid_fourgram = GridSearchCV(pipe, params_grid,scoring = 'accuracy',cv = 5, verbose = 1)\n",
    "grid_fivegram = GridSearchCV(pipe, params_grid,scoring = 'accuracy',cv = 5, verbose = 1)"
   ]
  },
  {
   "cell_type": "code",
   "execution_count": 111,
   "id": "V6frHIPyXu7G",
   "metadata": {
    "colab": {
     "base_uri": "https://localhost:8080/"
    },
    "id": "V6frHIPyXu7G",
    "outputId": "5a403dc3-fd28-4a89-8471-14c8d37347e5"
   },
   "outputs": [
    {
     "name": "stdout",
     "output_type": "stream",
     "text": [
      "Fitting 5 folds for each of 82 candidates, totalling 410 fits\n"
     ]
    },
    {
     "data": {
      "text/plain": [
       "GridSearchCV(cv=5,\n",
       "             estimator=Pipeline(steps=[('estimator', LogisticRegression())]),\n",
       "             param_grid=[{'estimator': [LogisticRegression(max_iter=1000000)],\n",
       "                          'estimator__C': [1, 10, 100, 1000, 10000]},\n",
       "                         {'estimator': [SVC(kernel='linear', probability=True)],\n",
       "                          'estimator__C': [1, 10, 100, 1000, 10000]},\n",
       "                         {'estimator': [MultinomialNB(alpha=0.72)],\n",
       "                          'estimator__alpha': array([0.25, 0.26...\n",
       "       0.36, 0.37, 0.38, 0.39, 0.4 , 0.41, 0.42, 0.43, 0.44, 0.45, 0.46,\n",
       "       0.47, 0.48, 0.49, 0.5 , 0.51, 0.52, 0.53, 0.54, 0.55, 0.56, 0.57,\n",
       "       0.58, 0.59, 0.6 , 0.61, 0.62, 0.63, 0.64, 0.65, 0.66, 0.67, 0.68,\n",
       "       0.69, 0.7 , 0.71, 0.72, 0.73, 0.74, 0.75])},\n",
       "                         {'estimator': [BernoulliNB()],\n",
       "                          'estimator__alpha': array([0.05, 0.06, 0.07, 0.08, 0.09, 0.1 , 0.11, 0.12, 0.13, 0.14, 0.15,\n",
       "       0.16, 0.17, 0.18, 0.19, 0.2 , 0.21, 0.22, 0.23, 0.24, 0.25])}],\n",
       "             scoring='accuracy', verbose=1)"
      ]
     },
     "execution_count": 111,
     "metadata": {},
     "output_type": "execute_result"
    }
   ],
   "source": [
    "grid_unigram.fit(train_vectors_unigram, y_train)"
   ]
  },
  {
   "cell_type": "code",
   "execution_count": 112,
   "id": "8ZpmBqRKiTms",
   "metadata": {
    "id": "8ZpmBqRKiTms"
   },
   "outputs": [
    {
     "name": "stdout",
     "output_type": "stream",
     "text": [
      "Fitting 5 folds for each of 82 candidates, totalling 410 fits\n"
     ]
    },
    {
     "data": {
      "text/plain": [
       "GridSearchCV(cv=5,\n",
       "             estimator=Pipeline(steps=[('estimator', LogisticRegression())]),\n",
       "             param_grid=[{'estimator': [LogisticRegression(C=1,\n",
       "                                                           max_iter=1000000)],\n",
       "                          'estimator__C': [1, 10, 100, 1000, 10000]},\n",
       "                         {'estimator': [SVC(kernel='linear', probability=True)],\n",
       "                          'estimator__C': [1, 10, 100, 1000, 10000]},\n",
       "                         {'estimator': [MultinomialNB(alpha=0.72)],\n",
       "                          'estimator__alpha': array([0.25,...\n",
       "       0.36, 0.37, 0.38, 0.39, 0.4 , 0.41, 0.42, 0.43, 0.44, 0.45, 0.46,\n",
       "       0.47, 0.48, 0.49, 0.5 , 0.51, 0.52, 0.53, 0.54, 0.55, 0.56, 0.57,\n",
       "       0.58, 0.59, 0.6 , 0.61, 0.62, 0.63, 0.64, 0.65, 0.66, 0.67, 0.68,\n",
       "       0.69, 0.7 , 0.71, 0.72, 0.73, 0.74, 0.75])},\n",
       "                         {'estimator': [BernoulliNB()],\n",
       "                          'estimator__alpha': array([0.05, 0.06, 0.07, 0.08, 0.09, 0.1 , 0.11, 0.12, 0.13, 0.14, 0.15,\n",
       "       0.16, 0.17, 0.18, 0.19, 0.2 , 0.21, 0.22, 0.23, 0.24, 0.25])}],\n",
       "             scoring='accuracy', verbose=1)"
      ]
     },
     "execution_count": 112,
     "metadata": {},
     "output_type": "execute_result"
    }
   ],
   "source": [
    "grid_bigram.fit(train_vectors_bigram, y_train)"
   ]
  },
  {
   "cell_type": "code",
   "execution_count": 113,
   "id": "sJ5CJ6odiT_E",
   "metadata": {
    "id": "sJ5CJ6odiT_E"
   },
   "outputs": [
    {
     "name": "stdout",
     "output_type": "stream",
     "text": [
      "Fitting 5 folds for each of 82 candidates, totalling 410 fits\n"
     ]
    },
    {
     "data": {
      "text/plain": [
       "GridSearchCV(cv=5,\n",
       "             estimator=Pipeline(steps=[('estimator', LogisticRegression())]),\n",
       "             param_grid=[{'estimator': [LogisticRegression(C=1,\n",
       "                                                           max_iter=1000000)],\n",
       "                          'estimator__C': [1, 10, 100, 1000, 10000]},\n",
       "                         {'estimator': [SVC(kernel='linear', probability=True)],\n",
       "                          'estimator__C': [1, 10, 100, 1000, 10000]},\n",
       "                         {'estimator': [MultinomialNB(alpha=0.74)],\n",
       "                          'estimator__alpha': array([0.25,...\n",
       "       0.36, 0.37, 0.38, 0.39, 0.4 , 0.41, 0.42, 0.43, 0.44, 0.45, 0.46,\n",
       "       0.47, 0.48, 0.49, 0.5 , 0.51, 0.52, 0.53, 0.54, 0.55, 0.56, 0.57,\n",
       "       0.58, 0.59, 0.6 , 0.61, 0.62, 0.63, 0.64, 0.65, 0.66, 0.67, 0.68,\n",
       "       0.69, 0.7 , 0.71, 0.72, 0.73, 0.74, 0.75])},\n",
       "                         {'estimator': [BernoulliNB()],\n",
       "                          'estimator__alpha': array([0.05, 0.06, 0.07, 0.08, 0.09, 0.1 , 0.11, 0.12, 0.13, 0.14, 0.15,\n",
       "       0.16, 0.17, 0.18, 0.19, 0.2 , 0.21, 0.22, 0.23, 0.24, 0.25])}],\n",
       "             scoring='accuracy', verbose=1)"
      ]
     },
     "execution_count": 113,
     "metadata": {},
     "output_type": "execute_result"
    }
   ],
   "source": [
    "grid_trigram.fit(train_vectors_trigram, y_train)"
   ]
  },
  {
   "cell_type": "code",
   "execution_count": 114,
   "id": "vSWFVAMXiUO5",
   "metadata": {
    "id": "vSWFVAMXiUO5"
   },
   "outputs": [
    {
     "name": "stdout",
     "output_type": "stream",
     "text": [
      "Fitting 5 folds for each of 82 candidates, totalling 410 fits\n"
     ]
    },
    {
     "data": {
      "text/plain": [
       "GridSearchCV(cv=5,\n",
       "             estimator=Pipeline(steps=[('estimator', LogisticRegression())]),\n",
       "             param_grid=[{'estimator': [LogisticRegression(C=1,\n",
       "                                                           max_iter=1000000)],\n",
       "                          'estimator__C': [1, 10, 100, 1000, 10000]},\n",
       "                         {'estimator': [SVC(C=10, kernel='linear',\n",
       "                                            probability=True)],\n",
       "                          'estimator__C': [1, 10, 100, 1000, 10000]},\n",
       "                         {'estimator': [MultinomialNB(alpha=0.74)],\n",
       "                          'estimator__alpha': array([...\n",
       "       0.36, 0.37, 0.38, 0.39, 0.4 , 0.41, 0.42, 0.43, 0.44, 0.45, 0.46,\n",
       "       0.47, 0.48, 0.49, 0.5 , 0.51, 0.52, 0.53, 0.54, 0.55, 0.56, 0.57,\n",
       "       0.58, 0.59, 0.6 , 0.61, 0.62, 0.63, 0.64, 0.65, 0.66, 0.67, 0.68,\n",
       "       0.69, 0.7 , 0.71, 0.72, 0.73, 0.74, 0.75])},\n",
       "                         {'estimator': [BernoulliNB()],\n",
       "                          'estimator__alpha': array([0.05, 0.06, 0.07, 0.08, 0.09, 0.1 , 0.11, 0.12, 0.13, 0.14, 0.15,\n",
       "       0.16, 0.17, 0.18, 0.19, 0.2 , 0.21, 0.22, 0.23, 0.24, 0.25])}],\n",
       "             scoring='accuracy', verbose=1)"
      ]
     },
     "execution_count": 114,
     "metadata": {},
     "output_type": "execute_result"
    }
   ],
   "source": [
    "grid_fourgram.fit(train_vectors_fourgram, y_train)"
   ]
  },
  {
   "cell_type": "code",
   "execution_count": 115,
   "id": "S_BMyz5AiUeV",
   "metadata": {
    "id": "S_BMyz5AiUeV"
   },
   "outputs": [
    {
     "name": "stdout",
     "output_type": "stream",
     "text": [
      "Fitting 5 folds for each of 82 candidates, totalling 410 fits\n"
     ]
    },
    {
     "data": {
      "text/plain": [
       "GridSearchCV(cv=5,\n",
       "             estimator=Pipeline(steps=[('estimator', LogisticRegression())]),\n",
       "             param_grid=[{'estimator': [LogisticRegression(C=1,\n",
       "                                                           max_iter=1000000)],\n",
       "                          'estimator__C': [1, 10, 100, 1000, 10000]},\n",
       "                         {'estimator': [SVC(C=10, kernel='linear',\n",
       "                                            probability=True)],\n",
       "                          'estimator__C': [1, 10, 100, 1000, 10000]},\n",
       "                         {'estimator': [MultinomialNB(alpha=0.42000000000000004)],\n",
       "                          'estimator_...\n",
       "       0.36, 0.37, 0.38, 0.39, 0.4 , 0.41, 0.42, 0.43, 0.44, 0.45, 0.46,\n",
       "       0.47, 0.48, 0.49, 0.5 , 0.51, 0.52, 0.53, 0.54, 0.55, 0.56, 0.57,\n",
       "       0.58, 0.59, 0.6 , 0.61, 0.62, 0.63, 0.64, 0.65, 0.66, 0.67, 0.68,\n",
       "       0.69, 0.7 , 0.71, 0.72, 0.73, 0.74, 0.75])},\n",
       "                         {'estimator': [BernoulliNB()],\n",
       "                          'estimator__alpha': array([0.05, 0.06, 0.07, 0.08, 0.09, 0.1 , 0.11, 0.12, 0.13, 0.14, 0.15,\n",
       "       0.16, 0.17, 0.18, 0.19, 0.2 , 0.21, 0.22, 0.23, 0.24, 0.25])}],\n",
       "             scoring='accuracy', verbose=1)"
      ]
     },
     "execution_count": 115,
     "metadata": {},
     "output_type": "execute_result"
    }
   ],
   "source": [
    "grid_fivegram.fit(train_vectors_fivegram, y_train)"
   ]
  },
  {
   "cell_type": "code",
   "execution_count": 116,
   "id": "nStnMGxSiU61",
   "metadata": {
    "id": "nStnMGxSiU61"
   },
   "outputs": [
    {
     "data": {
      "text/plain": [
       "{'estimator': MultinomialNB(alpha=0.42000000000000004),\n",
       " 'estimator__alpha': 0.72}"
      ]
     },
     "execution_count": 116,
     "metadata": {},
     "output_type": "execute_result"
    }
   ],
   "source": [
    "grid_unigram.best_params_"
   ]
  },
  {
   "cell_type": "code",
   "execution_count": 117,
   "id": "lpnD6Xr9XvQB",
   "metadata": {
    "id": "lpnD6Xr9XvQB"
   },
   "outputs": [
    {
     "data": {
      "text/plain": [
       "{'estimator': LogisticRegression(C=1, max_iter=1000000), 'estimator__C': 1}"
      ]
     },
     "execution_count": 117,
     "metadata": {},
     "output_type": "execute_result"
    }
   ],
   "source": [
    "grid_bigram.best_params_"
   ]
  },
  {
   "cell_type": "code",
   "execution_count": 118,
   "id": "wRco-Nc5jLBj",
   "metadata": {
    "id": "wRco-Nc5jLBj"
   },
   "outputs": [
    {
     "data": {
      "text/plain": [
       "{'estimator': MultinomialNB(alpha=0.42000000000000004),\n",
       " 'estimator__alpha': 0.74}"
      ]
     },
     "execution_count": 118,
     "metadata": {},
     "output_type": "execute_result"
    }
   ],
   "source": [
    "grid_trigram.best_params_"
   ]
  },
  {
   "cell_type": "code",
   "execution_count": 119,
   "id": "aKl84mpEjLP8",
   "metadata": {
    "id": "aKl84mpEjLP8"
   },
   "outputs": [
    {
     "data": {
      "text/plain": [
       "{'estimator': SVC(C=10, kernel='linear', probability=True), 'estimator__C': 10}"
      ]
     },
     "execution_count": 119,
     "metadata": {},
     "output_type": "execute_result"
    }
   ],
   "source": [
    "grid_fourgram.best_params_"
   ]
  },
  {
   "cell_type": "code",
   "execution_count": 120,
   "id": "RozYEtaIjLh6",
   "metadata": {
    "id": "RozYEtaIjLh6"
   },
   "outputs": [
    {
     "data": {
      "text/plain": [
       "{'estimator': MultinomialNB(alpha=0.42000000000000004),\n",
       " 'estimator__alpha': 0.42000000000000004}"
      ]
     },
     "execution_count": 120,
     "metadata": {},
     "output_type": "execute_result"
    }
   ],
   "source": [
    "grid_fivegram.best_params_"
   ]
  },
  {
   "cell_type": "code",
   "execution_count": 135,
   "id": "n0KjRiw-jLzY",
   "metadata": {
    "id": "n0KjRiw-jLzY"
   },
   "outputs": [
    {
     "name": "stdout",
     "output_type": "stream",
     "text": [
      "f1 0.705691056910569\n",
      "precision 0.5465994962216625\n",
      "recall 0.9954128440366973\n",
      "accuracy 0.5452261306532663\n",
      "[[  0 180]\n",
      " [  1 217]]\n"
     ]
    }
   ],
   "source": [
    "pred_unigram = grid_unigram.predict(test_vectors_unigram)\n",
    "print(\"f1\",sklearn.metrics.f1_score(y_test, pred_unigram, average='binary'))\n",
    "print(\"precision\",sklearn.metrics.precision_score(y_test, pred_unigram, average='binary'))\n",
    "print(\"recall\",sklearn.metrics.recall_score(y_test, pred_unigram, average='binary'))\n",
    "print(\"accuracy\", sklearn.metrics.accuracy_score(y_test, pred_unigram))\n",
    "print(metrics.confusion_matrix(y_test,pred_unigram))"
   ]
  },
  {
   "cell_type": "code",
   "execution_count": 136,
   "id": "igWlVFmKjRG6",
   "metadata": {
    "id": "igWlVFmKjRG6"
   },
   "outputs": [
    {
     "name": "stdout",
     "output_type": "stream",
     "text": [
      "f1 0.7091503267973857\n",
      "precision 0.550761421319797\n",
      "recall 0.9954128440366973\n",
      "accuracy 0.5527638190954773\n",
      "[[  3 177]\n",
      " [  1 217]]\n"
     ]
    }
   ],
   "source": [
    "pred_bigram = grid_bigram.predict(test_vectors_bigram)\n",
    "print(\"f1\",sklearn.metrics.f1_score(y_test, pred_bigram, average='binary'))\n",
    "print(\"precision\",sklearn.metrics.precision_score(y_test, pred_bigram, average='binary'))\n",
    "print(\"recall\",sklearn.metrics.recall_score(y_test, pred_bigram, average='binary'))\n",
    "print(\"accuracy\", sklearn.metrics.accuracy_score(y_test, pred_bigram))\n",
    "print(metrics.confusion_matrix(y_test,pred_bigram))"
   ]
  },
  {
   "cell_type": "code",
   "execution_count": 137,
   "id": "q8UYHtskjRWV",
   "metadata": {
    "id": "q8UYHtskjRWV"
   },
   "outputs": [
    {
     "name": "stdout",
     "output_type": "stream",
     "text": [
      "f1 0.6977547495682211\n",
      "precision 0.5595567867036011\n",
      "recall 0.926605504587156\n",
      "accuracy 0.5603015075376885\n",
      "[[ 21 159]\n",
      " [ 16 202]]\n"
     ]
    }
   ],
   "source": [
    "pred_trigram = grid_trigram.predict(test_vectors_trigram)\n",
    "print(\"f1\",sklearn.metrics.f1_score(y_test, pred_trigram, average='binary'))\n",
    "print(\"precision\",sklearn.metrics.precision_score(y_test, pred_trigram, average='binary'))\n",
    "print(\"recall\",sklearn.metrics.recall_score(y_test, pred_trigram, average='binary'))\n",
    "print(\"accuracy\", sklearn.metrics.accuracy_score(y_test, pred_trigram))\n",
    "print(metrics.confusion_matrix(y_test,pred_trigram))"
   ]
  },
  {
   "cell_type": "code",
   "execution_count": 138,
   "id": "b_UvuCtdjRmq",
   "metadata": {
    "id": "b_UvuCtdjRmq"
   },
   "outputs": [
    {
     "name": "stdout",
     "output_type": "stream",
     "text": [
      "f1 0.6691588785046728\n",
      "precision 0.5646687697160884\n",
      "recall 0.8211009174311926\n",
      "accuracy 0.5552763819095478\n",
      "[[ 42 138]\n",
      " [ 39 179]]\n"
     ]
    }
   ],
   "source": [
    "pred_fourgram = grid_fourgram.predict(test_vectors_fourgram)\n",
    "print(\"f1\",sklearn.metrics.f1_score(y_test, pred_fourgram, average='binary'))\n",
    "print(\"precision\",sklearn.metrics.precision_score(y_test, pred_fourgram, average='binary'))\n",
    "print(\"recall\",sklearn.metrics.recall_score(y_test, pred_fourgram, average='binary'))\n",
    "print(\"accuracy\", sklearn.metrics.accuracy_score(y_test, pred_fourgram))\n",
    "print(metrics.confusion_matrix(y_test,pred_fourgram))"
   ]
  },
  {
   "cell_type": "code",
   "execution_count": 139,
   "id": "Oz6dS2bsXvvr",
   "metadata": {
    "id": "Oz6dS2bsXvvr"
   },
   "outputs": [
    {
     "name": "stdout",
     "output_type": "stream",
     "text": [
      "f1 0.6795096322241682\n",
      "precision 0.5495750708215298\n",
      "recall 0.8899082568807339\n",
      "accuracy 0.5402010050251256\n",
      "[[ 21 159]\n",
      " [ 24 194]]\n"
     ]
    }
   ],
   "source": [
    "pred_fivegram = grid_fivegram.predict(test_vectors_fivegram)\n",
    "print(\"f1\",sklearn.metrics.f1_score(y_test, pred_fivegram, average='binary'))\n",
    "print(\"precision\",sklearn.metrics.precision_score(y_test, pred_fivegram, average='binary'))\n",
    "print(\"recall\",sklearn.metrics.recall_score(y_test, pred_fivegram, average='binary'))\n",
    "print(\"accuracy\", sklearn.metrics.accuracy_score(y_test, pred_fivegram))\n",
    "print(metrics.confusion_matrix(y_test,pred_fivegram))"
   ]
  },
  {
   "cell_type": "code",
   "execution_count": 126,
   "id": "0TS0whapoYFf",
   "metadata": {
    "id": "0TS0whapoYFf"
   },
   "outputs": [],
   "source": [
    "c3 = make_pipeline(vectorizer_trigram, grid_trigram)\n",
    "c4 = make_pipeline(vectorizer_fourgram, grid_fourgram)\n",
    "c5 = make_pipeline(vectorizer_fivegram, grid_fivegram)"
   ]
  },
  {
   "cell_type": "code",
   "execution_count": 127,
   "id": "g2DdiO6qiy4u",
   "metadata": {
    "id": "g2DdiO6qiy4u"
   },
   "outputs": [],
   "source": [
    "class_names = [0,1]"
   ]
  },
  {
   "cell_type": "code",
   "execution_count": 128,
   "id": "ZfUpADqhyMzW",
   "metadata": {
    "id": "ZfUpADqhyMzW",
    "scrolled": true
   },
   "outputs": [
    {
     "name": "stdout",
     "output_type": "stream",
     "text": [
      "[[0.45298028 0.54701972]]\n",
      "[[0.44097146 0.55902854]]\n",
      "[[0.50174409 0.49825591]]\n"
     ]
    }
   ],
   "source": [
    "print(c3.predict_proba([X_test.iloc[4]]))\n",
    "print(c4.predict_proba([X_test.iloc[4]]))\n",
    "print(c5.predict_proba([X_test.iloc[4]]))"
   ]
  },
  {
   "cell_type": "markdown",
   "id": "handled-stadium",
   "metadata": {},
   "source": [
    "## LIME Explainer"
   ]
  },
  {
   "cell_type": "code",
   "execution_count": 129,
   "id": "wRpif-JAi2Bl",
   "metadata": {
    "id": "wRpif-JAi2Bl"
   },
   "outputs": [],
   "source": [
    " from lime.lime_text import LimeTextExplainer\n",
    "explainer = LimeTextExplainer(class_names=class_names)"
   ]
  },
  {
   "cell_type": "code",
   "execution_count": 130,
   "id": "7Z5DCRUieNif",
   "metadata": {
    "id": "7Z5DCRUieNif"
   },
   "outputs": [
    {
     "name": "stdout",
     "output_type": "stream",
     "text": [
      "Date: 83\n",
      "Probability(UP) = 0.5758607697180906\n",
      "True class: 1\n"
     ]
    }
   ],
   "source": [
    "idx = 83\n",
    "exp3 = explainer.explain_instance(X_test.iloc[idx], c3.predict_proba, num_features=10)\n",
    "print('Date: %d' % idx)\n",
    "print('Probability(UP) =', c3.predict_proba([X_test.iloc[idx]])[0,1])\n",
    "print('True class: %s' % class_names[y_test.iloc[idx]])"
   ]
  },
  {
   "cell_type": "code",
   "execution_count": 143,
   "id": "particular-robertson",
   "metadata": {},
   "outputs": [
    {
     "data": {
      "text/plain": [
       "[('david', 0.01528359614426662),\n",
       " ('minister', 0.01360911269431382),\n",
       " ('saudi', 0.009482688457030127),\n",
       " ('old', -0.008202357193572834),\n",
       " ('kim', 0.006804055592906224),\n",
       " ('prime', 0.006668956185429725),\n",
       " ('cameron', 0.006639933021776804),\n",
       " ('jong', 0.006440645345907512),\n",
       " ('arabia', 0.005532510692567405),\n",
       " ('arrested', 0.004378207864353341)]"
      ]
     },
     "execution_count": 143,
     "metadata": {},
     "output_type": "execute_result"
    }
   ],
   "source": [
    "exp3.as_list()"
   ]
  },
  {
   "cell_type": "code",
   "execution_count": 133,
   "id": "supposed-enough",
   "metadata": {},
   "outputs": [
    {
     "data": {
      "image/png": "[encoded data removed]",
      "text/plain": [
       "<Figure size 432x288 with 1 Axes>"
      ]
     },
     "metadata": {
      "needs_background": "light"
     },
     "output_type": "display_data"
    }
   ],
   "source": [
    "%matplotlib inline\n",
    "fig3 = exp3.as_pyplot_figure()"
   ]
  },
  {
   "cell_type": "code",
   "execution_count": 131,
   "id": "QGzDLK_6eSTX",
   "metadata": {
    "id": "QGzDLK_6eSTX",
    "scrolled": true
   },
   "outputs": [
    {
     "name": "stdout",
     "output_type": "stream",
     "text": [
      "Date: 83\n",
      "Probability(UP) = 0.39622333173666363\n",
      "True class: 1\n"
     ]
    }
   ],
   "source": [
    "idx = 83\n",
    "exp4 = explainer.explain_instance(X_test.iloc[idx], c4.predict_proba, num_features=10)\n",
    "print('Date: %d' % idx)\n",
    "print('Probability(UP) =', c4.predict_proba([X_test.iloc[idx]])[0,1])\n",
    "print('True class: %s' % class_names[y_test.iloc[idx]])"
   ]
  },
  {
   "cell_type": "code",
   "execution_count": 144,
   "id": "covered-columbia",
   "metadata": {},
   "outputs": [
    {
     "data": {
      "text/plain": [
       "[('leader', -0.02855454555129423),\n",
       " ('cameron', -0.025436219973309457),\n",
       " ('un', -0.0254345474885908),\n",
       " ('prime', -0.024861185318206712),\n",
       " ('david', -0.02445924611869413),\n",
       " ('jong', -0.02441721969370548),\n",
       " ('minister', -0.02415312476299024),\n",
       " ('kim', -0.02292466874704879),\n",
       " ('webcam', 0.0033142655033749496),\n",
       " ('circus', 0.0031824437019957992)]"
      ]
     },
     "execution_count": 144,
     "metadata": {},
     "output_type": "execute_result"
    }
   ],
   "source": [
    "exp4.as_list()"
   ]
  },
  {
   "cell_type": "code",
   "execution_count": 134,
   "id": "synthetic-alabama",
   "metadata": {
    "scrolled": true
   },
   "outputs": [
    {
     "data": {
      "image/png": "[encoded data removed]",
      "text/plain": [
       "<Figure size 432x288 with 1 Axes>"
      ]
     },
     "metadata": {
      "needs_background": "light"
     },
     "output_type": "display_data"
    }
   ],
   "source": [
    "fig4 = exp4.as_pyplot_figure()"
   ]
  },
  {
   "cell_type": "markdown",
   "id": "rolled-jason",
   "metadata": {},
   "source": [
    "## Sentiment Intensity Analysis"
   ]
  },
  {
   "cell_type": "code",
   "execution_count": 147,
   "id": "xjrbmwOlyUxO",
   "metadata": {
    "id": "xjrbmwOlyUxO"
   },
   "outputs": [],
   "source": [
    "def processText2(inputText):\n",
    "    processedText = re.sub('[^a-zA-Z]', ' ', inputText)\n",
    "    processedText = processedText.replace(\"b \", \"\")\n",
    "    processedText = processedText.lower()\n",
    "    processedText = processedText.split()\n",
    "    processedText = \" \".join(processedText)\n",
    "    return processedText"
   ]
  },
  {
   "cell_type": "code",
   "execution_count": 148,
   "id": "MPcpOD2Mi2SI",
   "metadata": {
    "id": "MPcpOD2Mi2SI"
   },
   "outputs": [],
   "source": [
    "sia = SentimentIntensityAnalyzer()"
   ]
  },
  {
   "cell_type": "code",
   "execution_count": 149,
   "id": "e-vgjfwnYX_M",
   "metadata": {
    "id": "e-vgjfwnYX_M"
   },
   "outputs": [],
   "source": [
    "data_processed = data_processed.fillna(\"none\")"
   ]
  },
  {
   "cell_type": "code",
   "execution_count": 150,
   "id": "__ZNX0uGYaoH",
   "metadata": {
    "id": "__ZNX0uGYaoH"
   },
   "outputs": [
    {
     "data": {
      "text/html": [
       "<div>\n",
       "<style scoped>\n",
       "    .dataframe tbody tr th:only-of-type {\n",
       "        vertical-align: middle;\n",
       "    }\n",
       "\n",
       "    .dataframe tbody tr th {\n",
       "        vertical-align: top;\n",
       "    }\n",
       "\n",
       "    .dataframe thead th {\n",
       "        text-align: right;\n",
       "    }\n",
       "</style>\n",
       "<table border=\"1\" class=\"dataframe\">\n",
       "  <thead>\n",
       "    <tr style=\"text-align: right;\">\n",
       "      <th></th>\n",
       "      <th>Top1</th>\n",
       "      <th>Top2</th>\n",
       "      <th>Top3</th>\n",
       "      <th>Top4</th>\n",
       "      <th>Top5</th>\n",
       "      <th>Top6</th>\n",
       "      <th>Top7</th>\n",
       "      <th>Top8</th>\n",
       "      <th>Top9</th>\n",
       "      <th>Top10</th>\n",
       "      <th>...</th>\n",
       "      <th>Top17</th>\n",
       "      <th>Top18</th>\n",
       "      <th>Top19</th>\n",
       "      <th>Top20</th>\n",
       "      <th>Top21</th>\n",
       "      <th>Top22</th>\n",
       "      <th>Top23</th>\n",
       "      <th>Top24</th>\n",
       "      <th>Top25</th>\n",
       "      <th>Label</th>\n",
       "    </tr>\n",
       "  </thead>\n",
       "  <tbody>\n",
       "    <tr>\n",
       "      <th>0</th>\n",
       "      <td>georgia down two russian warplane country move...</td>\n",
       "      <td>breaking musharraf impeached</td>\n",
       "      <td>russia today column troop roll south ossetia f...</td>\n",
       "      <td>russian tank moving towards capital south osse...</td>\n",
       "      <td>afghan child raped impunity u n official say s...</td>\n",
       "      <td>150 russian tank entered south ossetia whilst ...</td>\n",
       "      <td>breaking georgia invades south ossetia russia ...</td>\n",
       "      <td>enemy combatent trial nothing sham salim haman...</td>\n",
       "      <td>georgian troop retreat osettain capital presum...</td>\n",
       "      <td>u prep georgia war russia</td>\n",
       "      <td>...</td>\n",
       "      <td>al qaeda face islamist backlash</td>\n",
       "      <td>condoleezza rice u would act prevent israeli s...</td>\n",
       "      <td>busy day european union approved new sanction ...</td>\n",
       "      <td>georgia withdraw 1 000 soldier iraq help fight...</td>\n",
       "      <td>pentagon think attacking iran bad idea u news ...</td>\n",
       "      <td>caucasus crisis georgia invades south ossetia</td>\n",
       "      <td>indian shoe manufactory series like work</td>\n",
       "      <td>visitor suffering mental illness banned olympics</td>\n",
       "      <td>help mexico kidnapping surge</td>\n",
       "      <td>0</td>\n",
       "    </tr>\n",
       "    <tr>\n",
       "      <th>1</th>\n",
       "      <td>wont america nato help u wont help u help iraq</td>\n",
       "      <td>bush put foot georgian conflict</td>\n",
       "      <td>jewish georgian minister thanks israeli traini...</td>\n",
       "      <td>georgian army flees disarray russian advance g...</td>\n",
       "      <td>olympic opening ceremony firework faked</td>\n",
       "      <td>mossad fraudulent new zealand passport iraq</td>\n",
       "      <td>russia angered israeli military sale georgia</td>\n",
       "      <td>american citizen living ossetia blame u georgi...</td>\n",
       "      <td>welcome world war iv high definition</td>\n",
       "      <td>georgia move mistake monumental proportion</td>\n",
       "      <td>...</td>\n",
       "      <td>believe tv neither russian georgian much victim</td>\n",
       "      <td>riot still going montreal canada police murder...</td>\n",
       "      <td>china overtake u largest manufacturer</td>\n",
       "      <td>war south ossetia pic</td>\n",
       "      <td>israeli physician group condemns state torture</td>\n",
       "      <td>russia beaten united state head peak oil</td>\n",
       "      <td>perhaps question georgia russia conflict</td>\n",
       "      <td>russia much better war</td>\n",
       "      <td>come trading sex food</td>\n",
       "      <td>1</td>\n",
       "    </tr>\n",
       "    <tr>\n",
       "      <th>2</th>\n",
       "      <td>remember adorable 9 year old sang opening cere...</td>\n",
       "      <td>russia end georgia operation</td>\n",
       "      <td>sexual harassment would child</td>\n",
       "      <td>al qa eda losing support iraq brutal crackdown...</td>\n",
       "      <td>ceasefire georgia putin outmaneuvers west</td>\n",
       "      <td>microsoft intel tried kill xo 100 laptop</td>\n",
       "      <td>stratfor russo georgian war balance power</td>\n",
       "      <td>trying get sense whole georgia russia war vote...</td>\n",
       "      <td>u military surprised timing swiftness russian ...</td>\n",
       "      <td>u beat war drum iran dump dollar</td>\n",
       "      <td>...</td>\n",
       "      <td>russia response georgia right</td>\n",
       "      <td>gorbachev accuses u making serious blunder pur...</td>\n",
       "      <td>russia georgia nato cold war two</td>\n",
       "      <td>remember adorable 62 year old led country war ...</td>\n",
       "      <td>war georgia israeli connection</td>\n",
       "      <td>sign point u encouraging georgia invade south ...</td>\n",
       "      <td>christopher king argues u nato behind georgian...</td>\n",
       "      <td>america new mexico</td>\n",
       "      <td>bbc news asia pacific extinction man climate</td>\n",
       "      <td>0</td>\n",
       "    </tr>\n",
       "    <tr>\n",
       "      <th>3</th>\n",
       "      <td>u refuse israel weapon attack iran report</td>\n",
       "      <td>president ordered attack tskhinvali capital so...</td>\n",
       "      <td>israel clear troop killed reuters cameraman</td>\n",
       "      <td>britain policy tough drug pointless say former...</td>\n",
       "      <td>body 14 year old found trunk latest ransom pai...</td>\n",
       "      <td>china moved 10 million quake survivor prefab home</td>\n",
       "      <td>bush announces operation get russia grill yeah...</td>\n",
       "      <td>russian force sink georgian ship</td>\n",
       "      <td>commander navy air reconnaissance squadron pro...</td>\n",
       "      <td>92 cnn reader russia action georgia justified</td>\n",
       "      <td>...</td>\n",
       "      <td>u humanitarian mission soon georgia russia hit...</td>\n",
       "      <td>georgia ddos came u source</td>\n",
       "      <td>russian convoy head georgia violating truce</td>\n",
       "      <td>israeli defence minister u strike iran</td>\n",
       "      <td>gorbachev choice</td>\n",
       "      <td>witness russian force head towards tbilisi bre...</td>\n",
       "      <td>quarter russian blame u conflict poll</td>\n",
       "      <td>georgian president say u military take control...</td>\n",
       "      <td>2006 nobel laureate aleksander solzhenitsyn ac...</td>\n",
       "      <td>0</td>\n",
       "    </tr>\n",
       "    <tr>\n",
       "      <th>4</th>\n",
       "      <td>expert admit legalise drug</td>\n",
       "      <td>war south osetia 89 picture made russian soldier</td>\n",
       "      <td>swedish wrestler ara abrahamian throw away med...</td>\n",
       "      <td>russia exaggerated death toll south ossetia 44...</td>\n",
       "      <td>missile killed 9 inside pakistan may launched cia</td>\n",
       "      <td>rushdie condemns random house refusal publish ...</td>\n",
       "      <td>poland u agree missle defense deal interesting...</td>\n",
       "      <td>russian conquer tblisi bet seriously bet</td>\n",
       "      <td>russia exaggerating south ossetian death toll ...</td>\n",
       "      <td>musharraf expected resign rather face impeachment</td>\n",
       "      <td>...</td>\n",
       "      <td>georgia confict could set back russia u relati...</td>\n",
       "      <td>war caucasus much product american imperial dr...</td>\n",
       "      <td>non medium photo south ossetia georgia conflict</td>\n",
       "      <td>georgian tv reporter shot russian sniper live ...</td>\n",
       "      <td>saudi arabia mother move block child marriage</td>\n",
       "      <td>taliban wage war humanitarian aid worker</td>\n",
       "      <td>russia world forget georgia territorial integrity</td>\n",
       "      <td>darfur rebel accuse sudan mounting major attack</td>\n",
       "      <td>philippine peace advocate say muslim need assu...</td>\n",
       "      <td>1</td>\n",
       "    </tr>\n",
       "  </tbody>\n",
       "</table>\n",
       "<p>5 rows × 26 columns</p>\n",
       "</div>"
      ],
      "text/plain": [
       "                                                Top1  \\\n",
       "0  georgia down two russian warplane country move...   \n",
       "1     wont america nato help u wont help u help iraq   \n",
       "2  remember adorable 9 year old sang opening cere...   \n",
       "3          u refuse israel weapon attack iran report   \n",
       "4                         expert admit legalise drug   \n",
       "\n",
       "                                                Top2  \\\n",
       "0                       breaking musharraf impeached   \n",
       "1                    bush put foot georgian conflict   \n",
       "2                       russia end georgia operation   \n",
       "3  president ordered attack tskhinvali capital so...   \n",
       "4   war south osetia 89 picture made russian soldier   \n",
       "\n",
       "                                                Top3  \\\n",
       "0  russia today column troop roll south ossetia f...   \n",
       "1  jewish georgian minister thanks israeli traini...   \n",
       "2                      sexual harassment would child   \n",
       "3        israel clear troop killed reuters cameraman   \n",
       "4  swedish wrestler ara abrahamian throw away med...   \n",
       "\n",
       "                                                Top4  \\\n",
       "0  russian tank moving towards capital south osse...   \n",
       "1  georgian army flees disarray russian advance g...   \n",
       "2  al qa eda losing support iraq brutal crackdown...   \n",
       "3  britain policy tough drug pointless say former...   \n",
       "4  russia exaggerated death toll south ossetia 44...   \n",
       "\n",
       "                                                Top5  \\\n",
       "0  afghan child raped impunity u n official say s...   \n",
       "1            olympic opening ceremony firework faked   \n",
       "2          ceasefire georgia putin outmaneuvers west   \n",
       "3  body 14 year old found trunk latest ransom pai...   \n",
       "4  missile killed 9 inside pakistan may launched cia   \n",
       "\n",
       "                                                Top6  \\\n",
       "0  150 russian tank entered south ossetia whilst ...   \n",
       "1        mossad fraudulent new zealand passport iraq   \n",
       "2           microsoft intel tried kill xo 100 laptop   \n",
       "3  china moved 10 million quake survivor prefab home   \n",
       "4  rushdie condemns random house refusal publish ...   \n",
       "\n",
       "                                                Top7  \\\n",
       "0  breaking georgia invades south ossetia russia ...   \n",
       "1       russia angered israeli military sale georgia   \n",
       "2          stratfor russo georgian war balance power   \n",
       "3  bush announces operation get russia grill yeah...   \n",
       "4  poland u agree missle defense deal interesting...   \n",
       "\n",
       "                                                Top8  \\\n",
       "0  enemy combatent trial nothing sham salim haman...   \n",
       "1  american citizen living ossetia blame u georgi...   \n",
       "2  trying get sense whole georgia russia war vote...   \n",
       "3                   russian force sink georgian ship   \n",
       "4           russian conquer tblisi bet seriously bet   \n",
       "\n",
       "                                                Top9  \\\n",
       "0  georgian troop retreat osettain capital presum...   \n",
       "1               welcome world war iv high definition   \n",
       "2  u military surprised timing swiftness russian ...   \n",
       "3  commander navy air reconnaissance squadron pro...   \n",
       "4  russia exaggerating south ossetian death toll ...   \n",
       "\n",
       "                                               Top10  ...  \\\n",
       "0                          u prep georgia war russia  ...   \n",
       "1         georgia move mistake monumental proportion  ...   \n",
       "2                   u beat war drum iran dump dollar  ...   \n",
       "3      92 cnn reader russia action georgia justified  ...   \n",
       "4  musharraf expected resign rather face impeachment  ...   \n",
       "\n",
       "                                               Top17  \\\n",
       "0                    al qaeda face islamist backlash   \n",
       "1    believe tv neither russian georgian much victim   \n",
       "2                      russia response georgia right   \n",
       "3  u humanitarian mission soon georgia russia hit...   \n",
       "4  georgia confict could set back russia u relati...   \n",
       "\n",
       "                                               Top18  \\\n",
       "0  condoleezza rice u would act prevent israeli s...   \n",
       "1  riot still going montreal canada police murder...   \n",
       "2  gorbachev accuses u making serious blunder pur...   \n",
       "3                         georgia ddos came u source   \n",
       "4  war caucasus much product american imperial dr...   \n",
       "\n",
       "                                               Top19  \\\n",
       "0  busy day european union approved new sanction ...   \n",
       "1              china overtake u largest manufacturer   \n",
       "2                   russia georgia nato cold war two   \n",
       "3        russian convoy head georgia violating truce   \n",
       "4    non medium photo south ossetia georgia conflict   \n",
       "\n",
       "                                               Top20  \\\n",
       "0  georgia withdraw 1 000 soldier iraq help fight...   \n",
       "1                              war south ossetia pic   \n",
       "2  remember adorable 62 year old led country war ...   \n",
       "3             israeli defence minister u strike iran   \n",
       "4  georgian tv reporter shot russian sniper live ...   \n",
       "\n",
       "                                               Top21  \\\n",
       "0  pentagon think attacking iran bad idea u news ...   \n",
       "1     israeli physician group condemns state torture   \n",
       "2                     war georgia israeli connection   \n",
       "3                                   gorbachev choice   \n",
       "4      saudi arabia mother move block child marriage   \n",
       "\n",
       "                                               Top22  \\\n",
       "0      caucasus crisis georgia invades south ossetia   \n",
       "1           russia beaten united state head peak oil   \n",
       "2  sign point u encouraging georgia invade south ...   \n",
       "3  witness russian force head towards tbilisi bre...   \n",
       "4           taliban wage war humanitarian aid worker   \n",
       "\n",
       "                                               Top23  \\\n",
       "0           indian shoe manufactory series like work   \n",
       "1           perhaps question georgia russia conflict   \n",
       "2  christopher king argues u nato behind georgian...   \n",
       "3              quarter russian blame u conflict poll   \n",
       "4  russia world forget georgia territorial integrity   \n",
       "\n",
       "                                               Top24  \\\n",
       "0   visitor suffering mental illness banned olympics   \n",
       "1                             russia much better war   \n",
       "2                                 america new mexico   \n",
       "3  georgian president say u military take control...   \n",
       "4    darfur rebel accuse sudan mounting major attack   \n",
       "\n",
       "                                               Top25 Label  \n",
       "0                       help mexico kidnapping surge     0  \n",
       "1                              come trading sex food     1  \n",
       "2       bbc news asia pacific extinction man climate     0  \n",
       "3  2006 nobel laureate aleksander solzhenitsyn ac...     0  \n",
       "4  philippine peace advocate say muslim need assu...     1  \n",
       "\n",
       "[5 rows x 26 columns]"
      ]
     },
     "execution_count": 150,
     "metadata": {},
     "output_type": "execute_result"
    }
   ],
   "source": [
    "data_processed.head()"
   ]
  },
  {
   "cell_type": "code",
   "execution_count": 152,
   "id": "yL4RRxoki2wQ",
   "metadata": {
    "id": "yL4RRxoki2wQ"
   },
   "outputs": [],
   "source": [
    "myPred = []\n",
    "for j in range(data_processed.shape[0]):\n",
    "    totalNeg = 0\n",
    "    totalPos = 0\n",
    "    for i in range(0, 25):\n",
    "        temp = sia.polarity_scores(processText2(data_processed.iloc[j, i]))\n",
    "        totalNeg += temp['neg']- 0.13     #0.895 was found by weight bias trials & errors\n",
    "        totalPos += temp['pos']\n",
    "#     print(df['Label'][j])\n",
    "#     print(\"Neg: \", totalNeg, \"Pos: \", totalPos)\n",
    "    if totalPos >= totalNeg:\n",
    "        myPred.append(1)\n",
    "    else:\n",
    "        myPred.append(0)\n",
    "data_processed['SIAPredict'] = myPred"
   ]
  },
  {
   "cell_type": "code",
   "execution_count": 153,
   "id": "1WWP56meZw_Z",
   "metadata": {
    "id": "1WWP56meZw_Z"
   },
   "outputs": [
    {
     "name": "stdout",
     "output_type": "stream",
     "text": [
      "number of positive labels: 1065\n",
      "number of adjusted predicts: 1065\n"
     ]
    }
   ],
   "source": [
    "print(\"number of positive labels: {}\".format(data_processed['Label'].sum()))\n",
    "print(\"number of adjusted predicts: {}\".format(data_processed[\"SIAPredict\"].sum()))"
   ]
  },
  {
   "cell_type": "code",
   "execution_count": 154,
   "id": "MSHVJa7rZxWs",
   "metadata": {
    "id": "MSHVJa7rZxWs"
   },
   "outputs": [
    {
     "name": "stdout",
     "output_type": "stream",
     "text": [
      "tp: 581, tn: 440, fp: 484, fn: 484\n",
      "precision: 0.5455399061032864, recall: 0.5455399061032864\n",
      "f1:  0.5455399061032864\n",
      "0.5133232780291603\n"
     ]
    }
   ],
   "source": [
    "tp, fn, fp, tn = 0,0,0,0\n",
    "\n",
    "for i in range(data_processed.shape[0]):\n",
    "    if data_processed['Label'][i] == 1 and data_processed['SIAPredict'][i] == 1:\n",
    "        tp += 1\n",
    "    elif data_processed['Label'][i] == 1 and data_processed['SIAPredict'][i] == 0:\n",
    "        fn += 1\n",
    "    elif data_processed['Label'][i] == 0 and data_processed['SIAPredict'][i] == 1:\n",
    "        fp += 1\n",
    "    elif data_processed['Label'][i] == 0 and data_processed['SIAPredict'][i] == 0:\n",
    "        tn += 1\n",
    "\n",
    "def calculate_ppv(tp, tn, fp, fn):\n",
    "    precision = tp / (tp + fp)\n",
    "    recall = tp / (tp + fn)\n",
    "    return precision, recall\n",
    "\n",
    "print(\"tp: {}, tn: {}, fp: {}, fn: {}\".format(tp, tn, fp, fn))\n",
    "precision, recall = calculate_ppv(tp, tn, fp, fn)\n",
    "print(\"precision: {}, recall: {}\".format(precision, recall))\n",
    "f1 = 2*precision*recall/(precision+recall)\n",
    "print(\"f1: \", f1)\n",
    "print((tp+tn)/(tp+tn+fp+fn))"
   ]
  },
  {
   "cell_type": "markdown",
   "id": "SHtlQd_RaZ-k",
   "metadata": {
    "id": "SHtlQd_RaZ-k"
   },
   "source": [
    "We computed all the essestial metrics to determine the efficiency of my analysis. \n",
    "accuracy is 0.51, precision is 0.54, recalled is 0.54 and f1 is 0.54"
   ]
  },
  {
   "cell_type": "code",
   "execution_count": 155,
   "id": "nMiXeW98Zxml",
   "metadata": {
    "id": "nMiXeW98Zxml"
   },
   "outputs": [],
   "source": [
    "sentences = data_combined['RawCorpus'].tolist()\n",
    "for i in range(len(sentences)):\n",
    "    sentences[i] = sentences[i].split()"
   ]
  },
  {
   "cell_type": "markdown",
   "id": "happy-score",
   "metadata": {},
   "source": [
    "## Word2Vec embedding with CNN"
   ]
  },
  {
   "cell_type": "code",
   "execution_count": 156,
   "id": "jSLJ6eUeaMX0",
   "metadata": {
    "id": "jSLJ6eUeaMX0"
   },
   "outputs": [],
   "source": [
    "w2v_model = Word2Vec(sentences,size= 300, window = 5, workers = 8, min_count=2)"
   ]
  },
  {
   "cell_type": "code",
   "execution_count": 157,
   "id": "srshmc-0aO4g",
   "metadata": {
    "id": "srshmc-0aO4g"
   },
   "outputs": [],
   "source": [
    "FILE = 'embedding_word2vec.txt'\n",
    "w2v_model.wv.save_word2vec_format(FILE, binary=False)"
   ]
  },
  {
   "cell_type": "code",
   "execution_count": 158,
   "id": "QZnBqC1PaRv6",
   "metadata": {
    "id": "QZnBqC1PaRv6"
   },
   "outputs": [],
   "source": [
    "def create_embedding(file):\n",
    "    file = open(file,'r')\n",
    "    data = file.readlines()\n",
    "    file.close()\n",
    "    records = {}\n",
    "    for each in data[1:]:\n",
    "        temp = each.split()\n",
    "        records[temp[0]] = np.asarray(temp[1:],dtype='float32')\n",
    "    return records"
   ]
  },
  {
   "cell_type": "code",
   "execution_count": 159,
   "id": "I-XLDofecPCg",
   "metadata": {
    "id": "I-XLDofecPCg"
   },
   "outputs": [],
   "source": [
    "w2v_embedding = create_embedding(FILE)"
   ]
  },
  {
   "cell_type": "code",
   "execution_count": 160,
   "id": "Vn-JR9MoaVTT",
   "metadata": {
    "id": "Vn-JR9MoaVTT"
   },
   "outputs": [
    {
     "name": "stdout",
     "output_type": "stream",
     "text": [
      "[-1.39486417e-03  4.12482262e-01  1.20008692e-01  1.39224499e-01\n",
      "  1.62638322e-01  1.84157670e-01  6.40253499e-02  4.89180326e-01\n",
      " -2.07814202e-01 -2.21143290e-02  1.27498806e-01 -2.68194348e-01\n",
      " -6.64498424e-03 -2.53061295e-01  1.48576796e-01  2.85851508e-01\n",
      "  5.14327228e-01  2.94186592e-01 -2.03109488e-01 -6.25509247e-02\n",
      "  2.72754133e-01 -4.78284471e-02 -6.28823414e-02  1.88813787e-02\n",
      " -1.44693971e-01  4.62996624e-02 -4.72125113e-01  1.72025815e-01\n",
      "  7.94492587e-02 -3.55996452e-02 -1.06584698e-01  9.32829157e-02\n",
      " -3.45761478e-01  2.82332320e-02  4.18809533e-01  4.37541515e-01\n",
      " -1.10533141e-01 -1.34665653e-01  4.79441322e-03 -1.08125381e-01\n",
      "  5.33130616e-02  5.89945242e-02  1.97916389e-01 -2.61624187e-01\n",
      "  7.82001466e-02  2.63302922e-01 -1.78756714e-01 -7.51332492e-02\n",
      "  8.77300873e-02 -2.43757635e-01 -8.68635401e-02  1.66601747e-01\n",
      "  1.14484407e-01  3.16396058e-01  2.23743811e-01 -1.64689824e-01\n",
      " -1.58734635e-01  4.14240718e-01 -4.06369209e-01 -2.03364622e-02\n",
      " -3.18479948e-02  8.12762380e-02 -5.05543530e-01  6.15487657e-02\n",
      " -1.12251893e-01  3.70029479e-01  1.03361815e-01  6.07664473e-02\n",
      "  5.47695607e-02  2.31136575e-01  2.42497474e-02  6.04074299e-02\n",
      " -2.45535508e-01  4.34855431e-01 -3.28923501e-02 -1.08475991e-01\n",
      "  3.32671791e-01  2.08124891e-01  1.13653965e-01  8.14719275e-02\n",
      " -6.62689609e-03 -1.10238567e-01  4.52724427e-01  1.11578614e-01\n",
      " -6.26410618e-02  2.11027488e-01  1.05149262e-01 -1.23212405e-01\n",
      " -2.90712237e-01  9.61662531e-02  1.21391319e-01 -4.35069688e-02\n",
      "  2.11141393e-01  7.79810399e-02 -3.21541041e-01 -2.75352359e-01\n",
      "  2.91597098e-01  1.89007804e-01  3.53932440e-01 -5.74073792e-02\n",
      "  1.42111957e-01 -4.69829232e-01  2.15519950e-01 -1.31249309e-01\n",
      " -3.32410991e-01 -1.46551073e-01  6.88184705e-03  2.34169364e-02\n",
      "  2.27920823e-02 -1.38999343e-01  1.48921330e-02  1.57777026e-01\n",
      " -1.77953854e-01 -2.39755750e-01 -2.34545395e-01  1.58929564e-02\n",
      "  2.00652137e-01 -2.69501116e-02  2.32973233e-01 -5.95042817e-02\n",
      " -4.72427383e-02  1.77204609e-01 -1.79226398e-01 -2.55068634e-02\n",
      " -1.13708593e-01  1.75705910e-01  4.29069847e-01 -7.35073984e-02\n",
      "  1.69416338e-01  3.38445157e-01 -1.62756413e-01 -4.02561635e-01\n",
      "  2.83788741e-01 -1.98229849e-01  1.94375247e-01  2.26856265e-02\n",
      " -3.20397794e-01 -5.86905740e-02 -2.13234335e-01  6.66851029e-02\n",
      " -8.11966078e-04 -1.92448437e-01  1.58356845e-01 -4.09454972e-01\n",
      " -1.60076946e-01 -1.69982195e-01 -1.60872191e-01 -1.89542532e-01\n",
      "  3.08899403e-01 -1.04260430e-01  3.25637460e-01  8.25784877e-02\n",
      " -5.46743274e-02  1.70052364e-01 -2.26458520e-01  3.56797904e-01\n",
      "  1.46710187e-01  2.26024445e-02  9.68946815e-02  6.15381837e-01\n",
      "  1.86947063e-01 -4.22825426e-01 -8.50966647e-02  1.56949200e-02\n",
      "  1.96587205e-01  1.04725614e-01 -8.37215632e-02 -3.12475592e-01\n",
      " -7.41741657e-02  4.66165394e-01  2.35582277e-01 -1.29503757e-01\n",
      " -1.41147107e-01  6.58844188e-02 -1.28671318e-01  9.19898972e-02\n",
      "  1.99492592e-02 -2.44204402e-01 -2.17867136e-01 -1.81571543e-01\n",
      " -1.27375022e-01  1.91627424e-02 -2.91566223e-01  1.23382851e-01\n",
      "  2.46011093e-01 -7.91553929e-02 -1.83417767e-01 -2.62607247e-01\n",
      "  2.58429378e-01 -1.97349474e-01  5.40917635e-01  4.77829099e-01\n",
      "  3.06407399e-02 -1.54645182e-02 -1.85694218e-01 -8.99182484e-02\n",
      " -2.10063100e-01 -2.42343411e-01  2.38597333e-01  7.01087713e-02\n",
      "  9.35017597e-03 -1.34764075e-01  1.93215773e-01  1.08899735e-01\n",
      " -5.71667403e-02  7.18820766e-02  7.82565400e-02  5.08860983e-02\n",
      " -4.02258128e-01 -1.25058562e-01  6.60312623e-02  5.44344187e-02\n",
      "  1.40072972e-01 -1.58039741e-02 -1.29069805e-01  2.45733988e-02\n",
      "  9.30085704e-02 -1.96856007e-01 -2.61913270e-01  4.33067493e-02\n",
      " -7.94289932e-02 -1.12930492e-01  3.62841636e-01  9.38139111e-03\n",
      " -1.60213247e-01  1.63677186e-01 -7.89413899e-02  3.26403111e-01\n",
      " -3.43548506e-02 -4.06530112e-01  1.66561231e-01 -3.26769084e-01\n",
      " -1.93072051e-01  1.79194435e-01  9.85897109e-02 -4.50104550e-02\n",
      "  5.48721068e-02 -1.81103766e-01 -1.91928506e-01  3.92609864e-01\n",
      "  3.97914529e-01  1.25207782e-01 -3.26051712e-01 -1.33130729e-01\n",
      "  1.37305513e-01 -1.12302475e-01 -3.71895321e-02 -1.75802365e-01\n",
      " -1.47052467e-01  6.91691488e-02  4.47799675e-02  8.45885202e-02\n",
      " -5.16282804e-02  2.58122295e-01 -1.68383703e-01 -1.11511135e-02\n",
      " -2.23841116e-01  1.49875194e-01  7.86504745e-02 -5.80640174e-02\n",
      "  1.44564301e-01  1.35651797e-01  1.40577704e-01 -4.87326831e-02\n",
      " -1.51677519e-01 -3.84041995e-01 -1.72700614e-01  3.75569314e-02\n",
      " -3.82529832e-02 -3.81927043e-01 -1.76551312e-01 -7.05306679e-02\n",
      " -2.23442212e-01 -4.51650858e-01  2.42644861e-01  4.03340280e-01\n",
      "  3.97826981e-04 -1.33611515e-01 -4.19088975e-02 -1.95854977e-02\n",
      " -6.44270703e-02 -1.26599893e-01  2.64070392e-01  1.71552703e-01\n",
      "  5.13532981e-02 -7.53780529e-02  3.51518579e-02 -2.04730168e-01\n",
      " -7.30515923e-03  5.35965599e-02  8.78466144e-02 -1.65211558e-01\n",
      "  3.92024629e-02 -1.18716210e-01 -1.86378151e-01 -8.93782005e-02\n",
      "  7.16639012e-02  1.68705598e-01  2.56375700e-01 -9.49530080e-02]\n"
     ]
    }
   ],
   "source": [
    "words = w2v_model.wv.vocab\n",
    "print(w2v_model.wv['getting'])"
   ]
  },
  {
   "cell_type": "code",
   "execution_count": 161,
   "id": "BC-WVC4XaoV6",
   "metadata": {
    "id": "BC-WVC4XaoV6"
   },
   "outputs": [],
   "source": [
    "tokenizer = Tokenizer()\n",
    "tokenizer.fit_on_texts(sentences)"
   ]
  },
  {
   "cell_type": "code",
   "execution_count": 162,
   "id": "yoBAQBAhaoiQ",
   "metadata": {
    "id": "yoBAQBAhaoiQ"
   },
   "outputs": [],
   "source": [
    "BOW = tokenizer.word_index"
   ]
  },
  {
   "cell_type": "code",
   "execution_count": 163,
   "id": "c_pl_U56aok_",
   "metadata": {
    "id": "c_pl_U56aok_"
   },
   "outputs": [],
   "source": [
    "max_length = 0\n",
    "for each in sentences:\n",
    "    max_length = max(max_length, len(each))"
   ]
  },
  {
   "cell_type": "code",
   "execution_count": 164,
   "id": "HYUjEww1aooo",
   "metadata": {
    "id": "HYUjEww1aooo"
   },
   "outputs": [],
   "source": [
    "encoded_sent = tokenizer.texts_to_sequences(sentences)\n",
    "Xtrain = pad_sequences(encoded_sent, maxlen=max_length, padding='post')\n",
    "# define training labels\n",
    "ytrain = data_combined['Label']"
   ]
  },
  {
   "cell_type": "code",
   "execution_count": 165,
   "id": "dyJvmRCDa5Xo",
   "metadata": {
    "id": "dyJvmRCDa5Xo"
   },
   "outputs": [],
   "source": [
    "X_train2, X_test2, y_train2, y_test2 = train_test_split(Xtrain,ytrain, test_size=0.2, random_state=32)"
   ]
  },
  {
   "cell_type": "code",
   "execution_count": 166,
   "id": "D0knYdVfa_Lg",
   "metadata": {
    "id": "D0knYdVfa_Lg"
   },
   "outputs": [],
   "source": [
    "def get_weight_matrix(embedding, vocab):\n",
    "    vocab_size = len(vocab) + 1\n",
    "    weight_matrix = np.zeros((vocab_size, 300))\n",
    "    for word, i in vocab.items():\n",
    "        weight_matrix[i] = embedding.get(word)\n",
    "    return weight_matrix"
   ]
  },
  {
   "cell_type": "code",
   "execution_count": 167,
   "id": "El2ot7AWbCQL",
   "metadata": {
    "id": "El2ot7AWbCQL"
   },
   "outputs": [],
   "source": [
    "weight_matrix = get_weight_matrix(w2v_embedding,BOW)"
   ]
  },
  {
   "cell_type": "code",
   "execution_count": null,
   "id": "56yTxizTb-el",
   "metadata": {
    "id": "56yTxizTb-el"
   },
   "outputs": [
    {
     "name": "stdout",
     "output_type": "stream",
     "text": [
      "Model: \"sequential_1\"\n",
      "_________________________________________________________________\n",
      "Layer (type)                 Output Shape              Param #   \n",
      "=================================================================\n",
      "embedding (Embedding)        (None, 477, 300)          9072900   \n",
      "_________________________________________________________________\n",
      "conv1d (Conv1D)              (None, 475, 128)          115328    \n",
      "_________________________________________________________________\n",
      "max_pooling1d (MaxPooling1D) (None, 237, 128)          0         \n",
      "_________________________________________________________________\n",
      "flatten (Flatten)            (None, 30336)             0         \n",
      "_________________________________________________________________\n",
      "dense_5 (Dense)              (None, 1)                 30337     \n",
      "=================================================================\n",
      "Total params: 9,218,565\n",
      "Trainable params: 145,665\n",
      "Non-trainable params: 9,072,900\n",
      "_________________________________________________________________\n",
      "None\n",
      "Epoch 1/10\n"
     ]
    }
   ],
   "source": [
    "embedding_layer = Embedding(len(BOW)+1, 300, weights=[weight_matrix], input_length=max_length, trainable=False)\n",
    " \n",
    "# define model\n",
    "model = Sequential()\n",
    "model.add(embedding_layer)\n",
    "model.add(Conv1D(filters=128, kernel_size=3, activation='relu'))\n",
    "model.add(MaxPooling1D(pool_size=2))\n",
    "model.add(Flatten())\n",
    "model.add(Dense(1 , activation='sigmoid'))\n",
    "print(model.summary())\n",
    "# compile network\n",
    "model.compile(loss='binary_crossentropy', optimizer='adam', metrics=['accuracy'])\n",
    "# fit network\n",
    "model.fit(X_train2, y_train2, epochs=10, verbose=2)\n",
    "# evaluate\n",
    "loss, acc = model.evaluate(X_test2, y_test2, verbose=0)\n",
    "print('Test Accuracy: %f' % (acc))"
   ]
  },
  {
   "cell_type": "markdown",
   "id": "expanded-portuguese",
   "metadata": {
    "id": "expanded-portuguese"
   },
   "source": [
    "# Topic Modeling"
   ]
  },
  {
   "cell_type": "code",
   "execution_count": 70,
   "id": "YEZsKq8l1QZZ",
   "metadata": {
    "id": "YEZsKq8l1QZZ"
   },
   "outputs": [
    {
     "data": {
      "text/html": [
       "<div>\n",
       "<style scoped>\n",
       "    .dataframe tbody tr th:only-of-type {\n",
       "        vertical-align: middle;\n",
       "    }\n",
       "\n",
       "    .dataframe tbody tr th {\n",
       "        vertical-align: top;\n",
       "    }\n",
       "\n",
       "    .dataframe thead th {\n",
       "        text-align: right;\n",
       "    }\n",
       "</style>\n",
       "<table border=\"1\" class=\"dataframe\">\n",
       "  <thead>\n",
       "    <tr style=\"text-align: right;\">\n",
       "      <th></th>\n",
       "      <th>Top1</th>\n",
       "      <th>Top2</th>\n",
       "      <th>Top3</th>\n",
       "      <th>Top4</th>\n",
       "      <th>Top5</th>\n",
       "      <th>Top6</th>\n",
       "      <th>Top7</th>\n",
       "      <th>Top8</th>\n",
       "      <th>Top9</th>\n",
       "      <th>Top10</th>\n",
       "      <th>...</th>\n",
       "      <th>Top16</th>\n",
       "      <th>Top17</th>\n",
       "      <th>Top18</th>\n",
       "      <th>Top19</th>\n",
       "      <th>Top20</th>\n",
       "      <th>Top21</th>\n",
       "      <th>Top22</th>\n",
       "      <th>Top23</th>\n",
       "      <th>Top24</th>\n",
       "      <th>Top25</th>\n",
       "    </tr>\n",
       "  </thead>\n",
       "  <tbody>\n",
       "    <tr>\n",
       "      <th>0</th>\n",
       "      <td>georgia down two russian warplane country move...</td>\n",
       "      <td>breaking musharraf impeached</td>\n",
       "      <td>russia today column troop roll south ossetia f...</td>\n",
       "      <td>russian tank moving towards capital south osse...</td>\n",
       "      <td>afghan child raped impunity u n official say s...</td>\n",
       "      <td>150 russian tank entered south ossetia whilst ...</td>\n",
       "      <td>breaking georgia invades south ossetia russia ...</td>\n",
       "      <td>enemy combatent trial nothing sham salim haman...</td>\n",
       "      <td>georgian troop retreat osettain capital presum...</td>\n",
       "      <td>u prep georgia war russia</td>\n",
       "      <td>...</td>\n",
       "      <td>georgia invades south ossetia russia get invol...</td>\n",
       "      <td>al qaeda face islamist backlash</td>\n",
       "      <td>condoleezza rice u would act prevent israeli s...</td>\n",
       "      <td>busy day european union approved new sanction ...</td>\n",
       "      <td>georgia withdraw 1 000 soldier iraq help fight...</td>\n",
       "      <td>pentagon think attacking iran bad idea u news ...</td>\n",
       "      <td>caucasus crisis georgia invades south ossetia</td>\n",
       "      <td>indian shoe manufactory series like work</td>\n",
       "      <td>visitor suffering mental illness banned olympics</td>\n",
       "      <td>help mexico kidnapping surge</td>\n",
       "    </tr>\n",
       "    <tr>\n",
       "      <th>1</th>\n",
       "      <td>wont america nato help u wont help u help iraq</td>\n",
       "      <td>bush put foot georgian conflict</td>\n",
       "      <td>jewish georgian minister thanks israeli traini...</td>\n",
       "      <td>georgian army flees disarray russian advance g...</td>\n",
       "      <td>olympic opening ceremony firework faked</td>\n",
       "      <td>mossad fraudulent new zealand passport iraq</td>\n",
       "      <td>russia angered israeli military sale georgia</td>\n",
       "      <td>american citizen living ossetia blame u georgi...</td>\n",
       "      <td>welcome world war iv high definition</td>\n",
       "      <td>georgia move mistake monumental proportion</td>\n",
       "      <td>...</td>\n",
       "      <td>israel u behind georgian aggression</td>\n",
       "      <td>believe tv neither russian georgian much victim</td>\n",
       "      <td>riot still going montreal canada police murder...</td>\n",
       "      <td>china overtake u largest manufacturer</td>\n",
       "      <td>war south ossetia pic</td>\n",
       "      <td>israeli physician group condemns state torture</td>\n",
       "      <td>russia beaten united state head peak oil</td>\n",
       "      <td>perhaps question georgia russia conflict</td>\n",
       "      <td>russia much better war</td>\n",
       "      <td>come trading sex food</td>\n",
       "    </tr>\n",
       "    <tr>\n",
       "      <th>2</th>\n",
       "      <td>remember adorable 9 year old sang opening cere...</td>\n",
       "      <td>russia end georgia operation</td>\n",
       "      <td>sexual harassment would child</td>\n",
       "      <td>al qa eda losing support iraq brutal crackdown...</td>\n",
       "      <td>ceasefire georgia putin outmaneuvers west</td>\n",
       "      <td>microsoft intel tried kill xo 100 laptop</td>\n",
       "      <td>stratfor russo georgian war balance power</td>\n",
       "      <td>trying get sense whole georgia russia war vote...</td>\n",
       "      <td>u military surprised timing swiftness russian ...</td>\n",
       "      <td>u beat war drum iran dump dollar</td>\n",
       "      <td>...</td>\n",
       "      <td>u troop still georgia know georgia first place</td>\n",
       "      <td>russia response georgia right</td>\n",
       "      <td>gorbachev accuses u making serious blunder pur...</td>\n",
       "      <td>russia georgia nato cold war two</td>\n",
       "      <td>remember adorable 62 year old led country war ...</td>\n",
       "      <td>war georgia israeli connection</td>\n",
       "      <td>sign point u encouraging georgia invade south ...</td>\n",
       "      <td>christopher king argues u nato behind georgian...</td>\n",
       "      <td>america new mexico</td>\n",
       "      <td>bbc news asia pacific extinction man climate</td>\n",
       "    </tr>\n",
       "    <tr>\n",
       "      <th>3</th>\n",
       "      <td>u refuse israel weapon attack iran report</td>\n",
       "      <td>president ordered attack tskhinvali capital so...</td>\n",
       "      <td>israel clear troop killed reuters cameraman</td>\n",
       "      <td>britain policy tough drug pointless say former...</td>\n",
       "      <td>body 14 year old found trunk latest ransom pai...</td>\n",
       "      <td>china moved 10 million quake survivor prefab home</td>\n",
       "      <td>bush announces operation get russia grill yeah...</td>\n",
       "      <td>russian force sink georgian ship</td>\n",
       "      <td>commander navy air reconnaissance squadron pro...</td>\n",
       "      <td>92 cnn reader russia action georgia justified</td>\n",
       "      <td>...</td>\n",
       "      <td>elephant extinct 2020</td>\n",
       "      <td>u humanitarian mission soon georgia russia hit...</td>\n",
       "      <td>georgia ddos came u source</td>\n",
       "      <td>russian convoy head georgia violating truce</td>\n",
       "      <td>israeli defence minister u strike iran</td>\n",
       "      <td>gorbachev choice</td>\n",
       "      <td>witness russian force head towards tbilisi bre...</td>\n",
       "      <td>quarter russian blame u conflict poll</td>\n",
       "      <td>georgian president say u military take control...</td>\n",
       "      <td>2006 nobel laureate aleksander solzhenitsyn ac...</td>\n",
       "    </tr>\n",
       "    <tr>\n",
       "      <th>4</th>\n",
       "      <td>expert admit legalise drug</td>\n",
       "      <td>war south osetia 89 picture made russian soldier</td>\n",
       "      <td>swedish wrestler ara abrahamian throw away med...</td>\n",
       "      <td>russia exaggerated death toll south ossetia 44...</td>\n",
       "      <td>missile killed 9 inside pakistan may launched cia</td>\n",
       "      <td>rushdie condemns random house refusal publish ...</td>\n",
       "      <td>poland u agree missle defense deal interesting...</td>\n",
       "      <td>russian conquer tblisi bet seriously bet</td>\n",
       "      <td>russia exaggerating south ossetian death toll ...</td>\n",
       "      <td>musharraf expected resign rather face impeachment</td>\n",
       "      <td>...</td>\n",
       "      <td>bank analyst forecast georgian crisis 2 day early</td>\n",
       "      <td>georgia confict could set back russia u relati...</td>\n",
       "      <td>war caucasus much product american imperial dr...</td>\n",
       "      <td>non medium photo south ossetia georgia conflict</td>\n",
       "      <td>georgian tv reporter shot russian sniper live ...</td>\n",
       "      <td>saudi arabia mother move block child marriage</td>\n",
       "      <td>taliban wage war humanitarian aid worker</td>\n",
       "      <td>russia world forget georgia territorial integrity</td>\n",
       "      <td>darfur rebel accuse sudan mounting major attack</td>\n",
       "      <td>philippine peace advocate say muslim need assu...</td>\n",
       "    </tr>\n",
       "    <tr>\n",
       "      <th>...</th>\n",
       "      <td>...</td>\n",
       "      <td>...</td>\n",
       "      <td>...</td>\n",
       "      <td>...</td>\n",
       "      <td>...</td>\n",
       "      <td>...</td>\n",
       "      <td>...</td>\n",
       "      <td>...</td>\n",
       "      <td>...</td>\n",
       "      <td>...</td>\n",
       "      <td>...</td>\n",
       "      <td>...</td>\n",
       "      <td>...</td>\n",
       "      <td>...</td>\n",
       "      <td>...</td>\n",
       "      <td>...</td>\n",
       "      <td>...</td>\n",
       "      <td>...</td>\n",
       "      <td>...</td>\n",
       "      <td>...</td>\n",
       "      <td>...</td>\n",
       "    </tr>\n",
       "    <tr>\n",
       "      <th>1984</th>\n",
       "      <td>barclays rb share suspended trading tanking 8</td>\n",
       "      <td>pope say church ask forgiveness gay past treat...</td>\n",
       "      <td>poland shocked xenophobic abuse pole uk</td>\n",
       "      <td>second referendum cabinet agrees</td>\n",
       "      <td>scotland welcome join eu merkel ally say</td>\n",
       "      <td>sterling dip friday 31 year low amid brexit un...</td>\n",
       "      <td>negative news south african president allowed ...</td>\n",
       "      <td>surge hate crime u k following u k brexit vote</td>\n",
       "      <td>weapon shipped jordan cia saudi arabia intende...</td>\n",
       "      <td>angela merkel said u k must file exit paper eu...</td>\n",
       "      <td>...</td>\n",
       "      <td>german lawyer probe erdogan alleged war crime</td>\n",
       "      <td>boris johnson say uk continue intensify cooper...</td>\n",
       "      <td>richard branson calling uk government hold sec...</td>\n",
       "      <td>turkey sorry downing russian jet</td>\n",
       "      <td>edward snowden lawyer vow new push pardon obama</td>\n",
       "      <td>brexit opinion poll reveals majority want seco...</td>\n",
       "      <td>conservative mp leave campaigner leave campaig...</td>\n",
       "      <td>economist predict uk recession weakening pound...</td>\n",
       "      <td>new eu superstate plan france germany creating...</td>\n",
       "      <td>pakistani cleric declare transgender marriage ...</td>\n",
       "    </tr>\n",
       "    <tr>\n",
       "      <th>1985</th>\n",
       "      <td>2 500 scientist australia want save great barr...</td>\n",
       "      <td>personal detail 112 000 french police officer ...</td>\n",
       "      <td>amp p cut united kingdom sovereign credit rati...</td>\n",
       "      <td>huge helium deposit found africa</td>\n",
       "      <td>ceo south african state broadcaster quits shor...</td>\n",
       "      <td>brexit cost investor 2 trillion worst one day ...</td>\n",
       "      <td>hong kong democracy activist call return briti...</td>\n",
       "      <td>brexit iceland president say uk join triangle ...</td>\n",
       "      <td>uk osborne absolutely going cut spending raise...</td>\n",
       "      <td>let scotland scottish mep alyn smith urged mem...</td>\n",
       "      <td>...</td>\n",
       "      <td>u canada mexico pledge 50 power clean energy 2025</td>\n",
       "      <td>increasing evidence australia torturing refuge...</td>\n",
       "      <td>richard branson founder virgin group said tues...</td>\n",
       "      <td>37 000 yr old skull borneo reveals surprise sc...</td>\n",
       "      <td>palestinian stone western wall worshiper polic...</td>\n",
       "      <td>jean claude juncker asks farage</td>\n",
       "      <td>romanian remainians offering new home 48 brito...</td>\n",
       "      <td>brexit gibraltar talk scotland stay eu</td>\n",
       "      <td>8 suicide bomber strike lebanon</td>\n",
       "      <td>mexico security force routinely use sexual tor...</td>\n",
       "    </tr>\n",
       "    <tr>\n",
       "      <th>1986</th>\n",
       "      <td>explosion airport istanbul</td>\n",
       "      <td>yemeni former president terrorism offspring wa...</td>\n",
       "      <td>uk must accept freedom movement access eu market</td>\n",
       "      <td>devastated scientist late captive breed mammal...</td>\n",
       "      <td>british labor party leader jeremy corbyn loses...</td>\n",
       "      <td>muslim shop uk firebombed people inside</td>\n",
       "      <td>mexican authority sexually torture woman prison</td>\n",
       "      <td>uk share pound continue recover</td>\n",
       "      <td>iceland historian johannesson win presidential...</td>\n",
       "      <td>99 million yr old bird wing found encased ambe...</td>\n",
       "      <td>...</td>\n",
       "      <td>escape tunnel dug hand found holocaust massacr...</td>\n",
       "      <td>land beijing sinking much four inch per year o...</td>\n",
       "      <td>car bomb anti islamic attack mosque perth aust...</td>\n",
       "      <td>emaciated lion taiz zoo trapped blood soaked c...</td>\n",
       "      <td>rupert murdoch describes brexit wonderful medi...</td>\n",
       "      <td>40 killed yemen suicide attack</td>\n",
       "      <td>google found disastrous symantec norton vulner...</td>\n",
       "      <td>extremist violence rise germany domestic intel...</td>\n",
       "      <td>bbc news labour mp pas corbyn confidence motion</td>\n",
       "      <td>tiny new zealand town many job launch drive re...</td>\n",
       "    </tr>\n",
       "    <tr>\n",
       "      <th>1987</th>\n",
       "      <td>jamaica proposes marijuana dispenser tourist a...</td>\n",
       "      <td>stephen hawking say pollution stupidity still ...</td>\n",
       "      <td>boris johnson say run tory party leadership</td>\n",
       "      <td>six gay men ivory coast abused forced flee hom...</td>\n",
       "      <td>switzerland denies citizenship muslim immigran...</td>\n",
       "      <td>palestinian terrorist stab israeli teen girl d...</td>\n",
       "      <td>puerto rico default 1 billion debt friday</td>\n",
       "      <td>republic ireland fan awarded medal sportsmansh...</td>\n",
       "      <td>afghan suicide bomber kill 40 bbc news</td>\n",
       "      <td>u airstrikes kill least 250 isi fighter convoy...</td>\n",
       "      <td>...</td>\n",
       "      <td>google free wifi indian railway station better...</td>\n",
       "      <td>mounting evidence suggests hobbit wiped modern...</td>\n",
       "      <td>men carried tuesday terror attack istanbul ata...</td>\n",
       "      <td>call suspend saudi arabia un human right counc...</td>\n",
       "      <td>100 nobel laureate call greenpeace anti gmo ob...</td>\n",
       "      <td>british pedophile sentenced 85 year u traffick...</td>\n",
       "      <td>u permitted 1 200 offshore fracks gulf mexico ...</td>\n",
       "      <td>swimming ridicule french beach police carry gu...</td>\n",
       "      <td>uefa say minute silence istanbul victim euro 2...</td>\n",
       "      <td>law enforcement source gun used paris terroris...</td>\n",
       "    </tr>\n",
       "    <tr>\n",
       "      <th>1988</th>\n",
       "      <td>117 year old woman mexico city finally receive...</td>\n",
       "      <td>imf chief back athens permanent olympic host</td>\n",
       "      <td>president france say brexit donald trump</td>\n",
       "      <td>british man must give police 24 hour notice se...</td>\n",
       "      <td>100 nobel laureate urge greenpeace stop opposi...</td>\n",
       "      <td>brazil huge spike number police killing rio ah...</td>\n",
       "      <td>austria highest court annuls presidential elec...</td>\n",
       "      <td>facebook win privacy case track belgian want m...</td>\n",
       "      <td>switzerland denies muslim girl citizenship ref...</td>\n",
       "      <td>china kill million innocent meditators organ r...</td>\n",
       "      <td>...</td>\n",
       "      <td>united state placed myanmar uzbekistan sudan h...</td>\n",
       "      <td>amp p revise european union credit rating aa aa</td>\n",
       "      <td>india get 1 billion loan world bank solar mission</td>\n",
       "      <td>u sailor detained iran spoke much interrogatio...</td>\n",
       "      <td>mass fish kill vietnam solved taiwan steelmake...</td>\n",
       "      <td>philippine president rodrigo duterte urge peop...</td>\n",
       "      <td>spain arrest three pakistani accused promoting...</td>\n",
       "      <td>venezuela anger food shortage still mounting c...</td>\n",
       "      <td>hindu temple worker killed three men motorcycl...</td>\n",
       "      <td>ozone layer hole seems healing u amp uk team s...</td>\n",
       "    </tr>\n",
       "  </tbody>\n",
       "</table>\n",
       "<p>1989 rows × 25 columns</p>\n",
       "</div>"
      ],
      "text/plain": [
       "                                                   Top1  \\\n",
       "0     georgia down two russian warplane country move...   \n",
       "1        wont america nato help u wont help u help iraq   \n",
       "2     remember adorable 9 year old sang opening cere...   \n",
       "3             u refuse israel weapon attack iran report   \n",
       "4                            expert admit legalise drug   \n",
       "...                                                 ...   \n",
       "1984      barclays rb share suspended trading tanking 8   \n",
       "1985  2 500 scientist australia want save great barr...   \n",
       "1986                         explosion airport istanbul   \n",
       "1987  jamaica proposes marijuana dispenser tourist a...   \n",
       "1988  117 year old woman mexico city finally receive...   \n",
       "\n",
       "                                                   Top2  \\\n",
       "0                          breaking musharraf impeached   \n",
       "1                       bush put foot georgian conflict   \n",
       "2                          russia end georgia operation   \n",
       "3     president ordered attack tskhinvali capital so...   \n",
       "4      war south osetia 89 picture made russian soldier   \n",
       "...                                                 ...   \n",
       "1984  pope say church ask forgiveness gay past treat...   \n",
       "1985  personal detail 112 000 french police officer ...   \n",
       "1986  yemeni former president terrorism offspring wa...   \n",
       "1987  stephen hawking say pollution stupidity still ...   \n",
       "1988       imf chief back athens permanent olympic host   \n",
       "\n",
       "                                                   Top3  \\\n",
       "0     russia today column troop roll south ossetia f...   \n",
       "1     jewish georgian minister thanks israeli traini...   \n",
       "2                         sexual harassment would child   \n",
       "3           israel clear troop killed reuters cameraman   \n",
       "4     swedish wrestler ara abrahamian throw away med...   \n",
       "...                                                 ...   \n",
       "1984            poland shocked xenophobic abuse pole uk   \n",
       "1985  amp p cut united kingdom sovereign credit rati...   \n",
       "1986   uk must accept freedom movement access eu market   \n",
       "1987        boris johnson say run tory party leadership   \n",
       "1988           president france say brexit donald trump   \n",
       "\n",
       "                                                   Top4  \\\n",
       "0     russian tank moving towards capital south osse...   \n",
       "1     georgian army flees disarray russian advance g...   \n",
       "2     al qa eda losing support iraq brutal crackdown...   \n",
       "3     britain policy tough drug pointless say former...   \n",
       "4     russia exaggerated death toll south ossetia 44...   \n",
       "...                                                 ...   \n",
       "1984                   second referendum cabinet agrees   \n",
       "1985                   huge helium deposit found africa   \n",
       "1986  devastated scientist late captive breed mammal...   \n",
       "1987  six gay men ivory coast abused forced flee hom...   \n",
       "1988  british man must give police 24 hour notice se...   \n",
       "\n",
       "                                                   Top5  \\\n",
       "0     afghan child raped impunity u n official say s...   \n",
       "1               olympic opening ceremony firework faked   \n",
       "2             ceasefire georgia putin outmaneuvers west   \n",
       "3     body 14 year old found trunk latest ransom pai...   \n",
       "4     missile killed 9 inside pakistan may launched cia   \n",
       "...                                                 ...   \n",
       "1984           scotland welcome join eu merkel ally say   \n",
       "1985  ceo south african state broadcaster quits shor...   \n",
       "1986  british labor party leader jeremy corbyn loses...   \n",
       "1987  switzerland denies citizenship muslim immigran...   \n",
       "1988  100 nobel laureate urge greenpeace stop opposi...   \n",
       "\n",
       "                                                   Top6  \\\n",
       "0     150 russian tank entered south ossetia whilst ...   \n",
       "1           mossad fraudulent new zealand passport iraq   \n",
       "2              microsoft intel tried kill xo 100 laptop   \n",
       "3     china moved 10 million quake survivor prefab home   \n",
       "4     rushdie condemns random house refusal publish ...   \n",
       "...                                                 ...   \n",
       "1984  sterling dip friday 31 year low amid brexit un...   \n",
       "1985  brexit cost investor 2 trillion worst one day ...   \n",
       "1986            muslim shop uk firebombed people inside   \n",
       "1987  palestinian terrorist stab israeli teen girl d...   \n",
       "1988  brazil huge spike number police killing rio ah...   \n",
       "\n",
       "                                                   Top7  \\\n",
       "0     breaking georgia invades south ossetia russia ...   \n",
       "1          russia angered israeli military sale georgia   \n",
       "2             stratfor russo georgian war balance power   \n",
       "3     bush announces operation get russia grill yeah...   \n",
       "4     poland u agree missle defense deal interesting...   \n",
       "...                                                 ...   \n",
       "1984  negative news south african president allowed ...   \n",
       "1985  hong kong democracy activist call return briti...   \n",
       "1986    mexican authority sexually torture woman prison   \n",
       "1987          puerto rico default 1 billion debt friday   \n",
       "1988  austria highest court annuls presidential elec...   \n",
       "\n",
       "                                                   Top8  \\\n",
       "0     enemy combatent trial nothing sham salim haman...   \n",
       "1     american citizen living ossetia blame u georgi...   \n",
       "2     trying get sense whole georgia russia war vote...   \n",
       "3                      russian force sink georgian ship   \n",
       "4              russian conquer tblisi bet seriously bet   \n",
       "...                                                 ...   \n",
       "1984     surge hate crime u k following u k brexit vote   \n",
       "1985  brexit iceland president say uk join triangle ...   \n",
       "1986                    uk share pound continue recover   \n",
       "1987  republic ireland fan awarded medal sportsmansh...   \n",
       "1988  facebook win privacy case track belgian want m...   \n",
       "\n",
       "                                                   Top9  \\\n",
       "0     georgian troop retreat osettain capital presum...   \n",
       "1                  welcome world war iv high definition   \n",
       "2     u military surprised timing swiftness russian ...   \n",
       "3     commander navy air reconnaissance squadron pro...   \n",
       "4     russia exaggerating south ossetian death toll ...   \n",
       "...                                                 ...   \n",
       "1984  weapon shipped jordan cia saudi arabia intende...   \n",
       "1985  uk osborne absolutely going cut spending raise...   \n",
       "1986  iceland historian johannesson win presidential...   \n",
       "1987             afghan suicide bomber kill 40 bbc news   \n",
       "1988  switzerland denies muslim girl citizenship ref...   \n",
       "\n",
       "                                                  Top10  ...  \\\n",
       "0                             u prep georgia war russia  ...   \n",
       "1            georgia move mistake monumental proportion  ...   \n",
       "2                      u beat war drum iran dump dollar  ...   \n",
       "3         92 cnn reader russia action georgia justified  ...   \n",
       "4     musharraf expected resign rather face impeachment  ...   \n",
       "...                                                 ...  ...   \n",
       "1984  angela merkel said u k must file exit paper eu...  ...   \n",
       "1985  let scotland scottish mep alyn smith urged mem...  ...   \n",
       "1986  99 million yr old bird wing found encased ambe...  ...   \n",
       "1987  u airstrikes kill least 250 isi fighter convoy...  ...   \n",
       "1988  china kill million innocent meditators organ r...  ...   \n",
       "\n",
       "                                                  Top16  \\\n",
       "0     georgia invades south ossetia russia get invol...   \n",
       "1                   israel u behind georgian aggression   \n",
       "2        u troop still georgia know georgia first place   \n",
       "3                                 elephant extinct 2020   \n",
       "4     bank analyst forecast georgian crisis 2 day early   \n",
       "...                                                 ...   \n",
       "1984      german lawyer probe erdogan alleged war crime   \n",
       "1985  u canada mexico pledge 50 power clean energy 2025   \n",
       "1986  escape tunnel dug hand found holocaust massacr...   \n",
       "1987  google free wifi indian railway station better...   \n",
       "1988  united state placed myanmar uzbekistan sudan h...   \n",
       "\n",
       "                                                  Top17  \\\n",
       "0                       al qaeda face islamist backlash   \n",
       "1       believe tv neither russian georgian much victim   \n",
       "2                         russia response georgia right   \n",
       "3     u humanitarian mission soon georgia russia hit...   \n",
       "4     georgia confict could set back russia u relati...   \n",
       "...                                                 ...   \n",
       "1984  boris johnson say uk continue intensify cooper...   \n",
       "1985  increasing evidence australia torturing refuge...   \n",
       "1986  land beijing sinking much four inch per year o...   \n",
       "1987  mounting evidence suggests hobbit wiped modern...   \n",
       "1988    amp p revise european union credit rating aa aa   \n",
       "\n",
       "                                                  Top18  \\\n",
       "0     condoleezza rice u would act prevent israeli s...   \n",
       "1     riot still going montreal canada police murder...   \n",
       "2     gorbachev accuses u making serious blunder pur...   \n",
       "3                            georgia ddos came u source   \n",
       "4     war caucasus much product american imperial dr...   \n",
       "...                                                 ...   \n",
       "1984  richard branson calling uk government hold sec...   \n",
       "1985  richard branson founder virgin group said tues...   \n",
       "1986  car bomb anti islamic attack mosque perth aust...   \n",
       "1987  men carried tuesday terror attack istanbul ata...   \n",
       "1988  india get 1 billion loan world bank solar mission   \n",
       "\n",
       "                                                  Top19  \\\n",
       "0     busy day european union approved new sanction ...   \n",
       "1                 china overtake u largest manufacturer   \n",
       "2                      russia georgia nato cold war two   \n",
       "3           russian convoy head georgia violating truce   \n",
       "4       non medium photo south ossetia georgia conflict   \n",
       "...                                                 ...   \n",
       "1984                   turkey sorry downing russian jet   \n",
       "1985  37 000 yr old skull borneo reveals surprise sc...   \n",
       "1986  emaciated lion taiz zoo trapped blood soaked c...   \n",
       "1987  call suspend saudi arabia un human right counc...   \n",
       "1988  u sailor detained iran spoke much interrogatio...   \n",
       "\n",
       "                                                  Top20  \\\n",
       "0     georgia withdraw 1 000 soldier iraq help fight...   \n",
       "1                                 war south ossetia pic   \n",
       "2     remember adorable 62 year old led country war ...   \n",
       "3                israeli defence minister u strike iran   \n",
       "4     georgian tv reporter shot russian sniper live ...   \n",
       "...                                                 ...   \n",
       "1984    edward snowden lawyer vow new push pardon obama   \n",
       "1985  palestinian stone western wall worshiper polic...   \n",
       "1986  rupert murdoch describes brexit wonderful medi...   \n",
       "1987  100 nobel laureate call greenpeace anti gmo ob...   \n",
       "1988  mass fish kill vietnam solved taiwan steelmake...   \n",
       "\n",
       "                                                  Top21  \\\n",
       "0     pentagon think attacking iran bad idea u news ...   \n",
       "1        israeli physician group condemns state torture   \n",
       "2                        war georgia israeli connection   \n",
       "3                                      gorbachev choice   \n",
       "4         saudi arabia mother move block child marriage   \n",
       "...                                                 ...   \n",
       "1984  brexit opinion poll reveals majority want seco...   \n",
       "1985                    jean claude juncker asks farage   \n",
       "1986                     40 killed yemen suicide attack   \n",
       "1987  british pedophile sentenced 85 year u traffick...   \n",
       "1988  philippine president rodrigo duterte urge peop...   \n",
       "\n",
       "                                                  Top22  \\\n",
       "0         caucasus crisis georgia invades south ossetia   \n",
       "1              russia beaten united state head peak oil   \n",
       "2     sign point u encouraging georgia invade south ...   \n",
       "3     witness russian force head towards tbilisi bre...   \n",
       "4              taliban wage war humanitarian aid worker   \n",
       "...                                                 ...   \n",
       "1984  conservative mp leave campaigner leave campaig...   \n",
       "1985  romanian remainians offering new home 48 brito...   \n",
       "1986  google found disastrous symantec norton vulner...   \n",
       "1987  u permitted 1 200 offshore fracks gulf mexico ...   \n",
       "1988  spain arrest three pakistani accused promoting...   \n",
       "\n",
       "                                                  Top23  \\\n",
       "0              indian shoe manufactory series like work   \n",
       "1              perhaps question georgia russia conflict   \n",
       "2     christopher king argues u nato behind georgian...   \n",
       "3                 quarter russian blame u conflict poll   \n",
       "4     russia world forget georgia territorial integrity   \n",
       "...                                                 ...   \n",
       "1984  economist predict uk recession weakening pound...   \n",
       "1985             brexit gibraltar talk scotland stay eu   \n",
       "1986  extremist violence rise germany domestic intel...   \n",
       "1987  swimming ridicule french beach police carry gu...   \n",
       "1988  venezuela anger food shortage still mounting c...   \n",
       "\n",
       "                                                  Top24  \\\n",
       "0      visitor suffering mental illness banned olympics   \n",
       "1                                russia much better war   \n",
       "2                                    america new mexico   \n",
       "3     georgian president say u military take control...   \n",
       "4       darfur rebel accuse sudan mounting major attack   \n",
       "...                                                 ...   \n",
       "1984  new eu superstate plan france germany creating...   \n",
       "1985                    8 suicide bomber strike lebanon   \n",
       "1986    bbc news labour mp pas corbyn confidence motion   \n",
       "1987  uefa say minute silence istanbul victim euro 2...   \n",
       "1988  hindu temple worker killed three men motorcycl...   \n",
       "\n",
       "                                                  Top25  \n",
       "0                          help mexico kidnapping surge  \n",
       "1                                 come trading sex food  \n",
       "2          bbc news asia pacific extinction man climate  \n",
       "3     2006 nobel laureate aleksander solzhenitsyn ac...  \n",
       "4     philippine peace advocate say muslim need assu...  \n",
       "...                                                 ...  \n",
       "1984  pakistani cleric declare transgender marriage ...  \n",
       "1985  mexico security force routinely use sexual tor...  \n",
       "1986  tiny new zealand town many job launch drive re...  \n",
       "1987  law enforcement source gun used paris terroris...  \n",
       "1988  ozone layer hole seems healing u amp uk team s...  \n",
       "\n",
       "[1989 rows x 25 columns]"
      ]
     },
     "execution_count": 70,
     "metadata": {},
     "output_type": "execute_result"
    }
   ],
   "source": [
    "data_processed_topic_modelling = data_processed\n",
    "data_processed_topic_modelling.drop(['Label'],axis = 1)"
   ]
  },
  {
   "cell_type": "code",
   "execution_count": 71,
   "id": "E4-_KyQWKrSZ",
   "metadata": {
    "id": "E4-_KyQWKrSZ"
   },
   "outputs": [],
   "source": [
    "headlines = {}\n",
    "list_of_headlines = []\n",
    "for i in range(len(data_processed_topic_modelling)):\n",
    "  for j in range(25):\n",
    "      list_of_headlines.append(data_processed_topic_modelling.values[i][j])\n",
    "\n",
    "headlines['Headlines'] = list_of_headlines"
   ]
  },
  {
   "cell_type": "code",
   "execution_count": 72,
   "id": "OfBOCRcHKrb0",
   "metadata": {
    "id": "OfBOCRcHKrb0"
   },
   "outputs": [],
   "source": [
    "data_headlines = pd.DataFrame(data = headlines)"
   ]
  },
  {
   "cell_type": "code",
   "execution_count": 73,
   "id": "TnBOyVQ-Kri_",
   "metadata": {
    "id": "TnBOyVQ-Kri_"
   },
   "outputs": [
    {
     "data": {
      "text/html": [
       "<div>\n",
       "<style scoped>\n",
       "    .dataframe tbody tr th:only-of-type {\n",
       "        vertical-align: middle;\n",
       "    }\n",
       "\n",
       "    .dataframe tbody tr th {\n",
       "        vertical-align: top;\n",
       "    }\n",
       "\n",
       "    .dataframe thead th {\n",
       "        text-align: right;\n",
       "    }\n",
       "</style>\n",
       "<table border=\"1\" class=\"dataframe\">\n",
       "  <thead>\n",
       "    <tr style=\"text-align: right;\">\n",
       "      <th></th>\n",
       "      <th>Headlines</th>\n",
       "    </tr>\n",
       "  </thead>\n",
       "  <tbody>\n",
       "    <tr>\n",
       "      <th>0</th>\n",
       "      <td>georgia down two russian warplane country move...</td>\n",
       "    </tr>\n",
       "    <tr>\n",
       "      <th>1</th>\n",
       "      <td>breaking musharraf impeached</td>\n",
       "    </tr>\n",
       "    <tr>\n",
       "      <th>2</th>\n",
       "      <td>russia today column troop roll south ossetia f...</td>\n",
       "    </tr>\n",
       "    <tr>\n",
       "      <th>3</th>\n",
       "      <td>russian tank moving towards capital south osse...</td>\n",
       "    </tr>\n",
       "    <tr>\n",
       "      <th>4</th>\n",
       "      <td>afghan child raped impunity u n official say s...</td>\n",
       "    </tr>\n",
       "    <tr>\n",
       "      <th>...</th>\n",
       "      <td>...</td>\n",
       "    </tr>\n",
       "    <tr>\n",
       "      <th>49720</th>\n",
       "      <td>philippine president rodrigo duterte urge peop...</td>\n",
       "    </tr>\n",
       "    <tr>\n",
       "      <th>49721</th>\n",
       "      <td>spain arrest three pakistani accused promoting...</td>\n",
       "    </tr>\n",
       "    <tr>\n",
       "      <th>49722</th>\n",
       "      <td>venezuela anger food shortage still mounting c...</td>\n",
       "    </tr>\n",
       "    <tr>\n",
       "      <th>49723</th>\n",
       "      <td>hindu temple worker killed three men motorcycl...</td>\n",
       "    </tr>\n",
       "    <tr>\n",
       "      <th>49724</th>\n",
       "      <td>ozone layer hole seems healing u amp uk team s...</td>\n",
       "    </tr>\n",
       "  </tbody>\n",
       "</table>\n",
       "<p>49725 rows × 1 columns</p>\n",
       "</div>"
      ],
      "text/plain": [
       "                                               Headlines\n",
       "0      georgia down two russian warplane country move...\n",
       "1                           breaking musharraf impeached\n",
       "2      russia today column troop roll south ossetia f...\n",
       "3      russian tank moving towards capital south osse...\n",
       "4      afghan child raped impunity u n official say s...\n",
       "...                                                  ...\n",
       "49720  philippine president rodrigo duterte urge peop...\n",
       "49721  spain arrest three pakistani accused promoting...\n",
       "49722  venezuela anger food shortage still mounting c...\n",
       "49723  hindu temple worker killed three men motorcycl...\n",
       "49724  ozone layer hole seems healing u amp uk team s...\n",
       "\n",
       "[49725 rows x 1 columns]"
      ]
     },
     "execution_count": 73,
     "metadata": {},
     "output_type": "execute_result"
    }
   ],
   "source": [
    "data_headlines"
   ]
  },
  {
   "cell_type": "code",
   "execution_count": 74,
   "id": "Ei2JsCmEKrwd",
   "metadata": {
    "id": "Ei2JsCmEKrwd"
   },
   "outputs": [],
   "source": [
    "from sklearn.feature_extraction.text import TfidfVectorizer"
   ]
  },
  {
   "cell_type": "code",
   "execution_count": 75,
   "id": "xYdw7iVrKr3G",
   "metadata": {
    "id": "xYdw7iVrKr3G"
   },
   "outputs": [],
   "source": [
    "tfidf = TfidfVectorizer(max_df = 0.75,min_df = 5, stop_words = 'english',max_features = 30000)"
   ]
  },
  {
   "cell_type": "code",
   "execution_count": 76,
   "id": "33-lBFmEKr-R",
   "metadata": {
    "id": "33-lBFmEKr-R"
   },
   "outputs": [],
   "source": [
    "tfidf_matrix = tfidf.fit_transform(data_headlines['Headlines'])"
   ]
  },
  {
   "cell_type": "code",
   "execution_count": 77,
   "id": "aOrcTnpfT0SR",
   "metadata": {
    "id": "aOrcTnpfT0SR"
   },
   "outputs": [
    {
     "data": {
      "text/plain": [
       "<49725x9948 sparse matrix of type '<class 'numpy.float64'>'\n",
       "\twith 502414 stored elements in Compressed Sparse Row format>"
      ]
     },
     "execution_count": 77,
     "metadata": {},
     "output_type": "execute_result"
    }
   ],
   "source": [
    "tfidf_matrix"
   ]
  },
  {
   "cell_type": "code",
   "execution_count": 78,
   "id": "eE4uID0VT1Pl",
   "metadata": {
    "id": "eE4uID0VT1Pl"
   },
   "outputs": [],
   "source": [
    "from sklearn.decomposition import LatentDirichletAllocation"
   ]
  },
  {
   "cell_type": "code",
   "execution_count": 79,
   "id": "M3hfhQEjT1ZD",
   "metadata": {
    "id": "M3hfhQEjT1ZD"
   },
   "outputs": [],
   "source": [
    "lda_model = LatentDirichletAllocation(n_components = 100,doc_topic_prior = 0.0025, topic_word_prior = 0.0025, random_state = 101)"
   ]
  },
  {
   "cell_type": "code",
   "execution_count": 80,
   "id": "WzJRS5CeWWFZ",
   "metadata": {
    "id": "WzJRS5CeWWFZ"
   },
   "outputs": [
    {
     "data": {
      "text/plain": [
       "LatentDirichletAllocation(doc_topic_prior=0.0025, n_components=100,\n",
       "                          random_state=101, topic_word_prior=0.0025)"
      ]
     },
     "execution_count": 80,
     "metadata": {},
     "output_type": "execute_result"
    }
   ],
   "source": [
    "lda_model.fit(tfidf_matrix)"
   ]
  },
  {
   "cell_type": "code",
   "execution_count": 81,
   "id": "swsiCzmD0Aom",
   "metadata": {
    "id": "swsiCzmD0Aom"
   },
   "outputs": [],
   "source": [
    "topic_results = lda_model.transform(tfidf_matrix)"
   ]
  },
  {
   "cell_type": "code",
   "execution_count": 82,
   "id": "zgUTdBYk0nPn",
   "metadata": {
    "id": "zgUTdBYk0nPn"
   },
   "outputs": [],
   "source": [
    "data_headlines['Topic'] = topic_results.argmax(axis = 1)"
   ]
  },
  {
   "cell_type": "code",
   "execution_count": 83,
   "id": "kQ5FTu9xF3oK",
   "metadata": {
    "id": "kQ5FTu9xF3oK",
    "scrolled": true
   },
   "outputs": [
    {
     "data": {
      "text/html": [
       "<div>\n",
       "<style scoped>\n",
       "    .dataframe tbody tr th:only-of-type {\n",
       "        vertical-align: middle;\n",
       "    }\n",
       "\n",
       "    .dataframe tbody tr th {\n",
       "        vertical-align: top;\n",
       "    }\n",
       "\n",
       "    .dataframe thead th {\n",
       "        text-align: right;\n",
       "    }\n",
       "</style>\n",
       "<table border=\"1\" class=\"dataframe\">\n",
       "  <thead>\n",
       "    <tr style=\"text-align: right;\">\n",
       "      <th></th>\n",
       "      <th>Headlines</th>\n",
       "      <th>Topic</th>\n",
       "    </tr>\n",
       "  </thead>\n",
       "  <tbody>\n",
       "    <tr>\n",
       "      <th>0</th>\n",
       "      <td>georgia down two russian warplane country move...</td>\n",
       "      <td>29</td>\n",
       "    </tr>\n",
       "    <tr>\n",
       "      <th>1</th>\n",
       "      <td>breaking musharraf impeached</td>\n",
       "      <td>97</td>\n",
       "    </tr>\n",
       "    <tr>\n",
       "      <th>2</th>\n",
       "      <td>russia today column troop roll south ossetia f...</td>\n",
       "      <td>73</td>\n",
       "    </tr>\n",
       "    <tr>\n",
       "      <th>3</th>\n",
       "      <td>russian tank moving towards capital south osse...</td>\n",
       "      <td>73</td>\n",
       "    </tr>\n",
       "    <tr>\n",
       "      <th>4</th>\n",
       "      <td>afghan child raped impunity u n official say s...</td>\n",
       "      <td>61</td>\n",
       "    </tr>\n",
       "    <tr>\n",
       "      <th>...</th>\n",
       "      <td>...</td>\n",
       "      <td>...</td>\n",
       "    </tr>\n",
       "    <tr>\n",
       "      <th>49720</th>\n",
       "      <td>philippine president rodrigo duterte urge peop...</td>\n",
       "      <td>87</td>\n",
       "    </tr>\n",
       "    <tr>\n",
       "      <th>49721</th>\n",
       "      <td>spain arrest three pakistani accused promoting...</td>\n",
       "      <td>90</td>\n",
       "    </tr>\n",
       "    <tr>\n",
       "      <th>49722</th>\n",
       "      <td>venezuela anger food shortage still mounting c...</td>\n",
       "      <td>48</td>\n",
       "    </tr>\n",
       "    <tr>\n",
       "      <th>49723</th>\n",
       "      <td>hindu temple worker killed three men motorcycl...</td>\n",
       "      <td>39</td>\n",
       "    </tr>\n",
       "    <tr>\n",
       "      <th>49724</th>\n",
       "      <td>ozone layer hole seems healing u amp uk team s...</td>\n",
       "      <td>7</td>\n",
       "    </tr>\n",
       "  </tbody>\n",
       "</table>\n",
       "<p>49725 rows × 2 columns</p>\n",
       "</div>"
      ],
      "text/plain": [
       "                                               Headlines  Topic\n",
       "0      georgia down two russian warplane country move...     29\n",
       "1                           breaking musharraf impeached     97\n",
       "2      russia today column troop roll south ossetia f...     73\n",
       "3      russian tank moving towards capital south osse...     73\n",
       "4      afghan child raped impunity u n official say s...     61\n",
       "...                                                  ...    ...\n",
       "49720  philippine president rodrigo duterte urge peop...     87\n",
       "49721  spain arrest three pakistani accused promoting...     90\n",
       "49722  venezuela anger food shortage still mounting c...     48\n",
       "49723  hindu temple worker killed three men motorcycl...     39\n",
       "49724  ozone layer hole seems healing u amp uk team s...      7\n",
       "\n",
       "[49725 rows x 2 columns]"
      ]
     },
     "execution_count": 83,
     "metadata": {},
     "output_type": "execute_result"
    }
   ],
   "source": [
    "data_headlines"
   ]
  },
  {
   "cell_type": "code",
   "execution_count": 84,
   "id": "inclusive-klein",
   "metadata": {
    "scrolled": true
   },
   "outputs": [
    {
     "name": "stderr",
     "output_type": "stream",
     "text": [
      "/Users/thaihuynh/miniforge3_alt/envs/clone1Works_2/lib/python3.8/site-packages/seaborn/_decorators.py:36: FutureWarning: Pass the following variables as keyword args: x, y. From version 0.12, the only valid positional argument will be `data`, and passing other arguments without an explicit keyword will result in an error or misinterpretation.\n",
      "  warnings.warn(\n"
     ]
    },
    {
     "data": {
      "image/png": "[encoded data removed]",
      "text/plain": [
       "<Figure size 1080x1080 with 1 Axes>"
      ]
     },
     "metadata": {
      "needs_background": "light"
     },
     "output_type": "display_data"
    }
   ],
   "source": [
    "import seaborn as sns\n",
    "f, ax = plt.subplots(figsize=(15, 15))\n",
    "x = data_headlines['Topic'].value_counts()\n",
    "fig = sns.barplot(x.values,x.index.astype(str),orient = 'h')\n",
    "fig.set(xlabel='Frequency', ylabel='Topic')\n",
    "plt.show()"
   ]
  },
  {
   "cell_type": "code",
   "execution_count": 127,
   "id": "worldwide-patrol",
   "metadata": {},
   "outputs": [],
   "source": [
    "indices_of_top_topic_indices = data_headlines['Topic'].value_counts()[:15].index.tolist()"
   ]
  },
  {
   "cell_type": "code",
   "execution_count": 128,
   "id": "crucial-agenda",
   "metadata": {},
   "outputs": [
    {
     "name": "stdout",
     "output_type": "stream",
     "text": [
      "THE TOP 8 WORDS FOR TOPIC #2\n",
      "['secret', 'document', 'reveal', 'ecuador', 'cable', 'founder', 'cia', 'julian', 'assange', 'wikileaks']\n",
      "\n",
      "\n",
      "THE TOP 8 WORDS FOR TOPIC #4\n",
      "['israeli', 'virus', 'flotilla', 'gaza', 'israel', 'confirms', 'condemns', 'lebanon', 'asks', 'hostage']\n",
      "\n",
      "\n",
      "THE TOP 8 WORDS FOR TOPIC #5\n",
      "['surprise', 'nuclear', 'airline', 'il', 'jong', 'kim', 'south', 'korean', 'north', 'korea']\n",
      "\n",
      "\n",
      "THE TOP 8 WORDS FOR TOPIC #20\n",
      "['party', 'picture', 'riot', 'year', 'bay', 'house', 'sentenced', 'white', 'pirate', 'prison']\n",
      "\n",
      "\n",
      "THE TOP 8 WORDS FOR TOPIC #29\n",
      "['corrupt', 'scotland', 'independence', 'crimea', 'russia', 'russian', 'violent', 'fighter', 'jet', 'georgia']\n",
      "\n",
      "\n",
      "THE TOP 8 WORDS FOR TOPIC #34\n",
      "['copyright', 'access', 'web', 'data', 'google', 'facebook', 'block', 'twitter', 'user', 'internet']\n",
      "\n",
      "\n",
      "THE TOP 8 WORDS FOR TOPIC #41\n",
      "['angela', 'chancellor', 'budget', '35', 'wealth', 'cancel', 'export', 'german', 'pacific', 'merkel']\n",
      "\n",
      "\n",
      "THE TOP 8 WORDS FOR TOPIC #56\n",
      "['indonesia', 'japan', 'hit', 'alert', 'new', 'flu', 'tsunami', 'magnitude', 'quake', 'earthquake']\n",
      "\n",
      "\n",
      "THE TOP 8 WORDS FOR TOPIC #58\n",
      "['award', 'reason', 'silence', 'medvedev', 'mistake', 'hitler', 'elite', 'peace', 'nobel', 'prize']\n",
      "\n",
      "\n",
      "THE TOP 8 WORDS FOR TOPIC #65\n",
      "['asylum', 'deep', 'colombia', 'plastic', 'trapped', 'miner', 'nsa', 'whistleblower', 'edward', 'snowden']\n",
      "\n",
      "\n",
      "THE TOP 8 WORDS FOR TOPIC #68\n",
      "['walk', 'envoy', 'dalai', 'lama', 'tibetan', 'prince', 'teen', 'francis', 'vatican', 'pope']\n",
      "\n",
      "\n",
      "THE TOP 8 WORDS FOR TOPIC #70\n",
      "['strike', 'killed', 'mosque', 'drone', 'pakistan', 'yemen', 'kill', 'blast', 'bomber', 'suicide']\n",
      "\n",
      "\n",
      "THE TOP 8 WORDS FOR TOPIC #88\n",
      "['revolt', 'considering', 'expose', 'enemy', 'rebel', 'weapon', 'chemical', 'syrian', 'assad', 'syria']\n",
      "\n",
      "\n",
      "THE TOP 8 WORDS FOR TOPIC #98\n",
      "['link', 'philippine', 'piracy', 'coalition', 'reddit', 'suggests', 'english', 'jazeera', 'qaeda', 'al']\n",
      "\n",
      "\n",
      "THE TOP 8 WORDS FOR TOPIC #99\n",
      "['charged', '150', 'murder', 'crime', 'delhi', 'gang', 'entry', 'hate', 'unrest', 'rape']\n",
      "\n",
      "\n"
     ]
    }
   ],
   "source": [
    "for index,topic in enumerate(lda_model.components_):\n",
    "    if index in indices_of_top_topic_indices:\n",
    "      print(f'THE TOP 8 WORDS FOR TOPIC #{index}')\n",
    "      print([tfidf.get_feature_names()[i] for i in topic.argsort()[-10:]])\n",
    "      print('\\n')"
   ]
  },
  {
   "cell_type": "markdown",
   "id": "optional-cuisine",
   "metadata": {},
   "source": [
    "## Predictive Modeling based on LDA output"
   ]
  },
  {
   "cell_type": "code",
   "execution_count": 85,
   "id": "Yo02kY93SBO3",
   "metadata": {
    "id": "Yo02kY93SBO3"
   },
   "outputs": [],
   "source": [
    "h = data_headlines[\"Headlines\"].tolist()\n",
    "t = data_headlines[\"Topic\"].tolist()\n",
    "converter = dict(zip(h,t))"
   ]
  },
  {
   "cell_type": "code",
   "execution_count": 86,
   "id": "nIxLZ-hJSVQd",
   "metadata": {
    "id": "nIxLZ-hJSVQd"
   },
   "outputs": [],
   "source": [
    "topic_df = data_processed.copy(deep = True)"
   ]
  },
  {
   "cell_type": "code",
   "execution_count": 88,
   "id": "functional-beijing",
   "metadata": {},
   "outputs": [],
   "source": [
    "topic_df.drop(columns = \"Label\", inplace = True)"
   ]
  },
  {
   "cell_type": "code",
   "execution_count": 89,
   "id": "changed-luxury",
   "metadata": {},
   "outputs": [],
   "source": [
    "for i in range(topic_df.shape[0]):\n",
    "    for j in range(topic_df.shape[1]):\n",
    "        topic_df.iloc[i,j] = converter.get(topic_df.iloc[i,j])"
   ]
  },
  {
   "cell_type": "code",
   "execution_count": 90,
   "id": "several-fleece",
   "metadata": {},
   "outputs": [],
   "source": [
    "topic_df = topic_df.astype(str)"
   ]
  },
  {
   "cell_type": "code",
   "execution_count": 91,
   "id": "introductory-lesson",
   "metadata": {
    "scrolled": false
   },
   "outputs": [
    {
     "data": {
      "text/html": [
       "<div>\n",
       "<style scoped>\n",
       "    .dataframe tbody tr th:only-of-type {\n",
       "        vertical-align: middle;\n",
       "    }\n",
       "\n",
       "    .dataframe tbody tr th {\n",
       "        vertical-align: top;\n",
       "    }\n",
       "\n",
       "    .dataframe thead th {\n",
       "        text-align: right;\n",
       "    }\n",
       "</style>\n",
       "<table border=\"1\" class=\"dataframe\">\n",
       "  <thead>\n",
       "    <tr style=\"text-align: right;\">\n",
       "      <th></th>\n",
       "      <th>Top1</th>\n",
       "      <th>Top2</th>\n",
       "      <th>Top3</th>\n",
       "      <th>Top4</th>\n",
       "      <th>Top5</th>\n",
       "      <th>Top6</th>\n",
       "      <th>Top7</th>\n",
       "      <th>Top8</th>\n",
       "      <th>Top9</th>\n",
       "      <th>Top10</th>\n",
       "      <th>...</th>\n",
       "      <th>Top16</th>\n",
       "      <th>Top17</th>\n",
       "      <th>Top18</th>\n",
       "      <th>Top19</th>\n",
       "      <th>Top20</th>\n",
       "      <th>Top21</th>\n",
       "      <th>Top22</th>\n",
       "      <th>Top23</th>\n",
       "      <th>Top24</th>\n",
       "      <th>Top25</th>\n",
       "    </tr>\n",
       "  </thead>\n",
       "  <tbody>\n",
       "    <tr>\n",
       "      <th>0</th>\n",
       "      <td>29</td>\n",
       "      <td>97</td>\n",
       "      <td>73</td>\n",
       "      <td>73</td>\n",
       "      <td>61</td>\n",
       "      <td>29</td>\n",
       "      <td>1</td>\n",
       "      <td>20</td>\n",
       "      <td>22</td>\n",
       "      <td>29</td>\n",
       "      <td>...</td>\n",
       "      <td>55</td>\n",
       "      <td>98</td>\n",
       "      <td>22</td>\n",
       "      <td>36</td>\n",
       "      <td>29</td>\n",
       "      <td>58</td>\n",
       "      <td>29</td>\n",
       "      <td>79</td>\n",
       "      <td>75</td>\n",
       "      <td>54</td>\n",
       "    </tr>\n",
       "    <tr>\n",
       "      <th>1</th>\n",
       "      <td>7</td>\n",
       "      <td>22</td>\n",
       "      <td>22</td>\n",
       "      <td>66</td>\n",
       "      <td>24</td>\n",
       "      <td>19</td>\n",
       "      <td>29</td>\n",
       "      <td>22</td>\n",
       "      <td>77</td>\n",
       "      <td>95</td>\n",
       "      <td>...</td>\n",
       "      <td>22</td>\n",
       "      <td>9</td>\n",
       "      <td>39</td>\n",
       "      <td>20</td>\n",
       "      <td>73</td>\n",
       "      <td>79</td>\n",
       "      <td>0</td>\n",
       "      <td>29</td>\n",
       "      <td>67</td>\n",
       "      <td>74</td>\n",
       "    </tr>\n",
       "    <tr>\n",
       "      <th>2</th>\n",
       "      <td>24</td>\n",
       "      <td>29</td>\n",
       "      <td>66</td>\n",
       "      <td>53</td>\n",
       "      <td>29</td>\n",
       "      <td>94</td>\n",
       "      <td>88</td>\n",
       "      <td>29</td>\n",
       "      <td>47</td>\n",
       "      <td>27</td>\n",
       "      <td>...</td>\n",
       "      <td>29</td>\n",
       "      <td>29</td>\n",
       "      <td>58</td>\n",
       "      <td>29</td>\n",
       "      <td>0</td>\n",
       "      <td>29</td>\n",
       "      <td>73</td>\n",
       "      <td>73</td>\n",
       "      <td>86</td>\n",
       "      <td>89</td>\n",
       "    </tr>\n",
       "    <tr>\n",
       "      <th>3</th>\n",
       "      <td>88</td>\n",
       "      <td>47</td>\n",
       "      <td>76</td>\n",
       "      <td>97</td>\n",
       "      <td>90</td>\n",
       "      <td>29</td>\n",
       "      <td>62</td>\n",
       "      <td>77</td>\n",
       "      <td>85</td>\n",
       "      <td>29</td>\n",
       "      <td>...</td>\n",
       "      <td>22</td>\n",
       "      <td>29</td>\n",
       "      <td>35</td>\n",
       "      <td>58</td>\n",
       "      <td>14</td>\n",
       "      <td>41</td>\n",
       "      <td>70</td>\n",
       "      <td>99</td>\n",
       "      <td>67</td>\n",
       "      <td>58</td>\n",
       "    </tr>\n",
       "    <tr>\n",
       "      <th>4</th>\n",
       "      <td>7</td>\n",
       "      <td>81</td>\n",
       "      <td>97</td>\n",
       "      <td>22</td>\n",
       "      <td>63</td>\n",
       "      <td>82</td>\n",
       "      <td>69</td>\n",
       "      <td>82</td>\n",
       "      <td>46</td>\n",
       "      <td>97</td>\n",
       "      <td>...</td>\n",
       "      <td>45</td>\n",
       "      <td>22</td>\n",
       "      <td>48</td>\n",
       "      <td>29</td>\n",
       "      <td>9</td>\n",
       "      <td>12</td>\n",
       "      <td>27</td>\n",
       "      <td>44</td>\n",
       "      <td>80</td>\n",
       "      <td>40</td>\n",
       "    </tr>\n",
       "  </tbody>\n",
       "</table>\n",
       "<p>5 rows × 25 columns</p>\n",
       "</div>"
      ],
      "text/plain": [
       "  Top1 Top2 Top3 Top4 Top5 Top6 Top7 Top8 Top9 Top10  ... Top16 Top17 Top18  \\\n",
       "0   29   97   73   73   61   29    1   20   22    29  ...    55    98    22   \n",
       "1    7   22   22   66   24   19   29   22   77    95  ...    22     9    39   \n",
       "2   24   29   66   53   29   94   88   29   47    27  ...    29    29    58   \n",
       "3   88   47   76   97   90   29   62   77   85    29  ...    22    29    35   \n",
       "4    7   81   97   22   63   82   69   82   46    97  ...    45    22    48   \n",
       "\n",
       "  Top19 Top20 Top21 Top22 Top23 Top24 Top25  \n",
       "0    36    29    58    29    79    75    54  \n",
       "1    20    73    79     0    29    67    74  \n",
       "2    29     0    29    73    73    86    89  \n",
       "3    58    14    41    70    99    67    58  \n",
       "4    29     9    12    27    44    80    40  \n",
       "\n",
       "[5 rows x 25 columns]"
      ]
     },
     "execution_count": 91,
     "metadata": {},
     "output_type": "execute_result"
    }
   ],
   "source": [
    "topic_df.head()"
   ]
  },
  {
   "cell_type": "code",
   "execution_count": 93,
   "id": "under-scheduling",
   "metadata": {},
   "outputs": [],
   "source": [
    "all_cols = topic_df.columns.tolist()"
   ]
  },
  {
   "cell_type": "code",
   "execution_count": 95,
   "id": "binding-behalf",
   "metadata": {},
   "outputs": [],
   "source": [
    "category_values = {}\n",
    "for each in all_cols:\n",
    "    cat = [str(x) for x in range(100)]\n",
    "    category_values[each] = cat"
   ]
  },
  {
   "cell_type": "code",
   "execution_count": 97,
   "id": "official-valley",
   "metadata": {},
   "outputs": [],
   "source": [
    "def preprocess_df(df):\n",
    "    new_df = df.copy(deep=True)\n",
    "    for feature in df.columns:\n",
    "        for value in category_values[feature]:\n",
    "            new_df[feature + \"_\" + value] = df[feature].apply(lambda x: 1 if x == value else 0)\n",
    "        new_df = new_df.drop(feature, axis=1) # drop the original column\n",
    "    return new_df"
   ]
  },
  {
   "cell_type": "code",
   "execution_count": 98,
   "id": "mechanical-balloon",
   "metadata": {},
   "outputs": [],
   "source": [
    "processed_topic_df = preprocess_df(topic_df)"
   ]
  },
  {
   "cell_type": "code",
   "execution_count": 99,
   "id": "dress-insulin",
   "metadata": {},
   "outputs": [
    {
     "data": {
      "text/html": [
       "<div>\n",
       "<style scoped>\n",
       "    .dataframe tbody tr th:only-of-type {\n",
       "        vertical-align: middle;\n",
       "    }\n",
       "\n",
       "    .dataframe tbody tr th {\n",
       "        vertical-align: top;\n",
       "    }\n",
       "\n",
       "    .dataframe thead th {\n",
       "        text-align: right;\n",
       "    }\n",
       "</style>\n",
       "<table border=\"1\" class=\"dataframe\">\n",
       "  <thead>\n",
       "    <tr style=\"text-align: right;\">\n",
       "      <th></th>\n",
       "      <th>Top1_0</th>\n",
       "      <th>Top1_1</th>\n",
       "      <th>Top1_2</th>\n",
       "      <th>Top1_3</th>\n",
       "      <th>Top1_4</th>\n",
       "      <th>Top1_5</th>\n",
       "      <th>Top1_6</th>\n",
       "      <th>Top1_7</th>\n",
       "      <th>Top1_8</th>\n",
       "      <th>Top1_9</th>\n",
       "      <th>...</th>\n",
       "      <th>Top25_90</th>\n",
       "      <th>Top25_91</th>\n",
       "      <th>Top25_92</th>\n",
       "      <th>Top25_93</th>\n",
       "      <th>Top25_94</th>\n",
       "      <th>Top25_95</th>\n",
       "      <th>Top25_96</th>\n",
       "      <th>Top25_97</th>\n",
       "      <th>Top25_98</th>\n",
       "      <th>Top25_99</th>\n",
       "    </tr>\n",
       "  </thead>\n",
       "  <tbody>\n",
       "    <tr>\n",
       "      <th>0</th>\n",
       "      <td>0</td>\n",
       "      <td>0</td>\n",
       "      <td>0</td>\n",
       "      <td>0</td>\n",
       "      <td>0</td>\n",
       "      <td>0</td>\n",
       "      <td>0</td>\n",
       "      <td>0</td>\n",
       "      <td>0</td>\n",
       "      <td>0</td>\n",
       "      <td>...</td>\n",
       "      <td>0</td>\n",
       "      <td>0</td>\n",
       "      <td>0</td>\n",
       "      <td>0</td>\n",
       "      <td>0</td>\n",
       "      <td>0</td>\n",
       "      <td>0</td>\n",
       "      <td>0</td>\n",
       "      <td>0</td>\n",
       "      <td>0</td>\n",
       "    </tr>\n",
       "    <tr>\n",
       "      <th>1</th>\n",
       "      <td>0</td>\n",
       "      <td>0</td>\n",
       "      <td>0</td>\n",
       "      <td>0</td>\n",
       "      <td>0</td>\n",
       "      <td>0</td>\n",
       "      <td>0</td>\n",
       "      <td>1</td>\n",
       "      <td>0</td>\n",
       "      <td>0</td>\n",
       "      <td>...</td>\n",
       "      <td>0</td>\n",
       "      <td>0</td>\n",
       "      <td>0</td>\n",
       "      <td>0</td>\n",
       "      <td>0</td>\n",
       "      <td>0</td>\n",
       "      <td>0</td>\n",
       "      <td>0</td>\n",
       "      <td>0</td>\n",
       "      <td>0</td>\n",
       "    </tr>\n",
       "    <tr>\n",
       "      <th>2</th>\n",
       "      <td>0</td>\n",
       "      <td>0</td>\n",
       "      <td>0</td>\n",
       "      <td>0</td>\n",
       "      <td>0</td>\n",
       "      <td>0</td>\n",
       "      <td>0</td>\n",
       "      <td>0</td>\n",
       "      <td>0</td>\n",
       "      <td>0</td>\n",
       "      <td>...</td>\n",
       "      <td>0</td>\n",
       "      <td>0</td>\n",
       "      <td>0</td>\n",
       "      <td>0</td>\n",
       "      <td>0</td>\n",
       "      <td>0</td>\n",
       "      <td>0</td>\n",
       "      <td>0</td>\n",
       "      <td>0</td>\n",
       "      <td>0</td>\n",
       "    </tr>\n",
       "    <tr>\n",
       "      <th>3</th>\n",
       "      <td>0</td>\n",
       "      <td>0</td>\n",
       "      <td>0</td>\n",
       "      <td>0</td>\n",
       "      <td>0</td>\n",
       "      <td>0</td>\n",
       "      <td>0</td>\n",
       "      <td>0</td>\n",
       "      <td>0</td>\n",
       "      <td>0</td>\n",
       "      <td>...</td>\n",
       "      <td>0</td>\n",
       "      <td>0</td>\n",
       "      <td>0</td>\n",
       "      <td>0</td>\n",
       "      <td>0</td>\n",
       "      <td>0</td>\n",
       "      <td>0</td>\n",
       "      <td>0</td>\n",
       "      <td>0</td>\n",
       "      <td>0</td>\n",
       "    </tr>\n",
       "    <tr>\n",
       "      <th>4</th>\n",
       "      <td>0</td>\n",
       "      <td>0</td>\n",
       "      <td>0</td>\n",
       "      <td>0</td>\n",
       "      <td>0</td>\n",
       "      <td>0</td>\n",
       "      <td>0</td>\n",
       "      <td>1</td>\n",
       "      <td>0</td>\n",
       "      <td>0</td>\n",
       "      <td>...</td>\n",
       "      <td>0</td>\n",
       "      <td>0</td>\n",
       "      <td>0</td>\n",
       "      <td>0</td>\n",
       "      <td>0</td>\n",
       "      <td>0</td>\n",
       "      <td>0</td>\n",
       "      <td>0</td>\n",
       "      <td>0</td>\n",
       "      <td>0</td>\n",
       "    </tr>\n",
       "  </tbody>\n",
       "</table>\n",
       "<p>5 rows × 2500 columns</p>\n",
       "</div>"
      ],
      "text/plain": [
       "   Top1_0  Top1_1  Top1_2  Top1_3  Top1_4  Top1_5  Top1_6  Top1_7  Top1_8  \\\n",
       "0       0       0       0       0       0       0       0       0       0   \n",
       "1       0       0       0       0       0       0       0       1       0   \n",
       "2       0       0       0       0       0       0       0       0       0   \n",
       "3       0       0       0       0       0       0       0       0       0   \n",
       "4       0       0       0       0       0       0       0       1       0   \n",
       "\n",
       "   Top1_9  ...  Top25_90  Top25_91  Top25_92  Top25_93  Top25_94  Top25_95  \\\n",
       "0       0  ...         0         0         0         0         0         0   \n",
       "1       0  ...         0         0         0         0         0         0   \n",
       "2       0  ...         0         0         0         0         0         0   \n",
       "3       0  ...         0         0         0         0         0         0   \n",
       "4       0  ...         0         0         0         0         0         0   \n",
       "\n",
       "   Top25_96  Top25_97  Top25_98  Top25_99  \n",
       "0         0         0         0         0  \n",
       "1         0         0         0         0  \n",
       "2         0         0         0         0  \n",
       "3         0         0         0         0  \n",
       "4         0         0         0         0  \n",
       "\n",
       "[5 rows x 2500 columns]"
      ]
     },
     "execution_count": 99,
     "metadata": {},
     "output_type": "execute_result"
    }
   ],
   "source": [
    "processed_topic_df.head()"
   ]
  },
  {
   "cell_type": "code",
   "execution_count": 100,
   "id": "nonprofit-requirement",
   "metadata": {},
   "outputs": [
    {
     "data": {
      "text/plain": [
       "(1989, 2500)"
      ]
     },
     "execution_count": 100,
     "metadata": {},
     "output_type": "execute_result"
    }
   ],
   "source": [
    "processed_topic_df.shape"
   ]
  },
  {
   "cell_type": "code",
   "execution_count": 101,
   "id": "twelve-seminar",
   "metadata": {},
   "outputs": [],
   "source": [
    "processed_topic_df[\"Label\"] = data_processed[\"Label\"]"
   ]
  },
  {
   "cell_type": "code",
   "execution_count": 102,
   "id": "virtual-arkansas",
   "metadata": {},
   "outputs": [
    {
     "data": {
      "text/plain": [
       "(1989, 2501)"
      ]
     },
     "execution_count": 102,
     "metadata": {},
     "output_type": "execute_result"
    }
   ],
   "source": [
    "processed_topic_df.shape"
   ]
  },
  {
   "cell_type": "code",
   "execution_count": 104,
   "id": "fitted-growth",
   "metadata": {},
   "outputs": [],
   "source": [
    "allfeas = processed_topic_df.columns.tolist()\n",
    "allfeas.remove(\"Label\")\n",
    "\n",
    "x_train2, x_test2, y_train2, y_test2 = train_test_split(processed_topic_df[allfeas], processed_topic_df[\"Label\"],  test_size=0.2, random_state=32)\n",
    "x_train2, x_val2, y_train2, y_val2 = train_test_split(x_train2, y_train2,  test_size=0.2, random_state=32)"
   ]
  },
  {
   "cell_type": "code",
   "execution_count": 105,
   "id": "south-claim",
   "metadata": {},
   "outputs": [
    {
     "data": {
      "text/plain": [
       "(1272, 2500)"
      ]
     },
     "execution_count": 105,
     "metadata": {},
     "output_type": "execute_result"
    }
   ],
   "source": [
    "x_train2.shape"
   ]
  },
  {
   "cell_type": "code",
   "execution_count": 108,
   "id": "visible-norfolk",
   "metadata": {},
   "outputs": [
    {
     "name": "stdout",
     "output_type": "stream",
     "text": [
      "Trial 10 Complete [00h 00m 19s]\n",
      "val_accuracy: 0.5475443998972574\n",
      "\n",
      "Best val_accuracy So Far: 0.5527690649032593\n",
      "Total elapsed time: 00h 02m 59s\n",
      "INFO:tensorflow:Oracle triggered exit\n",
      "Results summary\n",
      "Results in ./nlp_project\n",
      "Showing 10 best trials\n",
      "Objective(name='val_accuracy', direction='max')\n",
      "Trial summary\n",
      "Hyperparameters:\n",
      "num_layers: 3\n",
      "units_0: 5000\n",
      "units_1: 2500\n",
      "units_2: 2500\n",
      "units_3: 2500\n",
      "Score: 0.5527690649032593\n",
      "Trial summary\n",
      "Hyperparameters:\n",
      "num_layers: 2\n",
      "units_0: 5000\n",
      "units_1: 2500\n",
      "units_2: 5000\n",
      "units_3: 2500\n",
      "Score: 0.5506792068481445\n",
      "Trial summary\n",
      "Hyperparameters:\n",
      "num_layers: 2\n",
      "units_0: 2500\n",
      "units_1: 2500\n",
      "units_2: 5000\n",
      "units_3: 5000\n",
      "Score: 0.5496342778205872\n",
      "Trial summary\n",
      "Hyperparameters:\n",
      "num_layers: 3\n",
      "units_0: 5000\n",
      "units_1: 2500\n",
      "units_2: 2500\n",
      "units_3: 5000\n",
      "Score: 0.5475443998972574\n",
      "Trial summary\n",
      "Hyperparameters:\n",
      "num_layers: 2\n",
      "units_0: 5000\n",
      "units_1: 5000\n",
      "units_2: 2500\n",
      "Score: 0.543364683787028\n",
      "Trial summary\n",
      "Hyperparameters:\n",
      "num_layers: 4\n",
      "units_0: 5000\n",
      "units_1: 2500\n",
      "units_2: 2500\n",
      "units_3: 2500\n",
      "Score: 0.5412748058636984\n",
      "Trial summary\n",
      "Hyperparameters:\n",
      "num_layers: 2\n",
      "units_0: 5000\n",
      "units_1: 2500\n",
      "units_2: 2500\n",
      "units_3: 5000\n",
      "Score: 0.5391849478085836\n",
      "Trial summary\n",
      "Hyperparameters:\n",
      "num_layers: 3\n",
      "units_0: 5000\n",
      "units_1: 2500\n",
      "units_2: 5000\n",
      "units_3: 2500\n",
      "Score: 0.5360501408576965\n",
      "Trial summary\n",
      "Hyperparameters:\n",
      "num_layers: 3\n",
      "units_0: 2500\n",
      "units_1: 2500\n",
      "units_2: 2500\n",
      "Score: 0.5329153537750244\n",
      "Trial summary\n",
      "Hyperparameters:\n",
      "num_layers: 2\n",
      "units_0: 2500\n",
      "units_1: 2500\n",
      "units_2: 2500\n",
      "units_3: 2500\n",
      "Score: 0.5109717945257822\n"
     ]
    }
   ],
   "source": [
    "def tune_model(hp):\n",
    "    model = keras.Sequential()\n",
    "    for i in range(hp.Int(\"num_layers\", min_value=2, max_value=4, step=1)):\n",
    "        model.add(layers.Dense(units=hp.Int(\"units_\" + str(i), min_value=2500, max_value=5000, step=2500), \n",
    "                               activation=\"relu\"))\n",
    "    \n",
    "    model.add(layers.Dense(1, activation=\"sigmoid\"))\n",
    "    model.compile(optimizer=\"adam\", loss=\"binary_crossentropy\",\n",
    "                metrics=[\"accuracy\", \"TruePositives\", \"TrueNegatives\",\n",
    "                         \"FalsePositives\", \"FalseNegatives\"])\n",
    "    return model\n",
    "\n",
    "tuner_acc = RandomSearch(\n",
    "    tune_model, objective=\"val_accuracy\", \n",
    "    max_trials=10, executions_per_trial=3, project_name=\"nlp_project\"\n",
    ")\n",
    "\n",
    "tuner_acc.search_space_summary()\n",
    "\n",
    "tuner_acc.search(x_train2.values,\n",
    "                 y_train2.values,\n",
    "                 epochs=40,\n",
    "                 batch_size=500,\n",
    "                 validation_data=(x_val2.values, y_val2.values),\n",
    "                 callbacks=[keras.callbacks.EarlyStopping(monitor=\"val_loss\", patience=3)])\n",
    "\n",
    "tuner_acc.results_summary()"
   ]
  },
  {
   "cell_type": "markdown",
   "id": "enabling-surgeon",
   "metadata": {},
   "source": [
    "num_layers: 3\n",
    "units_0: 5000\n",
    "units_1: 2500\n",
    "units_2: 2500"
   ]
  },
  {
   "cell_type": "code",
   "execution_count": 109,
   "id": "approximate-olive",
   "metadata": {},
   "outputs": [],
   "source": [
    "def best_model(layer_info):\n",
    "    model = keras.Sequential()\n",
    "    for i in range(len(layer_info)):\n",
    "        model.add(layers.Dense(layer_info[i], activation=\"relu\"))\n",
    "    \n",
    "    model.add(layers.Dense(1, activation=\"sigmoid\"))\n",
    "    model.compile(optimizer=\"adam\", loss=\"binary_crossentropy\",\n",
    "                metrics=[\"accuracy\", \n",
    "                         \"TruePositives\", \"TrueNegatives\",\n",
    "                         \"FalsePositives\", \"FalseNegatives\"])\n",
    "    return model"
   ]
  },
  {
   "cell_type": "code",
   "execution_count": 115,
   "id": "thermal-preview",
   "metadata": {
    "scrolled": true
   },
   "outputs": [
    {
     "name": "stdout",
     "output_type": "stream",
     "text": [
      "Epoch 1/40\n",
      "3/3 [==============================] - 2s 429ms/step - loss: 0.9052 - accuracy: 0.5275 - true_positives: 364.0000 - true_negatives: 169.5000 - false_positives: 301.0000 - false_negatives: 176.5000 - val_loss: 0.6899 - val_accuracy: 0.5329 - val_true_positives: 170.0000 - val_true_negatives: 0.0000e+00 - val_false_positives: 149.0000 - val_false_negatives: 0.0000e+00\n",
      "Epoch 2/40\n",
      "3/3 [==============================] - 1s 248ms/step - loss: 0.6693 - accuracy: 0.6896 - true_positives: 484.0000 - true_negatives: 237.7500 - false_positives: 233.5000 - false_negatives: 55.7500 - val_loss: 0.6899 - val_accuracy: 0.5423 - val_true_positives: 170.0000 - val_true_negatives: 3.0000 - val_false_positives: 146.0000 - val_false_negatives: 0.0000e+00\n",
      "Epoch 3/40\n",
      "3/3 [==============================] - 1s 244ms/step - loss: 0.6384 - accuracy: 0.8841 - true_positives: 503.7500 - true_negatives: 392.0000 - false_positives: 78.5000 - false_negatives: 36.7500 - val_loss: 0.6890 - val_accuracy: 0.5674 - val_true_positives: 162.0000 - val_true_negatives: 19.0000 - val_false_positives: 130.0000 - val_false_negatives: 8.0000\n",
      "Epoch 4/40\n",
      "3/3 [==============================] - 1s 264ms/step - loss: 0.5498 - accuracy: 0.9425 - true_positives: 487.0000 - true_negatives: 461.0000 - false_positives: 16.0000 - false_negatives: 47.0000 - val_loss: 0.7130 - val_accuracy: 0.5423 - val_true_positives: 170.0000 - val_true_negatives: 3.0000 - val_false_positives: 146.0000 - val_false_negatives: 0.0000e+00\n",
      "Epoch 5/40\n",
      "3/3 [==============================] - 1s 274ms/step - loss: 0.3952 - accuracy: 0.9359 - true_positives: 509.2500 - true_negatives: 438.7500 - false_positives: 37.0000 - false_negatives: 26.0000 - val_loss: 0.8265 - val_accuracy: 0.5423 - val_true_positives: 170.0000 - val_true_negatives: 3.0000 - val_false_positives: 146.0000 - val_false_negatives: 0.0000e+00\n",
      "Epoch 6/40\n",
      "3/3 [==============================] - 1s 266ms/step - loss: 0.2342 - accuracy: 0.9547 - true_positives: 519.7500 - true_negatives: 446.0000 - false_positives: 26.0000 - false_negatives: 19.2500 - val_loss: 1.0292 - val_accuracy: 0.5486 - val_true_positives: 168.0000 - val_true_negatives: 7.0000 - val_false_positives: 142.0000 - val_false_negatives: 2.0000\n"
     ]
    },
    {
     "data": {
      "text/plain": [
       "<tensorflow.python.keras.callbacks.History at 0x2993b9400>"
      ]
     },
     "execution_count": 115,
     "metadata": {},
     "output_type": "execute_result"
    }
   ],
   "source": [
    "model = best_model([5000, 2500, 2500])\n",
    "model.fit(x_train2.values, y_train2.values, epochs=40, batch_size=500,\n",
    "                   validation_data=(x_val2.values, y_val2.values),\n",
    "                   callbacks=[keras.callbacks.EarlyStopping(monitor=\"val_loss\", patience=3)])"
   ]
  },
  {
   "cell_type": "code",
   "execution_count": 116,
   "id": "comprehensive-interpretation",
   "metadata": {},
   "outputs": [
    {
     "name": "stdout",
     "output_type": "stream",
     "text": [
      "Overall accuracy:\n",
      "13/13 [==============================] - 0s 11ms/step - loss: 1.0121 - accuracy: 0.5477 - true_positives: 211.0000 - true_negatives: 7.0000 - false_positives: 173.0000 - false_negatives: 7.0000\n"
     ]
    },
    {
     "data": {
      "text/plain": [
       "[1.012126088142395, 0.5477386713027954, 211.0, 7.0, 173.0, 7.0]"
      ]
     },
     "execution_count": 116,
     "metadata": {},
     "output_type": "execute_result"
    }
   ],
   "source": [
    "print(\"Overall accuracy:\")\n",
    "model.evaluate(x_test2.values, y_test2.values)"
   ]
  },
  {
   "cell_type": "code",
   "execution_count": 117,
   "id": "5NSKnbIUVb1F",
   "metadata": {
    "id": "5NSKnbIUVb1F"
   },
   "outputs": [],
   "source": [
    "topic_df_dup = topic_df.copy(deep = True)\n",
    "topic_df_dup[\"Label\"] = data_processed[\"Label\"]"
   ]
  },
  {
   "cell_type": "code",
   "execution_count": 118,
   "id": "premium-reaction",
   "metadata": {},
   "outputs": [
    {
     "name": "stdout",
     "output_type": "stream",
     "text": [
      "Top1 and label are independent - drop, p = 0.8608105264601221\n",
      "Top2 and label are independent - drop, p = 0.663304714614394\n",
      "Top3 and label are independent - drop, p = 0.742957269973023\n",
      "Top4 and label are independent - drop, p = 0.3965128234382518\n",
      "Top5 and label are independent - drop, p = 0.5425433381951693\n",
      "Top6 and label are independent - drop, p = 0.583370324322089\n",
      "Top7 and label are independent - drop, p = 0.814444153679705\n",
      "Top8 and label are independent - drop, p = 0.444745506325847\n",
      "Top9 and label are independent - drop, p = 0.18635360371540055\n",
      "Top10 and label are independent - drop, p = 0.7176505527588355\n",
      "Top11 and label are independent - drop, p = 0.6366970536389743\n",
      "Top12 and label are independent - drop, p = 0.11285002872583934\n",
      "Top13 and label are independent - drop, p = 0.8515433383946387\n",
      "Top14 and label are independent - drop, p = 0.7336514625016264\n",
      "Top15 and label are independent - drop, p = 0.8300364701069047\n",
      "Top16 and label are independent - drop, p = 0.5589626617719347\n",
      "Top17 and label are independent - drop, p = 0.9271720742527856\n",
      "Top18 and label are independent - drop, p = 0.3080361849059646\n",
      "Top19 and label are independent - drop, p = 0.9563347228590446\n",
      "Top20 and label are independent - drop, p = 0.18547452735515035\n",
      "Top21 and label are independent - drop, p = 0.432485212375919\n",
      "Top22 and label are independent - drop, p = 0.14739358110900588\n",
      "Top23 and label may have some relationship - maybe keep, p = 0.09624801812969777\n",
      "Top24 and label are independent - drop, p = 0.27939234083177117\n",
      "Top25 and label are not independent - keep, p = 0.004900586369446363\n"
     ]
    }
   ],
   "source": [
    "from scipy.stats import chi2_contingency\n",
    "SIG = 0.05\n",
    "MOD_SIG = 0.1\n",
    "for col in all_cols:\n",
    "    contingency = pd.crosstab(topic_df_dup[\"Label\"], topic_df_dup[col])\n",
    "    c, p, dof, expected = chi2_contingency(contingency)\n",
    "    if p < SIG:\n",
    "        print(col, \"and label are not independent - keep, p =\", p)\n",
    "    elif p < MOD_SIG:\n",
    "        print(col, \"and label may have some relationship - maybe keep, p =\", p)\n",
    "    else:\n",
    "        print(col, \"and label are independent - drop, p =\", p)"
   ]
  },
  {
   "cell_type": "code",
   "execution_count": 119,
   "id": "brave-polymer",
   "metadata": {},
   "outputs": [],
   "source": [
    "KEEP_FEA = [\"Top25\"]\n",
    "chosen_df = topic_df_dup[KEEP_FEA]"
   ]
  },
  {
   "cell_type": "code",
   "execution_count": 120,
   "id": "thirty-direction",
   "metadata": {},
   "outputs": [],
   "source": [
    "processed_chosen_df = preprocess_df(chosen_df)\n",
    "processed_chosen_df[\"Label\"] = data_processed[\"Label\"]\n",
    "chosen_allfeas = processed_chosen_df.columns.tolist()\n",
    "chosen_allfeas.remove(\"Label\")\n",
    "chosen_x_train2, chosen_x_test2, chosen_y_train2, chosen_y_test2 = train_test_split(processed_chosen_df[chosen_allfeas], processed_chosen_df[\"Label\"],  test_size=0.2, random_state=32)\n",
    "chosen_x_train2, chosen_x_val2, chosen_y_train2, chosen_y_val2 = train_test_split(chosen_x_train2, chosen_y_train2,  test_size=0.2, random_state=32)"
   ]
  },
  {
   "cell_type": "code",
   "execution_count": 121,
   "id": "yellow-responsibility",
   "metadata": {},
   "outputs": [
    {
     "data": {
      "text/plain": [
       "(1272, 100)"
      ]
     },
     "execution_count": 121,
     "metadata": {},
     "output_type": "execute_result"
    }
   ],
   "source": [
    "chosen_x_train2.shape"
   ]
  },
  {
   "cell_type": "code",
   "execution_count": 122,
   "id": "august-framework",
   "metadata": {
    "scrolled": true
   },
   "outputs": [
    {
     "name": "stdout",
     "output_type": "stream",
     "text": [
      "Trial 10 Complete [00h 00m 04s]\n",
      "val_accuracy: 0.5193312565485636\n",
      "\n",
      "Best val_accuracy So Far: 0.5454545418421427\n",
      "Total elapsed time: 00h 00m 38s\n",
      "INFO:tensorflow:Oracle triggered exit\n",
      "Results summary\n",
      "Results in ./nlp_project4\n",
      "Showing 10 best trials\n",
      "Objective(name='val_accuracy', direction='max')\n",
      "Trial summary\n",
      "Hyperparameters:\n",
      "num_layers: 2\n",
      "units_0: 150\n",
      "units_1: 250\n",
      "units_2: 300\n",
      "units_3: 150\n",
      "Score: 0.5454545418421427\n",
      "Trial summary\n",
      "Hyperparameters:\n",
      "num_layers: 2\n",
      "units_0: 150\n",
      "units_1: 250\n",
      "Score: 0.5360501607259115\n",
      "Trial summary\n",
      "Hyperparameters:\n",
      "num_layers: 4\n",
      "units_0: 200\n",
      "units_1: 100\n",
      "units_2: 100\n",
      "units_3: 100\n",
      "Score: 0.5350052316983541\n",
      "Trial summary\n",
      "Hyperparameters:\n",
      "num_layers: 3\n",
      "units_0: 150\n",
      "units_1: 300\n",
      "units_2: 250\n",
      "Score: 0.5339602828025818\n",
      "Trial summary\n",
      "Hyperparameters:\n",
      "num_layers: 3\n",
      "units_0: 250\n",
      "units_1: 250\n",
      "units_2: 100\n",
      "Score: 0.531870424747467\n",
      "Trial summary\n",
      "Hyperparameters:\n",
      "num_layers: 3\n",
      "units_0: 200\n",
      "units_1: 250\n",
      "units_2: 250\n",
      "Score: 0.5308254957199097\n",
      "Trial summary\n",
      "Hyperparameters:\n",
      "num_layers: 3\n",
      "units_0: 300\n",
      "units_1: 250\n",
      "units_2: 200\n",
      "Score: 0.52873561779658\n",
      "Trial summary\n",
      "Hyperparameters:\n",
      "num_layers: 3\n",
      "units_0: 250\n",
      "units_1: 300\n",
      "units_2: 200\n",
      "Score: 0.5276906887690226\n",
      "Trial summary\n",
      "Hyperparameters:\n",
      "num_layers: 3\n",
      "units_0: 200\n",
      "units_1: 150\n",
      "units_2: 150\n",
      "Score: 0.5245559016863505\n",
      "Trial summary\n",
      "Hyperparameters:\n",
      "num_layers: 3\n",
      "units_0: 250\n",
      "units_1: 300\n",
      "units_2: 250\n",
      "units_3: 200\n",
      "Score: 0.5193312565485636\n"
     ]
    }
   ],
   "source": [
    "def tune_model(hp):\n",
    "    model = keras.Sequential()\n",
    "    for i in range(hp.Int(\"num_layers\", min_value=2, max_value=4, step=1)):\n",
    "        model.add(layers.Dense(units=hp.Int(\"units_\" + str(i), min_value=100, max_value=300, step=50), activation=\"relu\"))\n",
    "    \n",
    "    model.add(layers.Dense(1, activation=\"sigmoid\"))\n",
    "    model.compile(optimizer=\"adam\", loss=\"binary_crossentropy\",\n",
    "                metrics=[\"accuracy\", \"TruePositives\", \"TrueNegatives\",\n",
    "                         \"FalsePositives\", \"FalseNegatives\"])\n",
    "    return model\n",
    "\n",
    "chosen_tuner_acc = RandomSearch(\n",
    "    tune_model, objective=\"val_accuracy\", \n",
    "    max_trials=10, executions_per_trial=3, project_name=\"nlp_project4\"\n",
    ")\n",
    "\n",
    "chosen_tuner_acc.search_space_summary()\n",
    "\n",
    "chosen_tuner_acc.search(chosen_x_train2.values,\n",
    "                 chosen_y_train2.values,\n",
    "                 epochs=40,\n",
    "                 batch_size=100,\n",
    "                 validation_data=(chosen_x_val2.values, chosen_y_val2.values),\n",
    "                 callbacks=[keras.callbacks.EarlyStopping(monitor=\"val_loss\", patience=3)])\n",
    "\n",
    "chosen_tuner_acc.results_summary()"
   ]
  },
  {
   "cell_type": "markdown",
   "id": "billion-antique",
   "metadata": {},
   "source": [
    "num_layers: 2\n",
    "units_0: 150\n",
    "units_1: 250"
   ]
  },
  {
   "cell_type": "code",
   "execution_count": 123,
   "id": "destroyed-expense",
   "metadata": {},
   "outputs": [],
   "source": [
    "chosen_best_model = best_model([150,250])"
   ]
  },
  {
   "cell_type": "code",
   "execution_count": 125,
   "id": "prime-gardening",
   "metadata": {},
   "outputs": [
    {
     "name": "stdout",
     "output_type": "stream",
     "text": [
      "Epoch 1/40\n",
      "13/13 [==============================] - 0s 6ms/step - loss: 0.6639 - accuracy: 0.6211 - true_positives: 516.0000 - true_negatives: 274.0000 - false_positives: 321.0000 - false_negatives: 161.0000 - val_loss: 0.7103 - val_accuracy: 0.4922 - val_true_positives: 111.0000 - val_true_negatives: 46.0000 - val_false_positives: 103.0000 - val_false_negatives: 59.0000\n",
      "Epoch 2/40\n",
      "13/13 [==============================] - 0s 3ms/step - loss: 0.6573 - accuracy: 0.6281 - true_positives: 488.0000 - true_negatives: 311.0000 - false_positives: 284.0000 - false_negatives: 189.0000 - val_loss: 0.7198 - val_accuracy: 0.4828 - val_true_positives: 107.0000 - val_true_negatives: 47.0000 - val_false_positives: 102.0000 - val_false_negatives: 63.0000\n",
      "Epoch 3/40\n",
      "13/13 [==============================] - 0s 4ms/step - loss: 0.6521 - accuracy: 0.6250 - true_positives: 467.0000 - true_negatives: 328.0000 - false_positives: 267.0000 - false_negatives: 210.0000 - val_loss: 0.7290 - val_accuracy: 0.4796 - val_true_positives: 96.0000 - val_true_negatives: 57.0000 - val_false_positives: 92.0000 - val_false_negatives: 74.0000\n",
      "Epoch 4/40\n",
      "13/13 [==============================] - 0s 3ms/step - loss: 0.6471 - accuracy: 0.6281 - true_positives: 489.0000 - true_negatives: 310.0000 - false_positives: 285.0000 - false_negatives: 188.0000 - val_loss: 0.7369 - val_accuracy: 0.4890 - val_true_positives: 90.0000 - val_true_negatives: 66.0000 - val_false_positives: 83.0000 - val_false_negatives: 80.0000\n",
      "Epoch 5/40\n",
      "13/13 [==============================] - 0s 3ms/step - loss: 0.6447 - accuracy: 0.6274 - true_positives: 475.0000 - true_negatives: 323.0000 - false_positives: 272.0000 - false_negatives: 202.0000 - val_loss: 0.7444 - val_accuracy: 0.4890 - val_true_positives: 94.0000 - val_true_negatives: 62.0000 - val_false_positives: 87.0000 - val_false_negatives: 76.0000\n",
      "Epoch 6/40\n",
      "13/13 [==============================] - 0s 3ms/step - loss: 0.6425 - accuracy: 0.6376 - true_positives: 452.0000 - true_negatives: 359.0000 - false_positives: 236.0000 - false_negatives: 225.0000 - val_loss: 0.7544 - val_accuracy: 0.4953 - val_true_positives: 93.0000 - val_true_negatives: 65.0000 - val_false_positives: 84.0000 - val_false_negatives: 77.0000\n"
     ]
    },
    {
     "data": {
      "text/plain": [
       "<tensorflow.python.keras.callbacks.History at 0x2f5501940>"
      ]
     },
     "execution_count": 125,
     "metadata": {},
     "output_type": "execute_result"
    }
   ],
   "source": [
    "chosen_best_model.fit(chosen_x_train2.values, chosen_y_train2.values, epochs=40, batch_size=100,\n",
    "                   validation_data=(chosen_x_val2.values, chosen_y_val2.values),\n",
    "                   callbacks=[keras.callbacks.EarlyStopping(monitor=\"val_loss\", patience=5)])"
   ]
  },
  {
   "cell_type": "code",
   "execution_count": 126,
   "id": "ahead-fantasy",
   "metadata": {},
   "outputs": [
    {
     "name": "stdout",
     "output_type": "stream",
     "text": [
      "13/13 [==============================] - 0s 676us/step - loss: 0.7136 - accuracy: 0.5402 - true_positives: 119.0000 - true_negatives: 96.0000 - false_positives: 84.0000 - false_negatives: 99.0000\n"
     ]
    },
    {
     "data": {
      "text/plain": [
       "[0.7135671377182007, 0.5402010083198547, 119.0, 96.0, 84.0, 99.0]"
      ]
     },
     "execution_count": 126,
     "metadata": {},
     "output_type": "execute_result"
    }
   ],
   "source": [
    "chosen_best_model.evaluate(chosen_x_test2, chosen_y_test2)"
   ]
  },
  {
   "cell_type": "code",
   "execution_count": null,
   "id": "precious-translator",
   "metadata": {},
   "outputs": [],
   "source": []
  }
 ],
 "metadata": {
  "colab": {
   "collapsed_sections": [
    "angry-handle",
    "moving-summary"
   ],
   "name": "Copy of Copy of NLP Project - Final - updated.ipynb",
   "provenance": []
  },
  "kernelspec": {
   "display_name": "Python 3",
   "language": "python",
   "name": "python3"
  },
  "language_info": {
   "codemirror_mode": {
    "name": "ipython",
    "version": 3
   },
   "file_extension": ".py",
   "mimetype": "text/x-python",
   "name": "python",
   "nbconvert_exporter": "python",
   "pygments_lexer": "ipython3",
   "version": "3.8.6"
  }
 },
 "nbformat": 4,
 "nbformat_minor": 5
}
